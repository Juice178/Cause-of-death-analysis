{
 "cells": [
  {
   "cell_type": "code",
   "execution_count": 738,
   "metadata": {
    "scrolled": true
   },
   "outputs": [
    {
     "data": {
      "text/plain": [
       "'/Users/kentasuzuki/data_gov/play_ground'"
      ]
     },
     "execution_count": 738,
     "metadata": {},
     "output_type": "execute_result"
    }
   ],
   "source": [
    "pwd"
   ]
  },
  {
   "cell_type": "code",
   "execution_count": 739,
   "metadata": {},
   "outputs": [
    {
     "name": "stdout",
     "output_type": "stream",
     "text": [
      "Mental_Health_Engagement_in_Care.csv\r\n",
      "NCHS_-_Childhood_Mortality_Rates.csv\r\n",
      "NCHS_-_Drug_Poisoning_Mortality_by_County__United_States.csv\r\n",
      "NCHS_-_Potentially_Excess_Deaths_from_the_Five_Leading_Causes_of_Death.csv\r\n",
      "NCHS_-_Top_Five_Leading_Causes_of_Death__United_States__1990__1950__2000.csv\r\n",
      "PSI_90_and_Component_Measures_-_Six-Digit_Precision.csv\r\n",
      "Patient_Survey__PCH_-_HCAHPS__PPS-exempt_Cancer_Hospital___National.csv\r\n",
      "Rates_of_TBI-related_Emergency_Department_Visits__Hospitalizations__and_Deaths_by_Sex_-_United_States__2001___2010.csv\r\n",
      "U.S._Chronic_Disease_Indicators__CDI_.csv\r\n",
      "cardiacarrestsurvivalpm102-revised.csv\r\n",
      "res_cancer_deaths_-_column_chart_ndpu-wxfn.csv\r\n"
     ]
    }
   ],
   "source": [
    "ls ../datasets"
   ]
  },
  {
   "cell_type": "code",
   "execution_count": 740,
   "metadata": {},
   "outputs": [],
   "source": [
    "import pandas as pd\n",
    "import numpy as np\n",
    "import matplotlib.pyplot as plt\n",
    "%matplotlib inline\n",
    "import seaborn as sns;\n",
    "sns.set();"
   ]
  },
  {
   "cell_type": "code",
   "execution_count": 741,
   "metadata": {},
   "outputs": [],
   "source": [
    "data_file = \"NCHS_-_Potentially_Excess_Deaths_from_the_Five_Leading_Causes_of_Death.csv\""
   ]
  },
  {
   "cell_type": "markdown",
   "metadata": {},
   "source": [
    "<p><a href=\"https://www.cdc.gov/nchs/data-visualization/potentially-excess-deaths/index.htm\"> data is avaiable here</a></p>\n",
    "<p><a href=\"https://data.cdc.gov/NCHS/NCHS-Potentially-Excess-Deaths-from-the-Five-Leadi/vdpk-qzpr\">Data here</a></p>"
   ]
  },
  {
   "cell_type": "code",
   "execution_count": 742,
   "metadata": {},
   "outputs": [],
   "source": [
    "data = pd.read_csv(\"../datasets/\" + data_file)"
   ]
  },
  {
   "cell_type": "code",
   "execution_count": null,
   "metadata": {},
   "outputs": [],
   "source": []
  },
  {
   "cell_type": "code",
   "execution_count": 743,
   "metadata": {},
   "outputs": [
    {
     "data": {
      "text/plain": [
       "(205920, 13)"
      ]
     },
     "execution_count": 743,
     "metadata": {},
     "output_type": "execute_result"
    }
   ],
   "source": [
    "data.shape"
   ]
  },
  {
   "cell_type": "code",
   "execution_count": 744,
   "metadata": {},
   "outputs": [
    {
     "data": {
      "text/html": [
       "<div>\n",
       "<style>\n",
       "    .dataframe thead tr:only-child th {\n",
       "        text-align: right;\n",
       "    }\n",
       "\n",
       "    .dataframe thead th {\n",
       "        text-align: left;\n",
       "    }\n",
       "\n",
       "    .dataframe tbody tr th {\n",
       "        vertical-align: top;\n",
       "    }\n",
       "</style>\n",
       "<table border=\"1\" class=\"dataframe\">\n",
       "  <thead>\n",
       "    <tr style=\"text-align: right;\">\n",
       "      <th></th>\n",
       "      <th>Year</th>\n",
       "      <th>Cause of Death</th>\n",
       "      <th>State</th>\n",
       "      <th>State FIPS Code</th>\n",
       "      <th>HHS Region</th>\n",
       "      <th>Age Range</th>\n",
       "      <th>Benchmark</th>\n",
       "      <th>Locality</th>\n",
       "      <th>Observed Deaths</th>\n",
       "      <th>Population</th>\n",
       "      <th>Expected Deaths</th>\n",
       "      <th>Potentially Excess Deaths</th>\n",
       "      <th>Percent Potentially Excess Deaths</th>\n",
       "    </tr>\n",
       "  </thead>\n",
       "  <tbody>\n",
       "    <tr>\n",
       "      <th>0</th>\n",
       "      <td>2005</td>\n",
       "      <td>Cancer</td>\n",
       "      <td>Alabama</td>\n",
       "      <td>AL</td>\n",
       "      <td>4</td>\n",
       "      <td>0-49</td>\n",
       "      <td>2005 Fixed</td>\n",
       "      <td>All</td>\n",
       "      <td>756.0</td>\n",
       "      <td>3148377.0</td>\n",
       "      <td>451.0</td>\n",
       "      <td>305.0</td>\n",
       "      <td>40.3%</td>\n",
       "    </tr>\n",
       "    <tr>\n",
       "      <th>1</th>\n",
       "      <td>2005</td>\n",
       "      <td>Cancer</td>\n",
       "      <td>Alabama</td>\n",
       "      <td>AL</td>\n",
       "      <td>4</td>\n",
       "      <td>0-49</td>\n",
       "      <td>2005 Fixed</td>\n",
       "      <td>Metropolitan</td>\n",
       "      <td>556.0</td>\n",
       "      <td>2379871.0</td>\n",
       "      <td>341.0</td>\n",
       "      <td>217.0</td>\n",
       "      <td>39%</td>\n",
       "    </tr>\n",
       "    <tr>\n",
       "      <th>2</th>\n",
       "      <td>2005</td>\n",
       "      <td>Cancer</td>\n",
       "      <td>Alabama</td>\n",
       "      <td>AL</td>\n",
       "      <td>4</td>\n",
       "      <td>0-49</td>\n",
       "      <td>2005 Fixed</td>\n",
       "      <td>Nonmetropolitan</td>\n",
       "      <td>200.0</td>\n",
       "      <td>768506.0</td>\n",
       "      <td>111.0</td>\n",
       "      <td>89.0</td>\n",
       "      <td>44.5%</td>\n",
       "    </tr>\n",
       "    <tr>\n",
       "      <th>3</th>\n",
       "      <td>2005</td>\n",
       "      <td>Cancer</td>\n",
       "      <td>Alabama</td>\n",
       "      <td>AL</td>\n",
       "      <td>4</td>\n",
       "      <td>0-49</td>\n",
       "      <td>2010 Fixed</td>\n",
       "      <td>All</td>\n",
       "      <td>756.0</td>\n",
       "      <td>3148377.0</td>\n",
       "      <td>421.0</td>\n",
       "      <td>335.0</td>\n",
       "      <td>44.3%</td>\n",
       "    </tr>\n",
       "    <tr>\n",
       "      <th>4</th>\n",
       "      <td>2005</td>\n",
       "      <td>Cancer</td>\n",
       "      <td>Alabama</td>\n",
       "      <td>AL</td>\n",
       "      <td>4</td>\n",
       "      <td>0-49</td>\n",
       "      <td>2010 Fixed</td>\n",
       "      <td>Metropolitan</td>\n",
       "      <td>556.0</td>\n",
       "      <td>2379871.0</td>\n",
       "      <td>318.0</td>\n",
       "      <td>238.0</td>\n",
       "      <td>42.8%</td>\n",
       "    </tr>\n",
       "    <tr>\n",
       "      <th>5</th>\n",
       "      <td>2005</td>\n",
       "      <td>Cancer</td>\n",
       "      <td>Alabama</td>\n",
       "      <td>AL</td>\n",
       "      <td>4</td>\n",
       "      <td>0-49</td>\n",
       "      <td>2010 Fixed</td>\n",
       "      <td>Nonmetropolitan</td>\n",
       "      <td>200.0</td>\n",
       "      <td>768506.0</td>\n",
       "      <td>103.0</td>\n",
       "      <td>97.0</td>\n",
       "      <td>48.5%</td>\n",
       "    </tr>\n",
       "    <tr>\n",
       "      <th>6</th>\n",
       "      <td>2005</td>\n",
       "      <td>Cancer</td>\n",
       "      <td>Alabama</td>\n",
       "      <td>AL</td>\n",
       "      <td>4</td>\n",
       "      <td>0-49</td>\n",
       "      <td>Floating</td>\n",
       "      <td>All</td>\n",
       "      <td>756.0</td>\n",
       "      <td>3148377.0</td>\n",
       "      <td>451.0</td>\n",
       "      <td>305.0</td>\n",
       "      <td>40.3%</td>\n",
       "    </tr>\n",
       "    <tr>\n",
       "      <th>7</th>\n",
       "      <td>2005</td>\n",
       "      <td>Cancer</td>\n",
       "      <td>Alabama</td>\n",
       "      <td>AL</td>\n",
       "      <td>4</td>\n",
       "      <td>0-49</td>\n",
       "      <td>Floating</td>\n",
       "      <td>Metropolitan</td>\n",
       "      <td>556.0</td>\n",
       "      <td>2379871.0</td>\n",
       "      <td>341.0</td>\n",
       "      <td>217.0</td>\n",
       "      <td>39%</td>\n",
       "    </tr>\n",
       "    <tr>\n",
       "      <th>8</th>\n",
       "      <td>2005</td>\n",
       "      <td>Cancer</td>\n",
       "      <td>Alabama</td>\n",
       "      <td>AL</td>\n",
       "      <td>4</td>\n",
       "      <td>0-49</td>\n",
       "      <td>Floating</td>\n",
       "      <td>Nonmetropolitan</td>\n",
       "      <td>200.0</td>\n",
       "      <td>768506.0</td>\n",
       "      <td>111.0</td>\n",
       "      <td>89.0</td>\n",
       "      <td>44.5%</td>\n",
       "    </tr>\n",
       "    <tr>\n",
       "      <th>9</th>\n",
       "      <td>2005</td>\n",
       "      <td>Cancer</td>\n",
       "      <td>Alabama</td>\n",
       "      <td>AL</td>\n",
       "      <td>4</td>\n",
       "      <td>0-54</td>\n",
       "      <td>2005 Fixed</td>\n",
       "      <td>All</td>\n",
       "      <td>1346.0</td>\n",
       "      <td>3463216.0</td>\n",
       "      <td>784.0</td>\n",
       "      <td>562.0</td>\n",
       "      <td>41.8%</td>\n",
       "    </tr>\n",
       "  </tbody>\n",
       "</table>\n",
       "</div>"
      ],
      "text/plain": [
       "   Year Cause of Death    State State FIPS Code  HHS Region Age Range  \\\n",
       "0  2005         Cancer  Alabama              AL           4      0-49   \n",
       "1  2005         Cancer  Alabama              AL           4      0-49   \n",
       "2  2005         Cancer  Alabama              AL           4      0-49   \n",
       "3  2005         Cancer  Alabama              AL           4      0-49   \n",
       "4  2005         Cancer  Alabama              AL           4      0-49   \n",
       "5  2005         Cancer  Alabama              AL           4      0-49   \n",
       "6  2005         Cancer  Alabama              AL           4      0-49   \n",
       "7  2005         Cancer  Alabama              AL           4      0-49   \n",
       "8  2005         Cancer  Alabama              AL           4      0-49   \n",
       "9  2005         Cancer  Alabama              AL           4      0-54   \n",
       "\n",
       "    Benchmark         Locality  Observed Deaths  Population  Expected Deaths  \\\n",
       "0  2005 Fixed              All            756.0   3148377.0            451.0   \n",
       "1  2005 Fixed     Metropolitan            556.0   2379871.0            341.0   \n",
       "2  2005 Fixed  Nonmetropolitan            200.0    768506.0            111.0   \n",
       "3  2010 Fixed              All            756.0   3148377.0            421.0   \n",
       "4  2010 Fixed     Metropolitan            556.0   2379871.0            318.0   \n",
       "5  2010 Fixed  Nonmetropolitan            200.0    768506.0            103.0   \n",
       "6    Floating              All            756.0   3148377.0            451.0   \n",
       "7    Floating     Metropolitan            556.0   2379871.0            341.0   \n",
       "8    Floating  Nonmetropolitan            200.0    768506.0            111.0   \n",
       "9  2005 Fixed              All           1346.0   3463216.0            784.0   \n",
       "\n",
       "   Potentially Excess Deaths Percent Potentially Excess Deaths  \n",
       "0                      305.0                             40.3%  \n",
       "1                      217.0                               39%  \n",
       "2                       89.0                             44.5%  \n",
       "3                      335.0                             44.3%  \n",
       "4                      238.0                             42.8%  \n",
       "5                       97.0                             48.5%  \n",
       "6                      305.0                             40.3%  \n",
       "7                      217.0                               39%  \n",
       "8                       89.0                             44.5%  \n",
       "9                      562.0                             41.8%  "
      ]
     },
     "execution_count": 744,
     "metadata": {},
     "output_type": "execute_result"
    }
   ],
   "source": [
    "data.head(n=10)"
   ]
  },
  {
   "cell_type": "code",
   "execution_count": 745,
   "metadata": {},
   "outputs": [
    {
     "name": "stdout",
     "output_type": "stream",
     "text": [
      "(205920, 13)\n"
     ]
    }
   ],
   "source": [
    "print(data.shape)"
   ]
  },
  {
   "cell_type": "code",
   "execution_count": 746,
   "metadata": {},
   "outputs": [
    {
     "data": {
      "text/html": [
       "<div>\n",
       "<style>\n",
       "    .dataframe thead tr:only-child th {\n",
       "        text-align: right;\n",
       "    }\n",
       "\n",
       "    .dataframe thead th {\n",
       "        text-align: left;\n",
       "    }\n",
       "\n",
       "    .dataframe tbody tr th {\n",
       "        vertical-align: top;\n",
       "    }\n",
       "</style>\n",
       "<table border=\"1\" class=\"dataframe\">\n",
       "  <thead>\n",
       "    <tr style=\"text-align: right;\">\n",
       "      <th></th>\n",
       "      <th>Year</th>\n",
       "      <th>HHS Region</th>\n",
       "      <th>Observed Deaths</th>\n",
       "      <th>Population</th>\n",
       "      <th>Expected Deaths</th>\n",
       "      <th>Potentially Excess Deaths</th>\n",
       "    </tr>\n",
       "  </thead>\n",
       "  <tbody>\n",
       "    <tr>\n",
       "      <th>count</th>\n",
       "      <td>205920.000000</td>\n",
       "      <td>205920.000000</td>\n",
       "      <td>195708.000000</td>\n",
       "      <td>2.006400e+05</td>\n",
       "      <td>195708.000000</td>\n",
       "      <td>195708.000000</td>\n",
       "    </tr>\n",
       "    <tr>\n",
       "      <th>mean</th>\n",
       "      <td>2010.000000</td>\n",
       "      <td>5.230769</td>\n",
       "      <td>2974.568490</td>\n",
       "      <td>7.008421e+06</td>\n",
       "      <td>2112.863092</td>\n",
       "      <td>875.121043</td>\n",
       "    </tr>\n",
       "    <tr>\n",
       "      <th>std</th>\n",
       "      <td>3.162285</td>\n",
       "      <td>2.798464</td>\n",
       "      <td>17164.665931</td>\n",
       "      <td>2.861818e+07</td>\n",
       "      <td>13291.617895</td>\n",
       "      <td>4410.206402</td>\n",
       "    </tr>\n",
       "    <tr>\n",
       "      <th>min</th>\n",
       "      <td>2005.000000</td>\n",
       "      <td>0.000000</td>\n",
       "      <td>10.000000</td>\n",
       "      <td>5.553600e+04</td>\n",
       "      <td>2.000000</td>\n",
       "      <td>0.000000</td>\n",
       "    </tr>\n",
       "    <tr>\n",
       "      <th>25%</th>\n",
       "      <td>2007.000000</td>\n",
       "      <td>3.000000</td>\n",
       "      <td>155.000000</td>\n",
       "      <td>6.828258e+05</td>\n",
       "      <td>92.000000</td>\n",
       "      <td>41.000000</td>\n",
       "    </tr>\n",
       "    <tr>\n",
       "      <th>50%</th>\n",
       "      <td>2010.000000</td>\n",
       "      <td>5.000000</td>\n",
       "      <td>508.000000</td>\n",
       "      <td>1.610936e+06</td>\n",
       "      <td>298.000000</td>\n",
       "      <td>159.000000</td>\n",
       "    </tr>\n",
       "    <tr>\n",
       "      <th>75%</th>\n",
       "      <td>2013.000000</td>\n",
       "      <td>8.000000</td>\n",
       "      <td>1586.000000</td>\n",
       "      <td>4.681585e+06</td>\n",
       "      <td>1019.000000</td>\n",
       "      <td>543.000000</td>\n",
       "    </tr>\n",
       "    <tr>\n",
       "      <th>max</th>\n",
       "      <td>2015.000000</td>\n",
       "      <td>10.000000</td>\n",
       "      <td>493526.000000</td>\n",
       "      <td>3.151317e+08</td>\n",
       "      <td>465126.000000</td>\n",
       "      <td>175703.000000</td>\n",
       "    </tr>\n",
       "  </tbody>\n",
       "</table>\n",
       "</div>"
      ],
      "text/plain": [
       "                Year     HHS Region  Observed Deaths    Population  \\\n",
       "count  205920.000000  205920.000000    195708.000000  2.006400e+05   \n",
       "mean     2010.000000       5.230769      2974.568490  7.008421e+06   \n",
       "std         3.162285       2.798464     17164.665931  2.861818e+07   \n",
       "min      2005.000000       0.000000        10.000000  5.553600e+04   \n",
       "25%      2007.000000       3.000000       155.000000  6.828258e+05   \n",
       "50%      2010.000000       5.000000       508.000000  1.610936e+06   \n",
       "75%      2013.000000       8.000000      1586.000000  4.681585e+06   \n",
       "max      2015.000000      10.000000    493526.000000  3.151317e+08   \n",
       "\n",
       "       Expected Deaths  Potentially Excess Deaths  \n",
       "count    195708.000000              195708.000000  \n",
       "mean       2112.863092                 875.121043  \n",
       "std       13291.617895                4410.206402  \n",
       "min           2.000000                   0.000000  \n",
       "25%          92.000000                  41.000000  \n",
       "50%         298.000000                 159.000000  \n",
       "75%        1019.000000                 543.000000  \n",
       "max      465126.000000              175703.000000  "
      ]
     },
     "execution_count": 746,
     "metadata": {},
     "output_type": "execute_result"
    }
   ],
   "source": [
    "data.describe()"
   ]
  },
  {
   "cell_type": "code",
   "execution_count": 747,
   "metadata": {},
   "outputs": [
    {
     "name": "stdout",
     "output_type": "stream",
     "text": [
      "[2005 2006 2007 2008 2009 2010 2011 2012 2013 2014 2015]\n"
     ]
    }
   ],
   "source": [
    "print(np.unique(data[\"Year\"]))"
   ]
  },
  {
   "cell_type": "code",
   "execution_count": 748,
   "metadata": {},
   "outputs": [
    {
     "name": "stdout",
     "output_type": "stream",
     "text": [
      "52\n",
      "52\n"
     ]
    }
   ],
   "source": [
    "# State and FIPS Code represent the same state\n",
    "print(len(np.unique(data[\"State\"])))\n",
    "print(len(np.unique(data[\"State FIPS Code\"])))\n"
   ]
  },
  {
   "cell_type": "code",
   "execution_count": 749,
   "metadata": {},
   "outputs": [
    {
     "name": "stdout",
     "output_type": "stream",
     "text": [
      "['Alabama' 'Alaska' 'Arizona' 'Arkansas' 'California' 'Colorado'\n",
      " 'Connecticut' 'Delaware' 'District of\\nColumbia' 'Florida' 'Georgia'\n",
      " 'Hawaii' 'Idaho' 'Illinois' 'Indiana' 'Iowa' 'Kansas' 'Kentucky'\n",
      " 'Louisiana' 'Maine' 'Maryland' 'Massachusetts' 'Michigan' 'Minnesota'\n",
      " 'Mississippi' 'Missouri' 'Montana' 'Nebraska' 'Nevada' 'New Hampshire'\n",
      " 'New Jersey' 'New Mexico' 'New York' 'North Carolina' 'North Dakota'\n",
      " 'Ohio' 'Oklahoma' 'Oregon' 'Pennsylvania' 'Rhode Island' 'South Carolina'\n",
      " 'South Dakota' 'Tennessee' 'Texas' 'United States' 'Utah' 'Vermont'\n",
      " 'Virginia' 'Washington' 'West Virginia' 'Wisconsin' 'Wyoming']\n",
      "['0' 'AK' 'AL' 'AR' 'AZ' 'CA' 'CO' 'CT' 'DC' 'DE' 'FL' 'GA' 'HI' 'IA' 'ID'\n",
      " 'IL' 'IN' 'KS' 'KY' 'LA' 'MA' 'MD' 'ME' 'MI' 'MN' 'MO' 'MS' 'MT' 'NC' 'ND'\n",
      " 'NE' 'NH' 'NJ' 'NM' 'NV' 'NY' 'OH' 'OK' 'OR' 'PA' 'RI' 'SC' 'SD' 'TN' 'TX'\n",
      " 'UT' 'VA' 'VT' 'WA' 'WI' 'WV' 'WY']\n"
     ]
    }
   ],
   "source": [
    "print(np.unique(data[\"State\"]))\n",
    "print(np.unique(data[\"State FIPS Code\"]))"
   ]
  },
  {
   "cell_type": "code",
   "execution_count": 750,
   "metadata": {},
   "outputs": [
    {
     "name": "stdout",
     "output_type": "stream",
     "text": [
      "11\n",
      "[ 0  1  2  3  4  5  6  7  8  9 10]\n"
     ]
    }
   ],
   "source": [
    "# The number of each region of States:\n",
    "# 0: United States, 1: Boston ,etc.\n",
    "print(len(np.unique(data[\"HHS Region\"])))\n",
    "print(np.unique(data[\"HHS Region\"]))"
   ]
  },
  {
   "cell_type": "code",
   "execution_count": 751,
   "metadata": {},
   "outputs": [
    {
     "name": "stdout",
     "output_type": "stream",
     "text": [
      "Regions that is assigned number, 0\n",
      "['United States']\n"
     ]
    }
   ],
   "source": [
    "print(\"Regions that is assigned number, 0\")\n",
    "print(np.unique(data[data[\"HHS Region\"] == 0][\"State\"]))"
   ]
  },
  {
   "cell_type": "code",
   "execution_count": 752,
   "metadata": {},
   "outputs": [
    {
     "name": "stdout",
     "output_type": "stream",
     "text": [
      "['0-49' '0-54' '0-59' '0-64' '0-69' '0-74' '0-79' '0-84']\n"
     ]
    }
   ],
   "source": [
    "print(np.unique(data[\"Age Range\"]))"
   ]
  },
  {
   "cell_type": "code",
   "execution_count": 753,
   "metadata": {},
   "outputs": [
    {
     "name": "stdout",
     "output_type": "stream",
     "text": [
      "[False  True]\n",
      "142521\n",
      "63399\n"
     ]
    }
   ],
   "source": [
    "# Potentially Excess Deaths := Obsereved Deaths - Expected Deaths\n",
    "# Although there are some miscalculations\n",
    "# https://www.cdc.gov/nchs/data-visualization/potentially-excess-deaths/\n",
    "boolean_holder = (data[\"Observed Deaths\"] - data[\"Expected Deaths\"]) == data[\"Potentially Excess Deaths\"]\n",
    "print(np.unique(boolean_holder))\n",
    "print((boolean_holder == True).sum())\n",
    "print((boolean_holder == False).sum())"
   ]
  },
  {
   "cell_type": "code",
   "execution_count": 754,
   "metadata": {},
   "outputs": [
    {
     "data": {
      "text/plain": [
       "0     True\n",
       "1    False\n",
       "2     True\n",
       "3     True\n",
       "4     True\n",
       "dtype: bool"
      ]
     },
     "execution_count": 754,
     "metadata": {},
     "output_type": "execute_result"
    }
   ],
   "source": [
    "boolean_holder.head()"
   ]
  },
  {
   "cell_type": "markdown",
   "metadata": {},
   "source": [
    "<h3>Check whethere there are any missing data</h3>"
   ]
  },
  {
   "cell_type": "code",
   "execution_count": 755,
   "metadata": {},
   "outputs": [
    {
     "data": {
      "text/plain": [
       "True"
      ]
     },
     "execution_count": 755,
     "metadata": {},
     "output_type": "execute_result"
    }
   ],
   "source": [
    "data.isnull().values.any()"
   ]
  },
  {
   "cell_type": "code",
   "execution_count": 756,
   "metadata": {
    "scrolled": true
   },
   "outputs": [
    {
     "data": {
      "text/plain": [
       "Year                                     0\n",
       "Cause of Death                           0\n",
       "State                                    0\n",
       "State FIPS Code                          0\n",
       "HHS Region                               0\n",
       "Age Range                                0\n",
       "Benchmark                                0\n",
       "Locality                                 0\n",
       "Observed Deaths                      10212\n",
       "Population                            5280\n",
       "Expected Deaths                      10212\n",
       "Potentially Excess Deaths            10212\n",
       "Percent Potentially Excess Deaths    10212\n",
       "dtype: int64"
      ]
     },
     "execution_count": 756,
     "metadata": {},
     "output_type": "execute_result"
    }
   ],
   "source": [
    "data.isnull().sum()"
   ]
  },
  {
   "cell_type": "code",
   "execution_count": 757,
   "metadata": {},
   "outputs": [
    {
     "name": "stdout",
     "output_type": "stream",
     "text": [
      "18280\n"
     ]
    }
   ],
   "source": [
    "print(len(np.unique(data['Population'])))"
   ]
  },
  {
   "cell_type": "code",
   "execution_count": 758,
   "metadata": {},
   "outputs": [
    {
     "name": "stdout",
     "output_type": "stream",
     "text": [
      "[ 55536.  56325.  56665. ...,     nan     nan     nan]\n"
     ]
    }
   ],
   "source": [
    "print(np.unique(data['Population']))"
   ]
  },
  {
   "cell_type": "code",
   "execution_count": 759,
   "metadata": {},
   "outputs": [
    {
     "data": {
      "text/html": [
       "<div>\n",
       "<style>\n",
       "    .dataframe thead tr:only-child th {\n",
       "        text-align: right;\n",
       "    }\n",
       "\n",
       "    .dataframe thead th {\n",
       "        text-align: left;\n",
       "    }\n",
       "\n",
       "    .dataframe tbody tr th {\n",
       "        vertical-align: top;\n",
       "    }\n",
       "</style>\n",
       "<table border=\"1\" class=\"dataframe\">\n",
       "  <thead>\n",
       "    <tr style=\"text-align: right;\">\n",
       "      <th></th>\n",
       "      <th>Year</th>\n",
       "      <th>Cause of Death</th>\n",
       "      <th>State</th>\n",
       "      <th>State FIPS Code</th>\n",
       "      <th>HHS Region</th>\n",
       "      <th>Age Range</th>\n",
       "      <th>Benchmark</th>\n",
       "      <th>Locality</th>\n",
       "      <th>Observed Deaths</th>\n",
       "      <th>Population</th>\n",
       "      <th>Expected Deaths</th>\n",
       "      <th>Potentially Excess Deaths</th>\n",
       "      <th>Percent Potentially Excess Deaths</th>\n",
       "    </tr>\n",
       "  </thead>\n",
       "  <tbody>\n",
       "    <tr>\n",
       "      <th>506</th>\n",
       "      <td>2005</td>\n",
       "      <td>Cancer</td>\n",
       "      <td>Delaware</td>\n",
       "      <td>DE</td>\n",
       "      <td>3</td>\n",
       "      <td>0-49</td>\n",
       "      <td>2005 Fixed</td>\n",
       "      <td>Nonmetropolitan</td>\n",
       "      <td>NaN</td>\n",
       "      <td>NaN</td>\n",
       "      <td>NaN</td>\n",
       "      <td>NaN</td>\n",
       "      <td>NaN</td>\n",
       "    </tr>\n",
       "    <tr>\n",
       "      <th>509</th>\n",
       "      <td>2005</td>\n",
       "      <td>Cancer</td>\n",
       "      <td>Delaware</td>\n",
       "      <td>DE</td>\n",
       "      <td>3</td>\n",
       "      <td>0-49</td>\n",
       "      <td>2010 Fixed</td>\n",
       "      <td>Nonmetropolitan</td>\n",
       "      <td>NaN</td>\n",
       "      <td>NaN</td>\n",
       "      <td>NaN</td>\n",
       "      <td>NaN</td>\n",
       "      <td>NaN</td>\n",
       "    </tr>\n",
       "    <tr>\n",
       "      <th>512</th>\n",
       "      <td>2005</td>\n",
       "      <td>Cancer</td>\n",
       "      <td>Delaware</td>\n",
       "      <td>DE</td>\n",
       "      <td>3</td>\n",
       "      <td>0-49</td>\n",
       "      <td>Floating</td>\n",
       "      <td>Nonmetropolitan</td>\n",
       "      <td>NaN</td>\n",
       "      <td>NaN</td>\n",
       "      <td>NaN</td>\n",
       "      <td>NaN</td>\n",
       "      <td>NaN</td>\n",
       "    </tr>\n",
       "    <tr>\n",
       "      <th>515</th>\n",
       "      <td>2005</td>\n",
       "      <td>Cancer</td>\n",
       "      <td>Delaware</td>\n",
       "      <td>DE</td>\n",
       "      <td>3</td>\n",
       "      <td>0-54</td>\n",
       "      <td>2005 Fixed</td>\n",
       "      <td>Nonmetropolitan</td>\n",
       "      <td>NaN</td>\n",
       "      <td>NaN</td>\n",
       "      <td>NaN</td>\n",
       "      <td>NaN</td>\n",
       "      <td>NaN</td>\n",
       "    </tr>\n",
       "    <tr>\n",
       "      <th>518</th>\n",
       "      <td>2005</td>\n",
       "      <td>Cancer</td>\n",
       "      <td>Delaware</td>\n",
       "      <td>DE</td>\n",
       "      <td>3</td>\n",
       "      <td>0-54</td>\n",
       "      <td>2010 Fixed</td>\n",
       "      <td>Nonmetropolitan</td>\n",
       "      <td>NaN</td>\n",
       "      <td>NaN</td>\n",
       "      <td>NaN</td>\n",
       "      <td>NaN</td>\n",
       "      <td>NaN</td>\n",
       "    </tr>\n",
       "  </tbody>\n",
       "</table>\n",
       "</div>"
      ],
      "text/plain": [
       "     Year Cause of Death     State State FIPS Code  HHS Region Age Range  \\\n",
       "506  2005         Cancer  Delaware              DE           3      0-49   \n",
       "509  2005         Cancer  Delaware              DE           3      0-49   \n",
       "512  2005         Cancer  Delaware              DE           3      0-49   \n",
       "515  2005         Cancer  Delaware              DE           3      0-54   \n",
       "518  2005         Cancer  Delaware              DE           3      0-54   \n",
       "\n",
       "      Benchmark         Locality  Observed Deaths  Population  \\\n",
       "506  2005 Fixed  Nonmetropolitan              NaN         NaN   \n",
       "509  2010 Fixed  Nonmetropolitan              NaN         NaN   \n",
       "512    Floating  Nonmetropolitan              NaN         NaN   \n",
       "515  2005 Fixed  Nonmetropolitan              NaN         NaN   \n",
       "518  2010 Fixed  Nonmetropolitan              NaN         NaN   \n",
       "\n",
       "     Expected Deaths  Potentially Excess Deaths  \\\n",
       "506              NaN                        NaN   \n",
       "509              NaN                        NaN   \n",
       "512              NaN                        NaN   \n",
       "515              NaN                        NaN   \n",
       "518              NaN                        NaN   \n",
       "\n",
       "    Percent Potentially Excess Deaths  \n",
       "506                               NaN  \n",
       "509                               NaN  \n",
       "512                               NaN  \n",
       "515                               NaN  \n",
       "518                               NaN  "
      ]
     },
     "execution_count": 759,
     "metadata": {},
     "output_type": "execute_result"
    }
   ],
   "source": [
    "data[data['Population'].isnull()].head()"
   ]
  },
  {
   "cell_type": "code",
   "execution_count": 760,
   "metadata": {},
   "outputs": [],
   "source": [
    "nullIndex = data[data['Population'].isnull()].index"
   ]
  },
  {
   "cell_type": "code",
   "execution_count": 761,
   "metadata": {},
   "outputs": [
    {
     "name": "stdout",
     "output_type": "stream",
     "text": [
      "(5280, 13)\n",
      "[2005 2006 2007 2008 2009 2010 2011 2012 2013 2014 2015] ['Delaware' 'District of\\nColumbia' 'New Jersey' 'Rhode Island']\n"
     ]
    }
   ],
   "source": [
    "print(data.loc[nullIndex].shape)\n",
    "print(np.unique(data.loc[nullIndex]['Year']), np.unique(data.loc[nullIndex]['State']))"
   ]
  },
  {
   "cell_type": "markdown",
   "metadata": {},
   "source": [
    "<p>There are missing value in samples whose locality is Nonmetropolitan</p>\n",
    "<p>Thus, fill missing values with previous value</p>"
   ]
  },
  {
   "cell_type": "code",
   "execution_count": 762,
   "metadata": {},
   "outputs": [
    {
     "data": {
      "text/html": [
       "<div>\n",
       "<style>\n",
       "    .dataframe thead tr:only-child th {\n",
       "        text-align: right;\n",
       "    }\n",
       "\n",
       "    .dataframe thead th {\n",
       "        text-align: left;\n",
       "    }\n",
       "\n",
       "    .dataframe tbody tr th {\n",
       "        vertical-align: top;\n",
       "    }\n",
       "</style>\n",
       "<table border=\"1\" class=\"dataframe\">\n",
       "  <thead>\n",
       "    <tr style=\"text-align: right;\">\n",
       "      <th></th>\n",
       "      <th>Year</th>\n",
       "      <th>Cause of Death</th>\n",
       "      <th>State</th>\n",
       "      <th>State FIPS Code</th>\n",
       "      <th>HHS Region</th>\n",
       "      <th>Age Range</th>\n",
       "      <th>Benchmark</th>\n",
       "      <th>Locality</th>\n",
       "      <th>Observed Deaths</th>\n",
       "      <th>Population</th>\n",
       "      <th>Expected Deaths</th>\n",
       "      <th>Potentially Excess Deaths</th>\n",
       "      <th>Percent Potentially Excess Deaths</th>\n",
       "    </tr>\n",
       "  </thead>\n",
       "  <tbody>\n",
       "    <tr>\n",
       "      <th>504</th>\n",
       "      <td>2005</td>\n",
       "      <td>Cancer</td>\n",
       "      <td>Delaware</td>\n",
       "      <td>DE</td>\n",
       "      <td>3</td>\n",
       "      <td>0-49</td>\n",
       "      <td>2005 Fixed</td>\n",
       "      <td>All</td>\n",
       "      <td>106.0</td>\n",
       "      <td>583236.0</td>\n",
       "      <td>85.0</td>\n",
       "      <td>24.0</td>\n",
       "      <td>22.6%</td>\n",
       "    </tr>\n",
       "    <tr>\n",
       "      <th>505</th>\n",
       "      <td>2005</td>\n",
       "      <td>Cancer</td>\n",
       "      <td>Delaware</td>\n",
       "      <td>DE</td>\n",
       "      <td>3</td>\n",
       "      <td>0-49</td>\n",
       "      <td>2005 Fixed</td>\n",
       "      <td>Metropolitan</td>\n",
       "      <td>106.0</td>\n",
       "      <td>583236.0</td>\n",
       "      <td>85.0</td>\n",
       "      <td>24.0</td>\n",
       "      <td>22.6%</td>\n",
       "    </tr>\n",
       "    <tr>\n",
       "      <th>506</th>\n",
       "      <td>2005</td>\n",
       "      <td>Cancer</td>\n",
       "      <td>Delaware</td>\n",
       "      <td>DE</td>\n",
       "      <td>3</td>\n",
       "      <td>0-49</td>\n",
       "      <td>2005 Fixed</td>\n",
       "      <td>Nonmetropolitan</td>\n",
       "      <td>NaN</td>\n",
       "      <td>NaN</td>\n",
       "      <td>NaN</td>\n",
       "      <td>NaN</td>\n",
       "      <td>NaN</td>\n",
       "    </tr>\n",
       "    <tr>\n",
       "      <th>507</th>\n",
       "      <td>2005</td>\n",
       "      <td>Cancer</td>\n",
       "      <td>Delaware</td>\n",
       "      <td>DE</td>\n",
       "      <td>3</td>\n",
       "      <td>0-49</td>\n",
       "      <td>2010 Fixed</td>\n",
       "      <td>All</td>\n",
       "      <td>106.0</td>\n",
       "      <td>583236.0</td>\n",
       "      <td>80.0</td>\n",
       "      <td>28.0</td>\n",
       "      <td>26.4%</td>\n",
       "    </tr>\n",
       "    <tr>\n",
       "      <th>508</th>\n",
       "      <td>2005</td>\n",
       "      <td>Cancer</td>\n",
       "      <td>Delaware</td>\n",
       "      <td>DE</td>\n",
       "      <td>3</td>\n",
       "      <td>0-49</td>\n",
       "      <td>2010 Fixed</td>\n",
       "      <td>Metropolitan</td>\n",
       "      <td>106.0</td>\n",
       "      <td>583236.0</td>\n",
       "      <td>80.0</td>\n",
       "      <td>28.0</td>\n",
       "      <td>26.4%</td>\n",
       "    </tr>\n",
       "  </tbody>\n",
       "</table>\n",
       "</div>"
      ],
      "text/plain": [
       "     Year Cause of Death     State State FIPS Code  HHS Region Age Range  \\\n",
       "504  2005         Cancer  Delaware              DE           3      0-49   \n",
       "505  2005         Cancer  Delaware              DE           3      0-49   \n",
       "506  2005         Cancer  Delaware              DE           3      0-49   \n",
       "507  2005         Cancer  Delaware              DE           3      0-49   \n",
       "508  2005         Cancer  Delaware              DE           3      0-49   \n",
       "\n",
       "      Benchmark         Locality  Observed Deaths  Population  \\\n",
       "504  2005 Fixed              All            106.0    583236.0   \n",
       "505  2005 Fixed     Metropolitan            106.0    583236.0   \n",
       "506  2005 Fixed  Nonmetropolitan              NaN         NaN   \n",
       "507  2010 Fixed              All            106.0    583236.0   \n",
       "508  2010 Fixed     Metropolitan            106.0    583236.0   \n",
       "\n",
       "     Expected Deaths  Potentially Excess Deaths  \\\n",
       "504             85.0                       24.0   \n",
       "505             85.0                       24.0   \n",
       "506              NaN                        NaN   \n",
       "507             80.0                       28.0   \n",
       "508             80.0                       28.0   \n",
       "\n",
       "    Percent Potentially Excess Deaths  \n",
       "504                             22.6%  \n",
       "505                             22.6%  \n",
       "506                               NaN  \n",
       "507                             26.4%  \n",
       "508                             26.4%  "
      ]
     },
     "execution_count": 762,
     "metadata": {},
     "output_type": "execute_result"
    }
   ],
   "source": [
    "data[data['State'] == 'Delaware'].head()"
   ]
  },
  {
   "cell_type": "code",
   "execution_count": 763,
   "metadata": {
    "scrolled": true
   },
   "outputs": [
    {
     "data": {
      "text/html": [
       "<div>\n",
       "<style>\n",
       "    .dataframe thead tr:only-child th {\n",
       "        text-align: right;\n",
       "    }\n",
       "\n",
       "    .dataframe thead th {\n",
       "        text-align: left;\n",
       "    }\n",
       "\n",
       "    .dataframe tbody tr th {\n",
       "        vertical-align: top;\n",
       "    }\n",
       "</style>\n",
       "<table border=\"1\" class=\"dataframe\">\n",
       "  <thead>\n",
       "    <tr style=\"text-align: right;\">\n",
       "      <th></th>\n",
       "      <th>Year</th>\n",
       "      <th>Cause of Death</th>\n",
       "      <th>State</th>\n",
       "      <th>State FIPS Code</th>\n",
       "      <th>HHS Region</th>\n",
       "      <th>Age Range</th>\n",
       "      <th>Benchmark</th>\n",
       "      <th>Locality</th>\n",
       "      <th>Observed Deaths</th>\n",
       "      <th>Population</th>\n",
       "      <th>Expected Deaths</th>\n",
       "      <th>Potentially Excess Deaths</th>\n",
       "      <th>Percent Potentially Excess Deaths</th>\n",
       "    </tr>\n",
       "  </thead>\n",
       "  <tbody>\n",
       "    <tr>\n",
       "      <th>576</th>\n",
       "      <td>2005</td>\n",
       "      <td>Cancer</td>\n",
       "      <td>District of\\nColumbia</td>\n",
       "      <td>DC</td>\n",
       "      <td>3</td>\n",
       "      <td>0-49</td>\n",
       "      <td>2005 Fixed</td>\n",
       "      <td>All</td>\n",
       "      <td>93.0</td>\n",
       "      <td>405409.0</td>\n",
       "      <td>56.0</td>\n",
       "      <td>39.0</td>\n",
       "      <td>41.9%</td>\n",
       "    </tr>\n",
       "    <tr>\n",
       "      <th>577</th>\n",
       "      <td>2005</td>\n",
       "      <td>Cancer</td>\n",
       "      <td>District of\\nColumbia</td>\n",
       "      <td>DC</td>\n",
       "      <td>3</td>\n",
       "      <td>0-49</td>\n",
       "      <td>2005 Fixed</td>\n",
       "      <td>Metropolitan</td>\n",
       "      <td>93.0</td>\n",
       "      <td>405409.0</td>\n",
       "      <td>56.0</td>\n",
       "      <td>39.0</td>\n",
       "      <td>41.9%</td>\n",
       "    </tr>\n",
       "    <tr>\n",
       "      <th>578</th>\n",
       "      <td>2005</td>\n",
       "      <td>Cancer</td>\n",
       "      <td>District of\\nColumbia</td>\n",
       "      <td>DC</td>\n",
       "      <td>3</td>\n",
       "      <td>0-49</td>\n",
       "      <td>2005 Fixed</td>\n",
       "      <td>Nonmetropolitan</td>\n",
       "      <td>NaN</td>\n",
       "      <td>NaN</td>\n",
       "      <td>NaN</td>\n",
       "      <td>NaN</td>\n",
       "      <td>NaN</td>\n",
       "    </tr>\n",
       "    <tr>\n",
       "      <th>579</th>\n",
       "      <td>2005</td>\n",
       "      <td>Cancer</td>\n",
       "      <td>District of\\nColumbia</td>\n",
       "      <td>DC</td>\n",
       "      <td>3</td>\n",
       "      <td>0-49</td>\n",
       "      <td>2010 Fixed</td>\n",
       "      <td>All</td>\n",
       "      <td>93.0</td>\n",
       "      <td>405409.0</td>\n",
       "      <td>52.0</td>\n",
       "      <td>42.0</td>\n",
       "      <td>45.2%</td>\n",
       "    </tr>\n",
       "    <tr>\n",
       "      <th>580</th>\n",
       "      <td>2005</td>\n",
       "      <td>Cancer</td>\n",
       "      <td>District of\\nColumbia</td>\n",
       "      <td>DC</td>\n",
       "      <td>3</td>\n",
       "      <td>0-49</td>\n",
       "      <td>2010 Fixed</td>\n",
       "      <td>Metropolitan</td>\n",
       "      <td>93.0</td>\n",
       "      <td>405409.0</td>\n",
       "      <td>52.0</td>\n",
       "      <td>42.0</td>\n",
       "      <td>45.2%</td>\n",
       "    </tr>\n",
       "    <tr>\n",
       "      <th>581</th>\n",
       "      <td>2005</td>\n",
       "      <td>Cancer</td>\n",
       "      <td>District of\\nColumbia</td>\n",
       "      <td>DC</td>\n",
       "      <td>3</td>\n",
       "      <td>0-49</td>\n",
       "      <td>2010 Fixed</td>\n",
       "      <td>Nonmetropolitan</td>\n",
       "      <td>NaN</td>\n",
       "      <td>NaN</td>\n",
       "      <td>NaN</td>\n",
       "      <td>NaN</td>\n",
       "      <td>NaN</td>\n",
       "    </tr>\n",
       "    <tr>\n",
       "      <th>582</th>\n",
       "      <td>2005</td>\n",
       "      <td>Cancer</td>\n",
       "      <td>District of\\nColumbia</td>\n",
       "      <td>DC</td>\n",
       "      <td>3</td>\n",
       "      <td>0-49</td>\n",
       "      <td>Floating</td>\n",
       "      <td>All</td>\n",
       "      <td>93.0</td>\n",
       "      <td>405409.0</td>\n",
       "      <td>56.0</td>\n",
       "      <td>39.0</td>\n",
       "      <td>41.9%</td>\n",
       "    </tr>\n",
       "    <tr>\n",
       "      <th>583</th>\n",
       "      <td>2005</td>\n",
       "      <td>Cancer</td>\n",
       "      <td>District of\\nColumbia</td>\n",
       "      <td>DC</td>\n",
       "      <td>3</td>\n",
       "      <td>0-49</td>\n",
       "      <td>Floating</td>\n",
       "      <td>Metropolitan</td>\n",
       "      <td>93.0</td>\n",
       "      <td>405409.0</td>\n",
       "      <td>56.0</td>\n",
       "      <td>39.0</td>\n",
       "      <td>41.9%</td>\n",
       "    </tr>\n",
       "    <tr>\n",
       "      <th>584</th>\n",
       "      <td>2005</td>\n",
       "      <td>Cancer</td>\n",
       "      <td>District of\\nColumbia</td>\n",
       "      <td>DC</td>\n",
       "      <td>3</td>\n",
       "      <td>0-49</td>\n",
       "      <td>Floating</td>\n",
       "      <td>Nonmetropolitan</td>\n",
       "      <td>NaN</td>\n",
       "      <td>NaN</td>\n",
       "      <td>NaN</td>\n",
       "      <td>NaN</td>\n",
       "      <td>NaN</td>\n",
       "    </tr>\n",
       "  </tbody>\n",
       "</table>\n",
       "</div>"
      ],
      "text/plain": [
       "     Year Cause of Death                  State State FIPS Code  HHS Region  \\\n",
       "576  2005         Cancer  District of\\nColumbia              DC           3   \n",
       "577  2005         Cancer  District of\\nColumbia              DC           3   \n",
       "578  2005         Cancer  District of\\nColumbia              DC           3   \n",
       "579  2005         Cancer  District of\\nColumbia              DC           3   \n",
       "580  2005         Cancer  District of\\nColumbia              DC           3   \n",
       "581  2005         Cancer  District of\\nColumbia              DC           3   \n",
       "582  2005         Cancer  District of\\nColumbia              DC           3   \n",
       "583  2005         Cancer  District of\\nColumbia              DC           3   \n",
       "584  2005         Cancer  District of\\nColumbia              DC           3   \n",
       "\n",
       "    Age Range   Benchmark         Locality  Observed Deaths  Population  \\\n",
       "576      0-49  2005 Fixed              All             93.0    405409.0   \n",
       "577      0-49  2005 Fixed     Metropolitan             93.0    405409.0   \n",
       "578      0-49  2005 Fixed  Nonmetropolitan              NaN         NaN   \n",
       "579      0-49  2010 Fixed              All             93.0    405409.0   \n",
       "580      0-49  2010 Fixed     Metropolitan             93.0    405409.0   \n",
       "581      0-49  2010 Fixed  Nonmetropolitan              NaN         NaN   \n",
       "582      0-49    Floating              All             93.0    405409.0   \n",
       "583      0-49    Floating     Metropolitan             93.0    405409.0   \n",
       "584      0-49    Floating  Nonmetropolitan              NaN         NaN   \n",
       "\n",
       "     Expected Deaths  Potentially Excess Deaths  \\\n",
       "576             56.0                       39.0   \n",
       "577             56.0                       39.0   \n",
       "578              NaN                        NaN   \n",
       "579             52.0                       42.0   \n",
       "580             52.0                       42.0   \n",
       "581              NaN                        NaN   \n",
       "582             56.0                       39.0   \n",
       "583             56.0                       39.0   \n",
       "584              NaN                        NaN   \n",
       "\n",
       "    Percent Potentially Excess Deaths  \n",
       "576                             41.9%  \n",
       "577                             41.9%  \n",
       "578                               NaN  \n",
       "579                             45.2%  \n",
       "580                             45.2%  \n",
       "581                               NaN  \n",
       "582                             41.9%  \n",
       "583                             41.9%  \n",
       "584                               NaN  "
      ]
     },
     "execution_count": 763,
     "metadata": {},
     "output_type": "execute_result"
    }
   ],
   "source": [
    "data[data['State'] == 'District of\\nColumbia'].head(n=9)"
   ]
  },
  {
   "cell_type": "code",
   "execution_count": 764,
   "metadata": {},
   "outputs": [],
   "source": [
    "data = data.fillna(method='ffill')"
   ]
  },
  {
   "cell_type": "code",
   "execution_count": 765,
   "metadata": {},
   "outputs": [
    {
     "data": {
      "text/plain": [
       "Year                                 0\n",
       "Cause of Death                       0\n",
       "State                                0\n",
       "State FIPS Code                      0\n",
       "HHS Region                           0\n",
       "Age Range                            0\n",
       "Benchmark                            0\n",
       "Locality                             0\n",
       "Observed Deaths                      0\n",
       "Population                           0\n",
       "Expected Deaths                      0\n",
       "Potentially Excess Deaths            0\n",
       "Percent Potentially Excess Deaths    0\n",
       "dtype: int64"
      ]
     },
     "execution_count": 765,
     "metadata": {},
     "output_type": "execute_result"
    }
   ],
   "source": [
    "data.isnull().sum()"
   ]
  },
  {
   "cell_type": "code",
   "execution_count": 766,
   "metadata": {},
   "outputs": [
    {
     "name": "stdout",
     "output_type": "stream",
     "text": [
      "(205920, 13)\n"
     ]
    }
   ],
   "source": [
    "print(data.shape)"
   ]
  },
  {
   "cell_type": "code",
   "execution_count": 767,
   "metadata": {},
   "outputs": [
    {
     "data": {
      "text/html": [
       "<div>\n",
       "<style>\n",
       "    .dataframe thead tr:only-child th {\n",
       "        text-align: right;\n",
       "    }\n",
       "\n",
       "    .dataframe thead th {\n",
       "        text-align: left;\n",
       "    }\n",
       "\n",
       "    .dataframe tbody tr th {\n",
       "        vertical-align: top;\n",
       "    }\n",
       "</style>\n",
       "<table border=\"1\" class=\"dataframe\">\n",
       "  <thead>\n",
       "    <tr style=\"text-align: right;\">\n",
       "      <th></th>\n",
       "      <th>Year</th>\n",
       "      <th>HHS Region</th>\n",
       "      <th>Observed Deaths</th>\n",
       "      <th>Population</th>\n",
       "      <th>Expected Deaths</th>\n",
       "      <th>Potentially Excess Deaths</th>\n",
       "    </tr>\n",
       "  </thead>\n",
       "  <tbody>\n",
       "    <tr>\n",
       "      <th>count</th>\n",
       "      <td>205920.000000</td>\n",
       "      <td>205920.000000</td>\n",
       "      <td>205920.000000</td>\n",
       "      <td>2.059200e+05</td>\n",
       "      <td>205920.000000</td>\n",
       "      <td>205920.000000</td>\n",
       "    </tr>\n",
       "    <tr>\n",
       "      <th>mean</th>\n",
       "      <td>2010.000000</td>\n",
       "      <td>5.230769</td>\n",
       "      <td>2856.455900</td>\n",
       "      <td>6.894221e+06</td>\n",
       "      <td>2030.354968</td>\n",
       "      <td>839.081260</td>\n",
       "    </tr>\n",
       "    <tr>\n",
       "      <th>std</th>\n",
       "      <td>3.162285</td>\n",
       "      <td>2.798464</td>\n",
       "      <td>16745.353063</td>\n",
       "      <td>2.827468e+07</td>\n",
       "      <td>12966.146172</td>\n",
       "      <td>4303.196511</td>\n",
       "    </tr>\n",
       "    <tr>\n",
       "      <th>min</th>\n",
       "      <td>2005.000000</td>\n",
       "      <td>0.000000</td>\n",
       "      <td>10.000000</td>\n",
       "      <td>5.553600e+04</td>\n",
       "      <td>2.000000</td>\n",
       "      <td>0.000000</td>\n",
       "    </tr>\n",
       "    <tr>\n",
       "      <th>25%</th>\n",
       "      <td>2007.000000</td>\n",
       "      <td>3.000000</td>\n",
       "      <td>145.000000</td>\n",
       "      <td>6.787578e+05</td>\n",
       "      <td>87.000000</td>\n",
       "      <td>38.000000</td>\n",
       "    </tr>\n",
       "    <tr>\n",
       "      <th>50%</th>\n",
       "      <td>2010.000000</td>\n",
       "      <td>5.000000</td>\n",
       "      <td>481.000000</td>\n",
       "      <td>1.566749e+06</td>\n",
       "      <td>282.000000</td>\n",
       "      <td>150.000000</td>\n",
       "    </tr>\n",
       "    <tr>\n",
       "      <th>75%</th>\n",
       "      <td>2013.000000</td>\n",
       "      <td>8.000000</td>\n",
       "      <td>1510.000000</td>\n",
       "      <td>4.681102e+06</td>\n",
       "      <td>978.000000</td>\n",
       "      <td>515.000000</td>\n",
       "    </tr>\n",
       "    <tr>\n",
       "      <th>max</th>\n",
       "      <td>2015.000000</td>\n",
       "      <td>10.000000</td>\n",
       "      <td>493526.000000</td>\n",
       "      <td>3.151317e+08</td>\n",
       "      <td>465126.000000</td>\n",
       "      <td>175703.000000</td>\n",
       "    </tr>\n",
       "  </tbody>\n",
       "</table>\n",
       "</div>"
      ],
      "text/plain": [
       "                Year     HHS Region  Observed Deaths    Population  \\\n",
       "count  205920.000000  205920.000000    205920.000000  2.059200e+05   \n",
       "mean     2010.000000       5.230769      2856.455900  6.894221e+06   \n",
       "std         3.162285       2.798464     16745.353063  2.827468e+07   \n",
       "min      2005.000000       0.000000        10.000000  5.553600e+04   \n",
       "25%      2007.000000       3.000000       145.000000  6.787578e+05   \n",
       "50%      2010.000000       5.000000       481.000000  1.566749e+06   \n",
       "75%      2013.000000       8.000000      1510.000000  4.681102e+06   \n",
       "max      2015.000000      10.000000    493526.000000  3.151317e+08   \n",
       "\n",
       "       Expected Deaths  Potentially Excess Deaths  \n",
       "count    205920.000000              205920.000000  \n",
       "mean       2030.354968                 839.081260  \n",
       "std       12966.146172                4303.196511  \n",
       "min           2.000000                   0.000000  \n",
       "25%          87.000000                  38.000000  \n",
       "50%         282.000000                 150.000000  \n",
       "75%         978.000000                 515.000000  \n",
       "max      465126.000000              175703.000000  "
      ]
     },
     "execution_count": 767,
     "metadata": {},
     "output_type": "execute_result"
    }
   ],
   "source": [
    "data.describe()"
   ]
  },
  {
   "cell_type": "code",
   "execution_count": null,
   "metadata": {},
   "outputs": [],
   "source": []
  },
  {
   "cell_type": "markdown",
   "metadata": {},
   "source": [
    "<h3>I will drop, following features</h3>\n",
    "<p>Feauture name and reason why I will drop it</p>\n",
    "<ul>\n",
    "    <li>State; Prevent singular matrix(State FIPS Code is the same features) Code is a shorter representation</li>\n",
    "    <li>Expected Deaths, Potentially Excess Deaths, Percent Potentially Excess Deaths; we're not interested in Potentiality of deaths, and formuls for that is unclear to use</li>\n",
    "</ul>"
   ]
  },
  {
   "cell_type": "code",
   "execution_count": null,
   "metadata": {},
   "outputs": [],
   "source": []
  },
  {
   "cell_type": "code",
   "execution_count": null,
   "metadata": {},
   "outputs": [],
   "source": []
  },
  {
   "cell_type": "code",
   "execution_count": null,
   "metadata": {},
   "outputs": [],
   "source": []
  },
  {
   "cell_type": "code",
   "execution_count": 768,
   "metadata": {},
   "outputs": [],
   "source": [
    "reduced_data = data.drop([\"State\",  \"Expected Deaths\", \"Potentially Excess Deaths\", \"Percent Potentially Excess Deaths\"], axis=1)"
   ]
  },
  {
   "cell_type": "code",
   "execution_count": 769,
   "metadata": {},
   "outputs": [
    {
     "name": "stdout",
     "output_type": "stream",
     "text": [
      "(205920, 9)\n"
     ]
    },
    {
     "data": {
      "text/html": [
       "<div>\n",
       "<style>\n",
       "    .dataframe thead tr:only-child th {\n",
       "        text-align: right;\n",
       "    }\n",
       "\n",
       "    .dataframe thead th {\n",
       "        text-align: left;\n",
       "    }\n",
       "\n",
       "    .dataframe tbody tr th {\n",
       "        vertical-align: top;\n",
       "    }\n",
       "</style>\n",
       "<table border=\"1\" class=\"dataframe\">\n",
       "  <thead>\n",
       "    <tr style=\"text-align: right;\">\n",
       "      <th></th>\n",
       "      <th>Year</th>\n",
       "      <th>Cause of Death</th>\n",
       "      <th>State FIPS Code</th>\n",
       "      <th>HHS Region</th>\n",
       "      <th>Age Range</th>\n",
       "      <th>Benchmark</th>\n",
       "      <th>Locality</th>\n",
       "      <th>Observed Deaths</th>\n",
       "      <th>Population</th>\n",
       "    </tr>\n",
       "  </thead>\n",
       "  <tbody>\n",
       "    <tr>\n",
       "      <th>0</th>\n",
       "      <td>2005</td>\n",
       "      <td>Cancer</td>\n",
       "      <td>AL</td>\n",
       "      <td>4</td>\n",
       "      <td>0-49</td>\n",
       "      <td>2005 Fixed</td>\n",
       "      <td>All</td>\n",
       "      <td>756.0</td>\n",
       "      <td>3148377.0</td>\n",
       "    </tr>\n",
       "    <tr>\n",
       "      <th>1</th>\n",
       "      <td>2005</td>\n",
       "      <td>Cancer</td>\n",
       "      <td>AL</td>\n",
       "      <td>4</td>\n",
       "      <td>0-49</td>\n",
       "      <td>2005 Fixed</td>\n",
       "      <td>Metropolitan</td>\n",
       "      <td>556.0</td>\n",
       "      <td>2379871.0</td>\n",
       "    </tr>\n",
       "    <tr>\n",
       "      <th>2</th>\n",
       "      <td>2005</td>\n",
       "      <td>Cancer</td>\n",
       "      <td>AL</td>\n",
       "      <td>4</td>\n",
       "      <td>0-49</td>\n",
       "      <td>2005 Fixed</td>\n",
       "      <td>Nonmetropolitan</td>\n",
       "      <td>200.0</td>\n",
       "      <td>768506.0</td>\n",
       "    </tr>\n",
       "    <tr>\n",
       "      <th>3</th>\n",
       "      <td>2005</td>\n",
       "      <td>Cancer</td>\n",
       "      <td>AL</td>\n",
       "      <td>4</td>\n",
       "      <td>0-49</td>\n",
       "      <td>2010 Fixed</td>\n",
       "      <td>All</td>\n",
       "      <td>756.0</td>\n",
       "      <td>3148377.0</td>\n",
       "    </tr>\n",
       "    <tr>\n",
       "      <th>4</th>\n",
       "      <td>2005</td>\n",
       "      <td>Cancer</td>\n",
       "      <td>AL</td>\n",
       "      <td>4</td>\n",
       "      <td>0-49</td>\n",
       "      <td>2010 Fixed</td>\n",
       "      <td>Metropolitan</td>\n",
       "      <td>556.0</td>\n",
       "      <td>2379871.0</td>\n",
       "    </tr>\n",
       "  </tbody>\n",
       "</table>\n",
       "</div>"
      ],
      "text/plain": [
       "   Year Cause of Death State FIPS Code  HHS Region Age Range   Benchmark  \\\n",
       "0  2005         Cancer              AL           4      0-49  2005 Fixed   \n",
       "1  2005         Cancer              AL           4      0-49  2005 Fixed   \n",
       "2  2005         Cancer              AL           4      0-49  2005 Fixed   \n",
       "3  2005         Cancer              AL           4      0-49  2010 Fixed   \n",
       "4  2005         Cancer              AL           4      0-49  2010 Fixed   \n",
       "\n",
       "          Locality  Observed Deaths  Population  \n",
       "0              All            756.0   3148377.0  \n",
       "1     Metropolitan            556.0   2379871.0  \n",
       "2  Nonmetropolitan            200.0    768506.0  \n",
       "3              All            756.0   3148377.0  \n",
       "4     Metropolitan            556.0   2379871.0  "
      ]
     },
     "execution_count": 769,
     "metadata": {},
     "output_type": "execute_result"
    }
   ],
   "source": [
    "print(reduced_data.shape)\n",
    "reduced_data.head()"
   ]
  },
  {
   "cell_type": "markdown",
   "metadata": {},
   "source": [
    "<h3>Drop samples whose Locality is \"All\". This sample consists of Metropolitan and Nonmetropolitan samples and keeping them will cause duplicate samples.</h3>"
   ]
  },
  {
   "cell_type": "code",
   "execution_count": 770,
   "metadata": {},
   "outputs": [],
   "source": [
    "reduced_data = reduced_data[reduced_data[\"Locality\"] != \"All\"]"
   ]
  },
  {
   "cell_type": "code",
   "execution_count": 771,
   "metadata": {},
   "outputs": [
    {
     "name": "stdout",
     "output_type": "stream",
     "text": [
      "(137280, 9)\n"
     ]
    },
    {
     "data": {
      "text/html": [
       "<div>\n",
       "<style>\n",
       "    .dataframe thead tr:only-child th {\n",
       "        text-align: right;\n",
       "    }\n",
       "\n",
       "    .dataframe thead th {\n",
       "        text-align: left;\n",
       "    }\n",
       "\n",
       "    .dataframe tbody tr th {\n",
       "        vertical-align: top;\n",
       "    }\n",
       "</style>\n",
       "<table border=\"1\" class=\"dataframe\">\n",
       "  <thead>\n",
       "    <tr style=\"text-align: right;\">\n",
       "      <th></th>\n",
       "      <th>Year</th>\n",
       "      <th>Cause of Death</th>\n",
       "      <th>State FIPS Code</th>\n",
       "      <th>HHS Region</th>\n",
       "      <th>Age Range</th>\n",
       "      <th>Benchmark</th>\n",
       "      <th>Locality</th>\n",
       "      <th>Observed Deaths</th>\n",
       "      <th>Population</th>\n",
       "    </tr>\n",
       "  </thead>\n",
       "  <tbody>\n",
       "    <tr>\n",
       "      <th>1</th>\n",
       "      <td>2005</td>\n",
       "      <td>Cancer</td>\n",
       "      <td>AL</td>\n",
       "      <td>4</td>\n",
       "      <td>0-49</td>\n",
       "      <td>2005 Fixed</td>\n",
       "      <td>Metropolitan</td>\n",
       "      <td>556.0</td>\n",
       "      <td>2379871.0</td>\n",
       "    </tr>\n",
       "    <tr>\n",
       "      <th>2</th>\n",
       "      <td>2005</td>\n",
       "      <td>Cancer</td>\n",
       "      <td>AL</td>\n",
       "      <td>4</td>\n",
       "      <td>0-49</td>\n",
       "      <td>2005 Fixed</td>\n",
       "      <td>Nonmetropolitan</td>\n",
       "      <td>200.0</td>\n",
       "      <td>768506.0</td>\n",
       "    </tr>\n",
       "    <tr>\n",
       "      <th>4</th>\n",
       "      <td>2005</td>\n",
       "      <td>Cancer</td>\n",
       "      <td>AL</td>\n",
       "      <td>4</td>\n",
       "      <td>0-49</td>\n",
       "      <td>2010 Fixed</td>\n",
       "      <td>Metropolitan</td>\n",
       "      <td>556.0</td>\n",
       "      <td>2379871.0</td>\n",
       "    </tr>\n",
       "    <tr>\n",
       "      <th>5</th>\n",
       "      <td>2005</td>\n",
       "      <td>Cancer</td>\n",
       "      <td>AL</td>\n",
       "      <td>4</td>\n",
       "      <td>0-49</td>\n",
       "      <td>2010 Fixed</td>\n",
       "      <td>Nonmetropolitan</td>\n",
       "      <td>200.0</td>\n",
       "      <td>768506.0</td>\n",
       "    </tr>\n",
       "    <tr>\n",
       "      <th>7</th>\n",
       "      <td>2005</td>\n",
       "      <td>Cancer</td>\n",
       "      <td>AL</td>\n",
       "      <td>4</td>\n",
       "      <td>0-49</td>\n",
       "      <td>Floating</td>\n",
       "      <td>Metropolitan</td>\n",
       "      <td>556.0</td>\n",
       "      <td>2379871.0</td>\n",
       "    </tr>\n",
       "  </tbody>\n",
       "</table>\n",
       "</div>"
      ],
      "text/plain": [
       "   Year Cause of Death State FIPS Code  HHS Region Age Range   Benchmark  \\\n",
       "1  2005         Cancer              AL           4      0-49  2005 Fixed   \n",
       "2  2005         Cancer              AL           4      0-49  2005 Fixed   \n",
       "4  2005         Cancer              AL           4      0-49  2010 Fixed   \n",
       "5  2005         Cancer              AL           4      0-49  2010 Fixed   \n",
       "7  2005         Cancer              AL           4      0-49    Floating   \n",
       "\n",
       "          Locality  Observed Deaths  Population  \n",
       "1     Metropolitan            556.0   2379871.0  \n",
       "2  Nonmetropolitan            200.0    768506.0  \n",
       "4     Metropolitan            556.0   2379871.0  \n",
       "5  Nonmetropolitan            200.0    768506.0  \n",
       "7     Metropolitan            556.0   2379871.0  "
      ]
     },
     "execution_count": 771,
     "metadata": {},
     "output_type": "execute_result"
    }
   ],
   "source": [
    "print(reduced_data.shape)\n",
    "reduced_data.head()"
   ]
  },
  {
   "cell_type": "markdown",
   "metadata": {},
   "source": [
    "<h3>Use Benchmark whose value is 2005 Fixed. This avoids duplicates of samples.</h3>"
   ]
  },
  {
   "cell_type": "code",
   "execution_count": 772,
   "metadata": {},
   "outputs": [
    {
     "name": "stdout",
     "output_type": "stream",
     "text": [
      "(45760, 9)\n"
     ]
    }
   ],
   "source": [
    "reduced_data = reduced_data[reduced_data[\"Benchmark\"] == '2005 Fixed']\n",
    "print(reduced_data.shape)"
   ]
  },
  {
   "cell_type": "markdown",
   "metadata": {},
   "source": [
    "<h3>Drop Benchmark feature since we don't care about \"Potentially Excess Deaths\"</h3>"
   ]
  },
  {
   "cell_type": "code",
   "execution_count": 773,
   "metadata": {},
   "outputs": [],
   "source": [
    "reduced_data.drop(['Benchmark'], axis=1, inplace=True)"
   ]
  },
  {
   "cell_type": "code",
   "execution_count": 774,
   "metadata": {},
   "outputs": [
    {
     "name": "stdout",
     "output_type": "stream",
     "text": [
      "(45760, 8)\n"
     ]
    },
    {
     "data": {
      "text/html": [
       "<div>\n",
       "<style>\n",
       "    .dataframe thead tr:only-child th {\n",
       "        text-align: right;\n",
       "    }\n",
       "\n",
       "    .dataframe thead th {\n",
       "        text-align: left;\n",
       "    }\n",
       "\n",
       "    .dataframe tbody tr th {\n",
       "        vertical-align: top;\n",
       "    }\n",
       "</style>\n",
       "<table border=\"1\" class=\"dataframe\">\n",
       "  <thead>\n",
       "    <tr style=\"text-align: right;\">\n",
       "      <th></th>\n",
       "      <th>Year</th>\n",
       "      <th>Cause of Death</th>\n",
       "      <th>State FIPS Code</th>\n",
       "      <th>HHS Region</th>\n",
       "      <th>Age Range</th>\n",
       "      <th>Locality</th>\n",
       "      <th>Observed Deaths</th>\n",
       "      <th>Population</th>\n",
       "    </tr>\n",
       "  </thead>\n",
       "  <tbody>\n",
       "    <tr>\n",
       "      <th>1</th>\n",
       "      <td>2005</td>\n",
       "      <td>Cancer</td>\n",
       "      <td>AL</td>\n",
       "      <td>4</td>\n",
       "      <td>0-49</td>\n",
       "      <td>Metropolitan</td>\n",
       "      <td>556.0</td>\n",
       "      <td>2379871.0</td>\n",
       "    </tr>\n",
       "    <tr>\n",
       "      <th>2</th>\n",
       "      <td>2005</td>\n",
       "      <td>Cancer</td>\n",
       "      <td>AL</td>\n",
       "      <td>4</td>\n",
       "      <td>0-49</td>\n",
       "      <td>Nonmetropolitan</td>\n",
       "      <td>200.0</td>\n",
       "      <td>768506.0</td>\n",
       "    </tr>\n",
       "    <tr>\n",
       "      <th>10</th>\n",
       "      <td>2005</td>\n",
       "      <td>Cancer</td>\n",
       "      <td>AL</td>\n",
       "      <td>4</td>\n",
       "      <td>0-54</td>\n",
       "      <td>Metropolitan</td>\n",
       "      <td>968.0</td>\n",
       "      <td>2615416.0</td>\n",
       "    </tr>\n",
       "    <tr>\n",
       "      <th>11</th>\n",
       "      <td>2005</td>\n",
       "      <td>Cancer</td>\n",
       "      <td>AL</td>\n",
       "      <td>4</td>\n",
       "      <td>0-54</td>\n",
       "      <td>Nonmetropolitan</td>\n",
       "      <td>378.0</td>\n",
       "      <td>847800.0</td>\n",
       "    </tr>\n",
       "    <tr>\n",
       "      <th>19</th>\n",
       "      <td>2005</td>\n",
       "      <td>Cancer</td>\n",
       "      <td>AL</td>\n",
       "      <td>4</td>\n",
       "      <td>0-59</td>\n",
       "      <td>Metropolitan</td>\n",
       "      <td>1596.0</td>\n",
       "      <td>2823908.0</td>\n",
       "    </tr>\n",
       "    <tr>\n",
       "      <th>20</th>\n",
       "      <td>2005</td>\n",
       "      <td>Cancer</td>\n",
       "      <td>AL</td>\n",
       "      <td>4</td>\n",
       "      <td>0-59</td>\n",
       "      <td>Nonmetropolitan</td>\n",
       "      <td>603.0</td>\n",
       "      <td>923392.0</td>\n",
       "    </tr>\n",
       "    <tr>\n",
       "      <th>28</th>\n",
       "      <td>2005</td>\n",
       "      <td>Cancer</td>\n",
       "      <td>AL</td>\n",
       "      <td>4</td>\n",
       "      <td>0-64</td>\n",
       "      <td>Metropolitan</td>\n",
       "      <td>2325.0</td>\n",
       "      <td>2982884.0</td>\n",
       "    </tr>\n",
       "    <tr>\n",
       "      <th>29</th>\n",
       "      <td>2005</td>\n",
       "      <td>Cancer</td>\n",
       "      <td>AL</td>\n",
       "      <td>4</td>\n",
       "      <td>0-64</td>\n",
       "      <td>Nonmetropolitan</td>\n",
       "      <td>919.0</td>\n",
       "      <td>984819.0</td>\n",
       "    </tr>\n",
       "    <tr>\n",
       "      <th>37</th>\n",
       "      <td>2005</td>\n",
       "      <td>Cancer</td>\n",
       "      <td>AL</td>\n",
       "      <td>4</td>\n",
       "      <td>0-69</td>\n",
       "      <td>Metropolitan</td>\n",
       "      <td>3210.0</td>\n",
       "      <td>3110812.0</td>\n",
       "    </tr>\n",
       "    <tr>\n",
       "      <th>38</th>\n",
       "      <td>2005</td>\n",
       "      <td>Cancer</td>\n",
       "      <td>AL</td>\n",
       "      <td>4</td>\n",
       "      <td>0-69</td>\n",
       "      <td>Nonmetropolitan</td>\n",
       "      <td>1262.0</td>\n",
       "      <td>1036833.0</td>\n",
       "    </tr>\n",
       "  </tbody>\n",
       "</table>\n",
       "</div>"
      ],
      "text/plain": [
       "    Year Cause of Death State FIPS Code  HHS Region Age Range  \\\n",
       "1   2005         Cancer              AL           4      0-49   \n",
       "2   2005         Cancer              AL           4      0-49   \n",
       "10  2005         Cancer              AL           4      0-54   \n",
       "11  2005         Cancer              AL           4      0-54   \n",
       "19  2005         Cancer              AL           4      0-59   \n",
       "20  2005         Cancer              AL           4      0-59   \n",
       "28  2005         Cancer              AL           4      0-64   \n",
       "29  2005         Cancer              AL           4      0-64   \n",
       "37  2005         Cancer              AL           4      0-69   \n",
       "38  2005         Cancer              AL           4      0-69   \n",
       "\n",
       "           Locality  Observed Deaths  Population  \n",
       "1      Metropolitan            556.0   2379871.0  \n",
       "2   Nonmetropolitan            200.0    768506.0  \n",
       "10     Metropolitan            968.0   2615416.0  \n",
       "11  Nonmetropolitan            378.0    847800.0  \n",
       "19     Metropolitan           1596.0   2823908.0  \n",
       "20  Nonmetropolitan            603.0    923392.0  \n",
       "28     Metropolitan           2325.0   2982884.0  \n",
       "29  Nonmetropolitan            919.0    984819.0  \n",
       "37     Metropolitan           3210.0   3110812.0  \n",
       "38  Nonmetropolitan           1262.0   1036833.0  "
      ]
     },
     "execution_count": 774,
     "metadata": {},
     "output_type": "execute_result"
    }
   ],
   "source": [
    "print(reduced_data.shape)\n",
    "reduced_data.head(n=10)"
   ]
  },
  {
   "cell_type": "code",
   "execution_count": 775,
   "metadata": {},
   "outputs": [
    {
     "name": "stdout",
     "output_type": "stream",
     "text": [
      "['0-49' '0-54' '0-59' '0-64' '0-69' '0-74' '0-79' '0-84']\n"
     ]
    }
   ],
   "source": [
    "print(np.unique(reduced_data[\"Age Range\"]))"
   ]
  },
  {
   "cell_type": "markdown",
   "metadata": {},
   "source": [
    "<h3>Adjust the Age Range as follows. We treat Age value as nominal features(categorical values which can be ordered) Also change the corresponding Observed Deaths and population based on the new range of age</h3>\n",
    "<p>New Range of Age</p>\n",
    "<oi>\n",
    "    <li> 0-49 as 1</li>\n",
    "    <li>50-54 as 2</li>\n",
    "    <li>55-59 as 3</li>\n",
    "    <li>60-64 as 4</li>\n",
    "    <li>65-69 as 5</li>\n",
    "    <li>70-79 as 6</li>\n",
    "    <li>80-84 as 7</li>\n",
    "</oli>"
   ]
  },
  {
   "cell_type": "code",
   "execution_count": 776,
   "metadata": {},
   "outputs": [
    {
     "name": "stdout",
     "output_type": "stream",
     "text": [
      "{'0-84': 8, '0-59': 3, '0-54': 2, '0-69': 5, '0-79': 7, '0-49': 1, '0-74': 6, '0-64': 4}\n"
     ]
    }
   ],
   "source": [
    "age_mapping = dict()\n",
    "for index, age in enumerate(np.unique(reduced_data[\"Age Range\"])):\n",
    "    age_mapping[age] = index+1\n",
    "print(age_mapping)"
   ]
  },
  {
   "cell_type": "code",
   "execution_count": 777,
   "metadata": {},
   "outputs": [
    {
     "data": {
      "text/html": [
       "<div>\n",
       "<style>\n",
       "    .dataframe thead tr:only-child th {\n",
       "        text-align: right;\n",
       "    }\n",
       "\n",
       "    .dataframe thead th {\n",
       "        text-align: left;\n",
       "    }\n",
       "\n",
       "    .dataframe tbody tr th {\n",
       "        vertical-align: top;\n",
       "    }\n",
       "</style>\n",
       "<table border=\"1\" class=\"dataframe\">\n",
       "  <thead>\n",
       "    <tr style=\"text-align: right;\">\n",
       "      <th></th>\n",
       "      <th>Year</th>\n",
       "      <th>Cause of Death</th>\n",
       "      <th>State FIPS Code</th>\n",
       "      <th>HHS Region</th>\n",
       "      <th>Age Range</th>\n",
       "      <th>Locality</th>\n",
       "      <th>Observed Deaths</th>\n",
       "      <th>Population</th>\n",
       "    </tr>\n",
       "  </thead>\n",
       "  <tbody>\n",
       "    <tr>\n",
       "      <th>1</th>\n",
       "      <td>2005</td>\n",
       "      <td>Cancer</td>\n",
       "      <td>AL</td>\n",
       "      <td>4</td>\n",
       "      <td>1</td>\n",
       "      <td>Metropolitan</td>\n",
       "      <td>556.0</td>\n",
       "      <td>2379871.0</td>\n",
       "    </tr>\n",
       "    <tr>\n",
       "      <th>2</th>\n",
       "      <td>2005</td>\n",
       "      <td>Cancer</td>\n",
       "      <td>AL</td>\n",
       "      <td>4</td>\n",
       "      <td>1</td>\n",
       "      <td>Nonmetropolitan</td>\n",
       "      <td>200.0</td>\n",
       "      <td>768506.0</td>\n",
       "    </tr>\n",
       "    <tr>\n",
       "      <th>10</th>\n",
       "      <td>2005</td>\n",
       "      <td>Cancer</td>\n",
       "      <td>AL</td>\n",
       "      <td>4</td>\n",
       "      <td>2</td>\n",
       "      <td>Metropolitan</td>\n",
       "      <td>968.0</td>\n",
       "      <td>2615416.0</td>\n",
       "    </tr>\n",
       "    <tr>\n",
       "      <th>11</th>\n",
       "      <td>2005</td>\n",
       "      <td>Cancer</td>\n",
       "      <td>AL</td>\n",
       "      <td>4</td>\n",
       "      <td>2</td>\n",
       "      <td>Nonmetropolitan</td>\n",
       "      <td>378.0</td>\n",
       "      <td>847800.0</td>\n",
       "    </tr>\n",
       "    <tr>\n",
       "      <th>19</th>\n",
       "      <td>2005</td>\n",
       "      <td>Cancer</td>\n",
       "      <td>AL</td>\n",
       "      <td>4</td>\n",
       "      <td>3</td>\n",
       "      <td>Metropolitan</td>\n",
       "      <td>1596.0</td>\n",
       "      <td>2823908.0</td>\n",
       "    </tr>\n",
       "  </tbody>\n",
       "</table>\n",
       "</div>"
      ],
      "text/plain": [
       "    Year Cause of Death State FIPS Code  HHS Region  Age Range  \\\n",
       "1   2005         Cancer              AL           4          1   \n",
       "2   2005         Cancer              AL           4          1   \n",
       "10  2005         Cancer              AL           4          2   \n",
       "11  2005         Cancer              AL           4          2   \n",
       "19  2005         Cancer              AL           4          3   \n",
       "\n",
       "           Locality  Observed Deaths  Population  \n",
       "1      Metropolitan            556.0   2379871.0  \n",
       "2   Nonmetropolitan            200.0    768506.0  \n",
       "10     Metropolitan            968.0   2615416.0  \n",
       "11  Nonmetropolitan            378.0    847800.0  \n",
       "19     Metropolitan           1596.0   2823908.0  "
      ]
     },
     "execution_count": 777,
     "metadata": {},
     "output_type": "execute_result"
    }
   ],
   "source": [
    "reduced_data[\"Age Range\"] = reduced_data[\"Age Range\"].map(age_mapping)\n",
    "reduced_data.head()"
   ]
  },
  {
   "cell_type": "code",
   "execution_count": 778,
   "metadata": {},
   "outputs": [
    {
     "name": "stdout",
     "output_type": "stream",
     "text": [
      "[1 2 3 4 5 6 7 8]\n"
     ]
    }
   ],
   "source": [
    "print(np.unique(reduced_data[\"Age Range\"]))"
   ]
  },
  {
   "cell_type": "code",
   "execution_count": 779,
   "metadata": {},
   "outputs": [
    {
     "data": {
      "text/html": [
       "<div>\n",
       "<style>\n",
       "    .dataframe thead tr:only-child th {\n",
       "        text-align: right;\n",
       "    }\n",
       "\n",
       "    .dataframe thead th {\n",
       "        text-align: left;\n",
       "    }\n",
       "\n",
       "    .dataframe tbody tr th {\n",
       "        vertical-align: top;\n",
       "    }\n",
       "</style>\n",
       "<table border=\"1\" class=\"dataframe\">\n",
       "  <thead>\n",
       "    <tr style=\"text-align: right;\">\n",
       "      <th></th>\n",
       "      <th>Year</th>\n",
       "      <th>Cause of Death</th>\n",
       "      <th>State FIPS Code</th>\n",
       "      <th>HHS Region</th>\n",
       "      <th>Age Range</th>\n",
       "      <th>Locality</th>\n",
       "      <th>Observed Deaths</th>\n",
       "      <th>Population</th>\n",
       "    </tr>\n",
       "  </thead>\n",
       "  <tbody>\n",
       "    <tr>\n",
       "      <th>205895</th>\n",
       "      <td>2015</td>\n",
       "      <td>Unintentional Injury</td>\n",
       "      <td>WY</td>\n",
       "      <td>8</td>\n",
       "      <td>6</td>\n",
       "      <td>Nonmetropolitan</td>\n",
       "      <td>232.0</td>\n",
       "      <td>383497.0</td>\n",
       "    </tr>\n",
       "    <tr>\n",
       "      <th>205903</th>\n",
       "      <td>2015</td>\n",
       "      <td>Unintentional Injury</td>\n",
       "      <td>WY</td>\n",
       "      <td>8</td>\n",
       "      <td>7</td>\n",
       "      <td>Metropolitan</td>\n",
       "      <td>90.0</td>\n",
       "      <td>172771.0</td>\n",
       "    </tr>\n",
       "    <tr>\n",
       "      <th>205904</th>\n",
       "      <td>2015</td>\n",
       "      <td>Unintentional Injury</td>\n",
       "      <td>WY</td>\n",
       "      <td>8</td>\n",
       "      <td>7</td>\n",
       "      <td>Nonmetropolitan</td>\n",
       "      <td>246.0</td>\n",
       "      <td>393349.0</td>\n",
       "    </tr>\n",
       "    <tr>\n",
       "      <th>205912</th>\n",
       "      <td>2015</td>\n",
       "      <td>Unintentional Injury</td>\n",
       "      <td>WY</td>\n",
       "      <td>8</td>\n",
       "      <td>8</td>\n",
       "      <td>Metropolitan</td>\n",
       "      <td>93.0</td>\n",
       "      <td>175787.0</td>\n",
       "    </tr>\n",
       "    <tr>\n",
       "      <th>205913</th>\n",
       "      <td>2015</td>\n",
       "      <td>Unintentional Injury</td>\n",
       "      <td>WY</td>\n",
       "      <td>8</td>\n",
       "      <td>8</td>\n",
       "      <td>Nonmetropolitan</td>\n",
       "      <td>259.0</td>\n",
       "      <td>400056.0</td>\n",
       "    </tr>\n",
       "  </tbody>\n",
       "</table>\n",
       "</div>"
      ],
      "text/plain": [
       "        Year        Cause of Death State FIPS Code  HHS Region  Age Range  \\\n",
       "205895  2015  Unintentional Injury              WY           8          6   \n",
       "205903  2015  Unintentional Injury              WY           8          7   \n",
       "205904  2015  Unintentional Injury              WY           8          7   \n",
       "205912  2015  Unintentional Injury              WY           8          8   \n",
       "205913  2015  Unintentional Injury              WY           8          8   \n",
       "\n",
       "               Locality  Observed Deaths  Population  \n",
       "205895  Nonmetropolitan            232.0    383497.0  \n",
       "205903     Metropolitan             90.0    172771.0  \n",
       "205904  Nonmetropolitan            246.0    393349.0  \n",
       "205912     Metropolitan             93.0    175787.0  \n",
       "205913  Nonmetropolitan            259.0    400056.0  "
      ]
     },
     "execution_count": 779,
     "metadata": {},
     "output_type": "execute_result"
    }
   ],
   "source": [
    "reduced_data.tail()"
   ]
  },
  {
   "cell_type": "code",
   "execution_count": 780,
   "metadata": {},
   "outputs": [
    {
     "data": {
      "text/plain": [
       "Year               0\n",
       "Cause of Death     0\n",
       "State FIPS Code    0\n",
       "HHS Region         0\n",
       "Age Range          0\n",
       "Locality           0\n",
       "Observed Deaths    0\n",
       "Population         0\n",
       "dtype: int64"
      ]
     },
     "execution_count": 780,
     "metadata": {},
     "output_type": "execute_result"
    }
   ],
   "source": [
    "reduced_data.isnull().sum()"
   ]
  },
  {
   "cell_type": "code",
   "execution_count": null,
   "metadata": {},
   "outputs": [],
   "source": []
  },
  {
   "cell_type": "code",
   "execution_count": 781,
   "metadata": {},
   "outputs": [
    {
     "name": "stdout",
     "output_type": "stream",
     "text": [
      "['Metropolitan']\n",
      "['Nonmetropolitan']\n"
     ]
    }
   ],
   "source": [
    "metropolitan_data = reduced_data[reduced_data['Locality'] == 'Metropolitan']\n",
    "nonMetropolitan_data = reduced_data[reduced_data['Locality'] == 'Nonmetropolitan']\n",
    "print(np.unique(metropolitan_data[\"Locality\"]))\n",
    "print(np.unique(nonMetropolitan_data[\"Locality\"]))"
   ]
  },
  {
   "cell_type": "code",
   "execution_count": 782,
   "metadata": {},
   "outputs": [
    {
     "name": "stdout",
     "output_type": "stream",
     "text": [
      "Year               0\n",
      "Cause of Death     0\n",
      "State FIPS Code    0\n",
      "HHS Region         0\n",
      "Age Range          0\n",
      "Locality           0\n",
      "Observed Deaths    0\n",
      "Population         0\n",
      "dtype: int64\n",
      "Year               0\n",
      "Cause of Death     0\n",
      "State FIPS Code    0\n",
      "HHS Region         0\n",
      "Age Range          0\n",
      "Locality           0\n",
      "Observed Deaths    0\n",
      "Population         0\n",
      "dtype: int64\n"
     ]
    }
   ],
   "source": [
    "print(metropolitan_data.isnull().sum())\n",
    "print(nonMetropolitan_data.isnull().sum())"
   ]
  },
  {
   "cell_type": "code",
   "execution_count": null,
   "metadata": {},
   "outputs": [],
   "source": []
  },
  {
   "cell_type": "code",
   "execution_count": 783,
   "metadata": {},
   "outputs": [
    {
     "name": "stdout",
     "output_type": "stream",
     "text": [
      "0\n",
      "8\n",
      "16\n"
     ]
    }
   ],
   "source": [
    "for i in range(0, 20, 8):\n",
    "    print(i)"
   ]
  },
  {
   "cell_type": "code",
   "execution_count": 784,
   "metadata": {},
   "outputs": [],
   "source": [
    "def adjust_numbers_by_age(data):\n",
    "    \n",
    "    '''Ajust the value for Observed Deaths and Population based on the age group.\n",
    "       These values are cumulative summation in the original data. We will do cumulative\n",
    "       differentiation for getting the obeserved deaths and population for each age group.\n",
    "    '''\n",
    "    data = data.reset_index(drop=True)\n",
    "    m = data.shape[0]\n",
    "    tmp = data\n",
    "    holder_1 = np.diff(data[\"Observed Deaths\"])\n",
    "    holder_2 = np.diff(data[\"Population\"])\n",
    "\n",
    "    for i in range(0, m):\n",
    "        if i == 0:\n",
    "            holder_1 = np.insert(holder_1, 0, tmp['Observed Deaths'][0])\n",
    "        elif data.loc[i]['Age Range'] == 1:\n",
    "            holder_1[i] =  tmp['Observed Deaths'][i]\n",
    "        else:\n",
    "            pass\n",
    "    \n",
    "    for i in range(0, m):\n",
    "        if i == 0:\n",
    "            holder_2 = np.insert(holder_2, 0, tmp['Population'][0])\n",
    "        elif data.loc[i]['Age Range'] == 1:\n",
    "            holder_2[i] =  tmp['Population'][i]\n",
    "        else:\n",
    "            pass\n",
    "    \n",
    "    data['Observed Deaths'] = holder_1\n",
    "    data['Population'] = holder_2\n",
    "    return data"
   ]
  },
  {
   "cell_type": "code",
   "execution_count": 785,
   "metadata": {},
   "outputs": [],
   "source": [
    "metro_data = adjust_numbers_by_age(metropolitan_data)\n",
    "nonMetro_data = adjust_numbers_by_age(nonMetropolitan_data)"
   ]
  },
  {
   "cell_type": "code",
   "execution_count": 786,
   "metadata": {},
   "outputs": [
    {
     "name": "stdout",
     "output_type": "stream",
     "text": [
      "Year               0\n",
      "Cause of Death     0\n",
      "State FIPS Code    0\n",
      "HHS Region         0\n",
      "Age Range          0\n",
      "Locality           0\n",
      "Observed Deaths    0\n",
      "Population         0\n",
      "dtype: int64\n",
      "Year               0\n",
      "Cause of Death     0\n",
      "State FIPS Code    0\n",
      "HHS Region         0\n",
      "Age Range          0\n",
      "Locality           0\n",
      "Observed Deaths    0\n",
      "Population         0\n",
      "dtype: int64\n"
     ]
    }
   ],
   "source": [
    "print(metro_data.isnull().sum())\n",
    "print(nonMetro_data.isnull().sum())"
   ]
  },
  {
   "cell_type": "code",
   "execution_count": 787,
   "metadata": {
    "scrolled": true
   },
   "outputs": [
    {
     "name": "stdout",
     "output_type": "stream",
     "text": [
      "[ True]\n",
      "[ True]\n"
     ]
    }
   ],
   "source": [
    "tmp1_nonMetro = nonMetropolitan_data[nonMetropolitan_data['Age Range'] == 1]\n",
    "tmp2_nonMetro = nonMetro_data[nonMetro_data['Age Range'] == 1]\n",
    "print(np.unique(tmp1_nonMetro['Observed Deaths'].values == tmp2_nonMetro['Observed Deaths'].values))\n",
    "print(np.unique(tmp1_nonMetro['Population'].values == tmp2_nonMetro['Population'].values))"
   ]
  },
  {
   "cell_type": "code",
   "execution_count": 788,
   "metadata": {},
   "outputs": [
    {
     "data": {
      "text/html": [
       "<div>\n",
       "<style>\n",
       "    .dataframe thead tr:only-child th {\n",
       "        text-align: right;\n",
       "    }\n",
       "\n",
       "    .dataframe thead th {\n",
       "        text-align: left;\n",
       "    }\n",
       "\n",
       "    .dataframe tbody tr th {\n",
       "        vertical-align: top;\n",
       "    }\n",
       "</style>\n",
       "<table border=\"1\" class=\"dataframe\">\n",
       "  <thead>\n",
       "    <tr style=\"text-align: right;\">\n",
       "      <th></th>\n",
       "      <th>Year</th>\n",
       "      <th>Cause of Death</th>\n",
       "      <th>State FIPS Code</th>\n",
       "      <th>HHS Region</th>\n",
       "      <th>Age Range</th>\n",
       "      <th>Locality</th>\n",
       "      <th>Observed Deaths</th>\n",
       "      <th>Population</th>\n",
       "    </tr>\n",
       "  </thead>\n",
       "  <tbody>\n",
       "    <tr>\n",
       "      <th>2</th>\n",
       "      <td>2005</td>\n",
       "      <td>Cancer</td>\n",
       "      <td>AL</td>\n",
       "      <td>4</td>\n",
       "      <td>1</td>\n",
       "      <td>Nonmetropolitan</td>\n",
       "      <td>200.0</td>\n",
       "      <td>768506.0</td>\n",
       "    </tr>\n",
       "    <tr>\n",
       "      <th>74</th>\n",
       "      <td>2005</td>\n",
       "      <td>Cancer</td>\n",
       "      <td>AK</td>\n",
       "      <td>10</td>\n",
       "      <td>1</td>\n",
       "      <td>Nonmetropolitan</td>\n",
       "      <td>26.0</td>\n",
       "      <td>165591.0</td>\n",
       "    </tr>\n",
       "    <tr>\n",
       "      <th>146</th>\n",
       "      <td>2005</td>\n",
       "      <td>Cancer</td>\n",
       "      <td>AZ</td>\n",
       "      <td>9</td>\n",
       "      <td>1</td>\n",
       "      <td>Nonmetropolitan</td>\n",
       "      <td>40.0</td>\n",
       "      <td>225141.0</td>\n",
       "    </tr>\n",
       "    <tr>\n",
       "      <th>218</th>\n",
       "      <td>2005</td>\n",
       "      <td>Cancer</td>\n",
       "      <td>AR</td>\n",
       "      <td>6</td>\n",
       "      <td>1</td>\n",
       "      <td>Nonmetropolitan</td>\n",
       "      <td>202.0</td>\n",
       "      <td>751511.0</td>\n",
       "    </tr>\n",
       "    <tr>\n",
       "      <th>290</th>\n",
       "      <td>2005</td>\n",
       "      <td>Cancer</td>\n",
       "      <td>CA</td>\n",
       "      <td>9</td>\n",
       "      <td>1</td>\n",
       "      <td>Nonmetropolitan</td>\n",
       "      <td>118.0</td>\n",
       "      <td>523354.0</td>\n",
       "    </tr>\n",
       "  </tbody>\n",
       "</table>\n",
       "</div>"
      ],
      "text/plain": [
       "     Year Cause of Death State FIPS Code  HHS Region  Age Range  \\\n",
       "2    2005         Cancer              AL           4          1   \n",
       "74   2005         Cancer              AK          10          1   \n",
       "146  2005         Cancer              AZ           9          1   \n",
       "218  2005         Cancer              AR           6          1   \n",
       "290  2005         Cancer              CA           9          1   \n",
       "\n",
       "            Locality  Observed Deaths  Population  \n",
       "2    Nonmetropolitan            200.0    768506.0  \n",
       "74   Nonmetropolitan             26.0    165591.0  \n",
       "146  Nonmetropolitan             40.0    225141.0  \n",
       "218  Nonmetropolitan            202.0    751511.0  \n",
       "290  Nonmetropolitan            118.0    523354.0  "
      ]
     },
     "execution_count": 788,
     "metadata": {},
     "output_type": "execute_result"
    }
   ],
   "source": [
    "nonMetropolitan_data[nonMetropolitan_data['Age Range'] == 1].head()"
   ]
  },
  {
   "cell_type": "code",
   "execution_count": 789,
   "metadata": {},
   "outputs": [
    {
     "data": {
      "text/html": [
       "<div>\n",
       "<style>\n",
       "    .dataframe thead tr:only-child th {\n",
       "        text-align: right;\n",
       "    }\n",
       "\n",
       "    .dataframe thead th {\n",
       "        text-align: left;\n",
       "    }\n",
       "\n",
       "    .dataframe tbody tr th {\n",
       "        vertical-align: top;\n",
       "    }\n",
       "</style>\n",
       "<table border=\"1\" class=\"dataframe\">\n",
       "  <thead>\n",
       "    <tr style=\"text-align: right;\">\n",
       "      <th></th>\n",
       "      <th>Year</th>\n",
       "      <th>Cause of Death</th>\n",
       "      <th>State FIPS Code</th>\n",
       "      <th>HHS Region</th>\n",
       "      <th>Age Range</th>\n",
       "      <th>Locality</th>\n",
       "      <th>Observed Deaths</th>\n",
       "      <th>Population</th>\n",
       "    </tr>\n",
       "  </thead>\n",
       "  <tbody>\n",
       "    <tr>\n",
       "      <th>0</th>\n",
       "      <td>2005</td>\n",
       "      <td>Cancer</td>\n",
       "      <td>AL</td>\n",
       "      <td>4</td>\n",
       "      <td>1</td>\n",
       "      <td>Nonmetropolitan</td>\n",
       "      <td>200.0</td>\n",
       "      <td>768506.0</td>\n",
       "    </tr>\n",
       "    <tr>\n",
       "      <th>8</th>\n",
       "      <td>2005</td>\n",
       "      <td>Cancer</td>\n",
       "      <td>AK</td>\n",
       "      <td>10</td>\n",
       "      <td>1</td>\n",
       "      <td>Nonmetropolitan</td>\n",
       "      <td>26.0</td>\n",
       "      <td>165591.0</td>\n",
       "    </tr>\n",
       "    <tr>\n",
       "      <th>16</th>\n",
       "      <td>2005</td>\n",
       "      <td>Cancer</td>\n",
       "      <td>AZ</td>\n",
       "      <td>9</td>\n",
       "      <td>1</td>\n",
       "      <td>Nonmetropolitan</td>\n",
       "      <td>40.0</td>\n",
       "      <td>225141.0</td>\n",
       "    </tr>\n",
       "    <tr>\n",
       "      <th>24</th>\n",
       "      <td>2005</td>\n",
       "      <td>Cancer</td>\n",
       "      <td>AR</td>\n",
       "      <td>6</td>\n",
       "      <td>1</td>\n",
       "      <td>Nonmetropolitan</td>\n",
       "      <td>202.0</td>\n",
       "      <td>751511.0</td>\n",
       "    </tr>\n",
       "    <tr>\n",
       "      <th>32</th>\n",
       "      <td>2005</td>\n",
       "      <td>Cancer</td>\n",
       "      <td>CA</td>\n",
       "      <td>9</td>\n",
       "      <td>1</td>\n",
       "      <td>Nonmetropolitan</td>\n",
       "      <td>118.0</td>\n",
       "      <td>523354.0</td>\n",
       "    </tr>\n",
       "  </tbody>\n",
       "</table>\n",
       "</div>"
      ],
      "text/plain": [
       "    Year Cause of Death State FIPS Code  HHS Region  Age Range  \\\n",
       "0   2005         Cancer              AL           4          1   \n",
       "8   2005         Cancer              AK          10          1   \n",
       "16  2005         Cancer              AZ           9          1   \n",
       "24  2005         Cancer              AR           6          1   \n",
       "32  2005         Cancer              CA           9          1   \n",
       "\n",
       "           Locality  Observed Deaths  Population  \n",
       "0   Nonmetropolitan            200.0    768506.0  \n",
       "8   Nonmetropolitan             26.0    165591.0  \n",
       "16  Nonmetropolitan             40.0    225141.0  \n",
       "24  Nonmetropolitan            202.0    751511.0  \n",
       "32  Nonmetropolitan            118.0    523354.0  "
      ]
     },
     "execution_count": 789,
     "metadata": {},
     "output_type": "execute_result"
    }
   ],
   "source": [
    "nonMetro_data[nonMetro_data['Age Range'] == 1].head()"
   ]
  },
  {
   "cell_type": "code",
   "execution_count": 790,
   "metadata": {},
   "outputs": [
    {
     "data": {
      "text/html": [
       "<div>\n",
       "<style>\n",
       "    .dataframe thead tr:only-child th {\n",
       "        text-align: right;\n",
       "    }\n",
       "\n",
       "    .dataframe thead th {\n",
       "        text-align: left;\n",
       "    }\n",
       "\n",
       "    .dataframe tbody tr th {\n",
       "        vertical-align: top;\n",
       "    }\n",
       "</style>\n",
       "<table border=\"1\" class=\"dataframe\">\n",
       "  <thead>\n",
       "    <tr style=\"text-align: right;\">\n",
       "      <th></th>\n",
       "      <th>Year</th>\n",
       "      <th>HHS Region</th>\n",
       "      <th>Age Range</th>\n",
       "      <th>Observed Deaths</th>\n",
       "      <th>Population</th>\n",
       "    </tr>\n",
       "  </thead>\n",
       "  <tbody>\n",
       "    <tr>\n",
       "      <th>count</th>\n",
       "      <td>22880.000000</td>\n",
       "      <td>22880.000000</td>\n",
       "      <td>22880.000000</td>\n",
       "      <td>22880.000000</td>\n",
       "      <td>2.288000e+04</td>\n",
       "    </tr>\n",
       "    <tr>\n",
       "      <th>mean</th>\n",
       "      <td>2010.000000</td>\n",
       "      <td>5.230769</td>\n",
       "      <td>4.500000</td>\n",
       "      <td>880.255201</td>\n",
       "      <td>1.241340e+06</td>\n",
       "    </tr>\n",
       "    <tr>\n",
       "      <th>std</th>\n",
       "      <td>3.162347</td>\n",
       "      <td>2.798518</td>\n",
       "      <td>2.291338</td>\n",
       "      <td>4332.754690</td>\n",
       "      <td>9.130991e+06</td>\n",
       "    </tr>\n",
       "    <tr>\n",
       "      <th>min</th>\n",
       "      <td>2005.000000</td>\n",
       "      <td>0.000000</td>\n",
       "      <td>1.000000</td>\n",
       "      <td>-10325.000000</td>\n",
       "      <td>-1.415838e+07</td>\n",
       "    </tr>\n",
       "    <tr>\n",
       "      <th>25%</th>\n",
       "      <td>2007.000000</td>\n",
       "      <td>3.000000</td>\n",
       "      <td>2.750000</td>\n",
       "      <td>50.000000</td>\n",
       "      <td>5.223600e+04</td>\n",
       "    </tr>\n",
       "    <tr>\n",
       "      <th>50%</th>\n",
       "      <td>2010.000000</td>\n",
       "      <td>5.000000</td>\n",
       "      <td>4.500000</td>\n",
       "      <td>156.000000</td>\n",
       "      <td>1.416350e+05</td>\n",
       "    </tr>\n",
       "    <tr>\n",
       "      <th>75%</th>\n",
       "      <td>2013.000000</td>\n",
       "      <td>8.000000</td>\n",
       "      <td>6.250000</td>\n",
       "      <td>518.250000</td>\n",
       "      <td>4.166980e+05</td>\n",
       "    </tr>\n",
       "    <tr>\n",
       "      <th>max</th>\n",
       "      <td>2015.000000</td>\n",
       "      <td>10.000000</td>\n",
       "      <td>8.000000</td>\n",
       "      <td>89016.000000</td>\n",
       "      <td>1.824058e+08</td>\n",
       "    </tr>\n",
       "  </tbody>\n",
       "</table>\n",
       "</div>"
      ],
      "text/plain": [
       "               Year    HHS Region     Age Range  Observed Deaths    Population\n",
       "count  22880.000000  22880.000000  22880.000000     22880.000000  2.288000e+04\n",
       "mean    2010.000000      5.230769      4.500000       880.255201  1.241340e+06\n",
       "std        3.162347      2.798518      2.291338      4332.754690  9.130991e+06\n",
       "min     2005.000000      0.000000      1.000000    -10325.000000 -1.415838e+07\n",
       "25%     2007.000000      3.000000      2.750000        50.000000  5.223600e+04\n",
       "50%     2010.000000      5.000000      4.500000       156.000000  1.416350e+05\n",
       "75%     2013.000000      8.000000      6.250000       518.250000  4.166980e+05\n",
       "max     2015.000000     10.000000      8.000000     89016.000000  1.824058e+08"
      ]
     },
     "execution_count": 790,
     "metadata": {},
     "output_type": "execute_result"
    }
   ],
   "source": [
    "metro_data.describe()"
   ]
  },
  {
   "cell_type": "code",
   "execution_count": 791,
   "metadata": {},
   "outputs": [
    {
     "data": {
      "text/html": [
       "<div>\n",
       "<style>\n",
       "    .dataframe thead tr:only-child th {\n",
       "        text-align: right;\n",
       "    }\n",
       "\n",
       "    .dataframe thead th {\n",
       "        text-align: left;\n",
       "    }\n",
       "\n",
       "    .dataframe tbody tr th {\n",
       "        vertical-align: top;\n",
       "    }\n",
       "</style>\n",
       "<table border=\"1\" class=\"dataframe\">\n",
       "  <thead>\n",
       "    <tr style=\"text-align: right;\">\n",
       "      <th></th>\n",
       "      <th>Year</th>\n",
       "      <th>HHS Region</th>\n",
       "      <th>Age Range</th>\n",
       "      <th>Observed Deaths</th>\n",
       "      <th>Population</th>\n",
       "    </tr>\n",
       "  </thead>\n",
       "  <tbody>\n",
       "    <tr>\n",
       "      <th>count</th>\n",
       "      <td>22880.000000</td>\n",
       "      <td>22880.000000</td>\n",
       "      <td>22880.000000</td>\n",
       "      <td>22880.000000</td>\n",
       "      <td>2.288000e+04</td>\n",
       "    </tr>\n",
       "    <tr>\n",
       "      <th>mean</th>\n",
       "      <td>2010.000000</td>\n",
       "      <td>5.230769</td>\n",
       "      <td>4.500000</td>\n",
       "      <td>238.933086</td>\n",
       "      <td>2.437149e+05</td>\n",
       "    </tr>\n",
       "    <tr>\n",
       "      <th>std</th>\n",
       "      <td>3.162347</td>\n",
       "      <td>2.798518</td>\n",
       "      <td>2.291338</td>\n",
       "      <td>1103.466761</td>\n",
       "      <td>2.680058e+06</td>\n",
       "    </tr>\n",
       "    <tr>\n",
       "      <th>min</th>\n",
       "      <td>2005.000000</td>\n",
       "      <td>0.000000</td>\n",
       "      <td>1.000000</td>\n",
       "      <td>-21202.000000</td>\n",
       "      <td>-2.363753e+08</td>\n",
       "    </tr>\n",
       "    <tr>\n",
       "      <th>25%</th>\n",
       "      <td>2007.000000</td>\n",
       "      <td>3.000000</td>\n",
       "      <td>2.750000</td>\n",
       "      <td>24.000000</td>\n",
       "      <td>2.208800e+04</td>\n",
       "    </tr>\n",
       "    <tr>\n",
       "      <th>50%</th>\n",
       "      <td>2010.000000</td>\n",
       "      <td>5.000000</td>\n",
       "      <td>4.500000</td>\n",
       "      <td>61.000000</td>\n",
       "      <td>4.770050e+04</td>\n",
       "    </tr>\n",
       "    <tr>\n",
       "      <th>75%</th>\n",
       "      <td>2013.000000</td>\n",
       "      <td>8.000000</td>\n",
       "      <td>6.250000</td>\n",
       "      <td>177.000000</td>\n",
       "      <td>9.858400e+04</td>\n",
       "    </tr>\n",
       "    <tr>\n",
       "      <th>max</th>\n",
       "      <td>2015.000000</td>\n",
       "      <td>10.000000</td>\n",
       "      <td>8.000000</td>\n",
       "      <td>25569.000000</td>\n",
       "      <td>2.381185e+08</td>\n",
       "    </tr>\n",
       "  </tbody>\n",
       "</table>\n",
       "</div>"
      ],
      "text/plain": [
       "               Year    HHS Region     Age Range  Observed Deaths    Population\n",
       "count  22880.000000  22880.000000  22880.000000     22880.000000  2.288000e+04\n",
       "mean    2010.000000      5.230769      4.500000       238.933086  2.437149e+05\n",
       "std        3.162347      2.798518      2.291338      1103.466761  2.680058e+06\n",
       "min     2005.000000      0.000000      1.000000    -21202.000000 -2.363753e+08\n",
       "25%     2007.000000      3.000000      2.750000        24.000000  2.208800e+04\n",
       "50%     2010.000000      5.000000      4.500000        61.000000  4.770050e+04\n",
       "75%     2013.000000      8.000000      6.250000       177.000000  9.858400e+04\n",
       "max     2015.000000     10.000000      8.000000     25569.000000  2.381185e+08"
      ]
     },
     "execution_count": 791,
     "metadata": {},
     "output_type": "execute_result"
    }
   ],
   "source": [
    "nonMetro_data.describe()"
   ]
  },
  {
   "cell_type": "code",
   "execution_count": 792,
   "metadata": {},
   "outputs": [
    {
     "data": {
      "text/plain": [
       "array([ True], dtype=bool)"
      ]
     },
     "execution_count": 792,
     "metadata": {},
     "output_type": "execute_result"
    }
   ],
   "source": [
    "np.unique(tmp1_nonMetro.values == tmp2_nonMetro.values)"
   ]
  },
  {
   "cell_type": "markdown",
   "metadata": {},
   "source": [
    "<h3>Drop the sample whose Obserserved Deaths or Population values are nagative</h3>"
   ]
  },
  {
   "cell_type": "code",
   "execution_count": null,
   "metadata": {},
   "outputs": [],
   "source": []
  },
  {
   "cell_type": "code",
   "execution_count": 793,
   "metadata": {},
   "outputs": [],
   "source": [
    "metro_data = metro_data.drop(metro_data[(metro_data['Observed Deaths'] < 0) | (metro_data['Population'] < 0)].index)\n",
    "nonMetro_data = nonMetro_data.drop(nonMetro_data[(nonMetro_data['Observed Deaths'] < 0) | (nonMetro_data['Population'] < 0)].index)"
   ]
  },
  {
   "cell_type": "code",
   "execution_count": 794,
   "metadata": {},
   "outputs": [
    {
     "name": "stdout",
     "output_type": "stream",
     "text": [
      "total_deaths & Population for metro: \t 20246446.0 28437018968.0\n",
      "total_deaths & Population for nonMetro:\t 5648082.0 5648082.0\n"
     ]
    }
   ],
   "source": [
    "metro_total_deaths = metro_data[\"Observed Deaths\"].sum()\n",
    "metro_total_population = metro_data['Population'].sum()\n",
    "print(\"total_deaths & Population for metro: \\t\", metro_total_deaths, metro_total_population)\n",
    "nonMetro_total_deaths = nonMetro_data[\"Observed Deaths\"].sum()\n",
    "nonMetro_total_population = metro_data['Population'].sum()\n",
    "print(\"total_deaths & Population for nonMetro:\\t\", nonMetro_total_deaths, nonMetro_total_deaths)"
   ]
  },
  {
   "cell_type": "code",
   "execution_count": null,
   "metadata": {},
   "outputs": [],
   "source": []
  },
  {
   "cell_type": "markdown",
   "metadata": {},
   "source": [
    "<h3>Calculate percentage of death rates</h3>\n",
    "<p>We calcuate death rates since population of metropolitatn area is much larger than than that of nonmetropolitatn area. It is hard to compare the death rates when it is measured in the number of deaths.</p>"
   ]
  },
  {
   "cell_type": "code",
   "execution_count": 795,
   "metadata": {},
   "outputs": [],
   "source": [
    "def to_percentage(data):\n",
    "    '''Create a feature called \"Percentage Deaths\". \n",
    "       Also drop the Observed Deaths and Population. \n",
    "       Since Observed Deaths is much smaller to Population, we multiply the Percentage Deaths by 100 to\n",
    "       emphasize on the differences.\n",
    "    '''\n",
    "    newData = data.copy()\n",
    "    newData['Percentage Deaths'] = (newData['Observed Deaths']) /  newData['Population'] * 100\n",
    "    newData =  newData.drop(['Observed Deaths', 'Population'], axis=1)\n",
    "    return  newData"
   ]
  },
  {
   "cell_type": "code",
   "execution_count": 796,
   "metadata": {},
   "outputs": [],
   "source": [
    "metro_reduced = to_percentage(metro_data)\n",
    "nonMetro_reduced = to_percentage(nonMetro_data)"
   ]
  },
  {
   "cell_type": "code",
   "execution_count": 797,
   "metadata": {},
   "outputs": [
    {
     "data": {
      "text/plain": [
       "Year                 0\n",
       "Cause of Death       0\n",
       "State FIPS Code      0\n",
       "HHS Region           0\n",
       "Age Range            0\n",
       "Locality             0\n",
       "Percentage Deaths    0\n",
       "dtype: int64"
      ]
     },
     "execution_count": 797,
     "metadata": {},
     "output_type": "execute_result"
    }
   ],
   "source": [
    "metro_reduced.isnull().sum()"
   ]
  },
  {
   "cell_type": "code",
   "execution_count": 798,
   "metadata": {},
   "outputs": [
    {
     "data": {
      "text/plain": [
       "Year                 0\n",
       "Cause of Death       0\n",
       "State FIPS Code      0\n",
       "HHS Region           0\n",
       "Age Range            0\n",
       "Locality             0\n",
       "Percentage Deaths    7\n",
       "dtype: int64"
      ]
     },
     "execution_count": 798,
     "metadata": {},
     "output_type": "execute_result"
    }
   ],
   "source": [
    "nonMetro_reduced.isnull().sum()"
   ]
  },
  {
   "cell_type": "code",
   "execution_count": 848,
   "metadata": {},
   "outputs": [
    {
     "name": "stdout",
     "output_type": "stream",
     "text": [
      "Int64Index([2573, 4045, 5841, 6179, 10223, 14376, 18318], dtype='int64') 7\n"
     ]
    }
   ],
   "source": [
    "nullIndex = nonMetro_reduced[nonMetro_reduced['Percentage Deaths'].isnull()].index\n",
    "print(nullIndex, len(nullIndex))"
   ]
  },
  {
   "cell_type": "code",
   "execution_count": 849,
   "metadata": {},
   "outputs": [
    {
     "data": {
      "text/html": [
       "<div>\n",
       "<style>\n",
       "    .dataframe thead tr:only-child th {\n",
       "        text-align: right;\n",
       "    }\n",
       "\n",
       "    .dataframe thead th {\n",
       "        text-align: left;\n",
       "    }\n",
       "\n",
       "    .dataframe tbody tr th {\n",
       "        vertical-align: top;\n",
       "    }\n",
       "</style>\n",
       "<table border=\"1\" class=\"dataframe\">\n",
       "  <thead>\n",
       "    <tr style=\"text-align: right;\">\n",
       "      <th></th>\n",
       "      <th>Year</th>\n",
       "      <th>Cause of Death</th>\n",
       "      <th>State FIPS Code</th>\n",
       "      <th>HHS Region</th>\n",
       "      <th>Age Range</th>\n",
       "      <th>Locality</th>\n",
       "      <th>Observed Deaths</th>\n",
       "      <th>Population</th>\n",
       "    </tr>\n",
       "  </thead>\n",
       "  <tbody>\n",
       "    <tr>\n",
       "      <th>2573</th>\n",
       "      <td>2006</td>\n",
       "      <td>Heart Disease</td>\n",
       "      <td>NJ</td>\n",
       "      <td>2</td>\n",
       "      <td>8</td>\n",
       "      <td>Nonmetropolitan</td>\n",
       "      <td>0.0</td>\n",
       "      <td>0.0</td>\n",
       "    </tr>\n",
       "    <tr>\n",
       "      <th>4045</th>\n",
       "      <td>2007</td>\n",
       "      <td>Cancer</td>\n",
       "      <td>DE</td>\n",
       "      <td>3</td>\n",
       "      <td>2</td>\n",
       "      <td>Nonmetropolitan</td>\n",
       "      <td>0.0</td>\n",
       "      <td>0.0</td>\n",
       "    </tr>\n",
       "    <tr>\n",
       "      <th>5841</th>\n",
       "      <td>2007</td>\n",
       "      <td>Unintentional Injury</td>\n",
       "      <td>DE</td>\n",
       "      <td>3</td>\n",
       "      <td>3</td>\n",
       "      <td>Nonmetropolitan</td>\n",
       "      <td>0.0</td>\n",
       "      <td>0.0</td>\n",
       "    </tr>\n",
       "    <tr>\n",
       "      <th>6179</th>\n",
       "      <td>2008</td>\n",
       "      <td>Cancer</td>\n",
       "      <td>DC</td>\n",
       "      <td>3</td>\n",
       "      <td>4</td>\n",
       "      <td>Nonmetropolitan</td>\n",
       "      <td>0.0</td>\n",
       "      <td>0.0</td>\n",
       "    </tr>\n",
       "    <tr>\n",
       "      <th>10223</th>\n",
       "      <td>2010</td>\n",
       "      <td>Cancer</td>\n",
       "      <td>DC</td>\n",
       "      <td>3</td>\n",
       "      <td>4</td>\n",
       "      <td>Nonmetropolitan</td>\n",
       "      <td>0.0</td>\n",
       "      <td>0.0</td>\n",
       "    </tr>\n",
       "    <tr>\n",
       "      <th>14376</th>\n",
       "      <td>2012</td>\n",
       "      <td>Cancer</td>\n",
       "      <td>DC</td>\n",
       "      <td>3</td>\n",
       "      <td>4</td>\n",
       "      <td>Nonmetropolitan</td>\n",
       "      <td>0.0</td>\n",
       "      <td>0.0</td>\n",
       "    </tr>\n",
       "    <tr>\n",
       "      <th>18318</th>\n",
       "      <td>2013</td>\n",
       "      <td>Unintentional Injury</td>\n",
       "      <td>RI</td>\n",
       "      <td>1</td>\n",
       "      <td>3</td>\n",
       "      <td>Nonmetropolitan</td>\n",
       "      <td>0.0</td>\n",
       "      <td>0.0</td>\n",
       "    </tr>\n",
       "  </tbody>\n",
       "</table>\n",
       "</div>"
      ],
      "text/plain": [
       "       Year        Cause of Death State FIPS Code  HHS Region  Age Range  \\\n",
       "2573   2006         Heart Disease              NJ           2          8   \n",
       "4045   2007                Cancer              DE           3          2   \n",
       "5841   2007  Unintentional Injury              DE           3          3   \n",
       "6179   2008                Cancer              DC           3          4   \n",
       "10223  2010                Cancer              DC           3          4   \n",
       "14376  2012                Cancer              DC           3          4   \n",
       "18318  2013  Unintentional Injury              RI           1          3   \n",
       "\n",
       "              Locality  Observed Deaths  Population  \n",
       "2573   Nonmetropolitan              0.0         0.0  \n",
       "4045   Nonmetropolitan              0.0         0.0  \n",
       "5841   Nonmetropolitan              0.0         0.0  \n",
       "6179   Nonmetropolitan              0.0         0.0  \n",
       "10223  Nonmetropolitan              0.0         0.0  \n",
       "14376  Nonmetropolitan              0.0         0.0  \n",
       "18318  Nonmetropolitan              0.0         0.0  "
      ]
     },
     "execution_count": 849,
     "metadata": {},
     "output_type": "execute_result"
    }
   ],
   "source": [
    "nonMetro_data.loc[nullIndex]"
   ]
  },
  {
   "cell_type": "markdown",
   "metadata": {},
   "source": [
    "<h3>There are NaN because value of Observed Deaths is divided by 0 Population.</h3>"
   ]
  },
  {
   "cell_type": "code",
   "execution_count": 850,
   "metadata": {},
   "outputs": [
    {
     "data": {
      "text/html": [
       "<div>\n",
       "<style>\n",
       "    .dataframe thead tr:only-child th {\n",
       "        text-align: right;\n",
       "    }\n",
       "\n",
       "    .dataframe thead th {\n",
       "        text-align: left;\n",
       "    }\n",
       "\n",
       "    .dataframe tbody tr th {\n",
       "        vertical-align: top;\n",
       "    }\n",
       "</style>\n",
       "<table border=\"1\" class=\"dataframe\">\n",
       "  <thead>\n",
       "    <tr style=\"text-align: right;\">\n",
       "      <th></th>\n",
       "      <th>Year</th>\n",
       "      <th>Cause of Death</th>\n",
       "      <th>State FIPS Code</th>\n",
       "      <th>HHS Region</th>\n",
       "      <th>Age Range</th>\n",
       "      <th>Locality</th>\n",
       "      <th>Percentage Deaths</th>\n",
       "    </tr>\n",
       "  </thead>\n",
       "  <tbody>\n",
       "    <tr>\n",
       "      <th>2573</th>\n",
       "      <td>2006</td>\n",
       "      <td>Heart Disease</td>\n",
       "      <td>NJ</td>\n",
       "      <td>2</td>\n",
       "      <td>8</td>\n",
       "      <td>Nonmetropolitan</td>\n",
       "      <td>NaN</td>\n",
       "    </tr>\n",
       "    <tr>\n",
       "      <th>4045</th>\n",
       "      <td>2007</td>\n",
       "      <td>Cancer</td>\n",
       "      <td>DE</td>\n",
       "      <td>3</td>\n",
       "      <td>2</td>\n",
       "      <td>Nonmetropolitan</td>\n",
       "      <td>NaN</td>\n",
       "    </tr>\n",
       "    <tr>\n",
       "      <th>5841</th>\n",
       "      <td>2007</td>\n",
       "      <td>Unintentional Injury</td>\n",
       "      <td>DE</td>\n",
       "      <td>3</td>\n",
       "      <td>3</td>\n",
       "      <td>Nonmetropolitan</td>\n",
       "      <td>NaN</td>\n",
       "    </tr>\n",
       "    <tr>\n",
       "      <th>6179</th>\n",
       "      <td>2008</td>\n",
       "      <td>Cancer</td>\n",
       "      <td>DC</td>\n",
       "      <td>3</td>\n",
       "      <td>4</td>\n",
       "      <td>Nonmetropolitan</td>\n",
       "      <td>NaN</td>\n",
       "    </tr>\n",
       "    <tr>\n",
       "      <th>10223</th>\n",
       "      <td>2010</td>\n",
       "      <td>Cancer</td>\n",
       "      <td>DC</td>\n",
       "      <td>3</td>\n",
       "      <td>4</td>\n",
       "      <td>Nonmetropolitan</td>\n",
       "      <td>NaN</td>\n",
       "    </tr>\n",
       "    <tr>\n",
       "      <th>14376</th>\n",
       "      <td>2012</td>\n",
       "      <td>Cancer</td>\n",
       "      <td>DC</td>\n",
       "      <td>3</td>\n",
       "      <td>4</td>\n",
       "      <td>Nonmetropolitan</td>\n",
       "      <td>NaN</td>\n",
       "    </tr>\n",
       "    <tr>\n",
       "      <th>18318</th>\n",
       "      <td>2013</td>\n",
       "      <td>Unintentional Injury</td>\n",
       "      <td>RI</td>\n",
       "      <td>1</td>\n",
       "      <td>3</td>\n",
       "      <td>Nonmetropolitan</td>\n",
       "      <td>NaN</td>\n",
       "    </tr>\n",
       "  </tbody>\n",
       "</table>\n",
       "</div>"
      ],
      "text/plain": [
       "       Year        Cause of Death State FIPS Code  HHS Region  Age Range  \\\n",
       "2573   2006         Heart Disease              NJ           2          8   \n",
       "4045   2007                Cancer              DE           3          2   \n",
       "5841   2007  Unintentional Injury              DE           3          3   \n",
       "6179   2008                Cancer              DC           3          4   \n",
       "10223  2010                Cancer              DC           3          4   \n",
       "14376  2012                Cancer              DC           3          4   \n",
       "18318  2013  Unintentional Injury              RI           1          3   \n",
       "\n",
       "              Locality  Percentage Deaths  \n",
       "2573   Nonmetropolitan                NaN  \n",
       "4045   Nonmetropolitan                NaN  \n",
       "5841   Nonmetropolitan                NaN  \n",
       "6179   Nonmetropolitan                NaN  \n",
       "10223  Nonmetropolitan                NaN  \n",
       "14376  Nonmetropolitan                NaN  \n",
       "18318  Nonmetropolitan                NaN  "
      ]
     },
     "execution_count": 850,
     "metadata": {},
     "output_type": "execute_result"
    }
   ],
   "source": [
    "nonMetro_reduced.loc[nullIndex]"
   ]
  },
  {
   "cell_type": "code",
   "execution_count": 851,
   "metadata": {},
   "outputs": [
    {
     "data": {
      "text/plain": [
       "(22318, 7)"
      ]
     },
     "execution_count": 851,
     "metadata": {},
     "output_type": "execute_result"
    }
   ],
   "source": [
    "nonMetro_reduced.shape"
   ]
  },
  {
   "cell_type": "markdown",
   "metadata": {},
   "source": [
    "<h3>Drop the rows whose Percentage Deaths is NaN since there is no population and there is no point in retaining them as useful data</h3>"
   ]
  },
  {
   "cell_type": "code",
   "execution_count": null,
   "metadata": {},
   "outputs": [],
   "source": []
  },
  {
   "cell_type": "code",
   "execution_count": 852,
   "metadata": {},
   "outputs": [
    {
     "data": {
      "text/html": [
       "<div>\n",
       "<style>\n",
       "    .dataframe thead tr:only-child th {\n",
       "        text-align: right;\n",
       "    }\n",
       "\n",
       "    .dataframe thead th {\n",
       "        text-align: left;\n",
       "    }\n",
       "\n",
       "    .dataframe tbody tr th {\n",
       "        vertical-align: top;\n",
       "    }\n",
       "</style>\n",
       "<table border=\"1\" class=\"dataframe\">\n",
       "  <thead>\n",
       "    <tr style=\"text-align: right;\">\n",
       "      <th></th>\n",
       "      <th>Year</th>\n",
       "      <th>Cause of Death</th>\n",
       "      <th>State FIPS Code</th>\n",
       "      <th>HHS Region</th>\n",
       "      <th>Age Range</th>\n",
       "      <th>Locality</th>\n",
       "      <th>Percentage Deaths</th>\n",
       "    </tr>\n",
       "  </thead>\n",
       "  <tbody>\n",
       "    <tr>\n",
       "      <th>2573</th>\n",
       "      <td>2006</td>\n",
       "      <td>Heart Disease</td>\n",
       "      <td>NJ</td>\n",
       "      <td>2</td>\n",
       "      <td>8</td>\n",
       "      <td>Nonmetropolitan</td>\n",
       "      <td>NaN</td>\n",
       "    </tr>\n",
       "    <tr>\n",
       "      <th>4045</th>\n",
       "      <td>2007</td>\n",
       "      <td>Cancer</td>\n",
       "      <td>DE</td>\n",
       "      <td>3</td>\n",
       "      <td>2</td>\n",
       "      <td>Nonmetropolitan</td>\n",
       "      <td>NaN</td>\n",
       "    </tr>\n",
       "    <tr>\n",
       "      <th>5841</th>\n",
       "      <td>2007</td>\n",
       "      <td>Unintentional Injury</td>\n",
       "      <td>DE</td>\n",
       "      <td>3</td>\n",
       "      <td>3</td>\n",
       "      <td>Nonmetropolitan</td>\n",
       "      <td>NaN</td>\n",
       "    </tr>\n",
       "    <tr>\n",
       "      <th>6179</th>\n",
       "      <td>2008</td>\n",
       "      <td>Cancer</td>\n",
       "      <td>DC</td>\n",
       "      <td>3</td>\n",
       "      <td>4</td>\n",
       "      <td>Nonmetropolitan</td>\n",
       "      <td>NaN</td>\n",
       "    </tr>\n",
       "    <tr>\n",
       "      <th>10223</th>\n",
       "      <td>2010</td>\n",
       "      <td>Cancer</td>\n",
       "      <td>DC</td>\n",
       "      <td>3</td>\n",
       "      <td>4</td>\n",
       "      <td>Nonmetropolitan</td>\n",
       "      <td>NaN</td>\n",
       "    </tr>\n",
       "    <tr>\n",
       "      <th>14376</th>\n",
       "      <td>2012</td>\n",
       "      <td>Cancer</td>\n",
       "      <td>DC</td>\n",
       "      <td>3</td>\n",
       "      <td>4</td>\n",
       "      <td>Nonmetropolitan</td>\n",
       "      <td>NaN</td>\n",
       "    </tr>\n",
       "    <tr>\n",
       "      <th>18318</th>\n",
       "      <td>2013</td>\n",
       "      <td>Unintentional Injury</td>\n",
       "      <td>RI</td>\n",
       "      <td>1</td>\n",
       "      <td>3</td>\n",
       "      <td>Nonmetropolitan</td>\n",
       "      <td>NaN</td>\n",
       "    </tr>\n",
       "  </tbody>\n",
       "</table>\n",
       "</div>"
      ],
      "text/plain": [
       "       Year        Cause of Death State FIPS Code  HHS Region  Age Range  \\\n",
       "2573   2006         Heart Disease              NJ           2          8   \n",
       "4045   2007                Cancer              DE           3          2   \n",
       "5841   2007  Unintentional Injury              DE           3          3   \n",
       "6179   2008                Cancer              DC           3          4   \n",
       "10223  2010                Cancer              DC           3          4   \n",
       "14376  2012                Cancer              DC           3          4   \n",
       "18318  2013  Unintentional Injury              RI           1          3   \n",
       "\n",
       "              Locality  Percentage Deaths  \n",
       "2573   Nonmetropolitan                NaN  \n",
       "4045   Nonmetropolitan                NaN  \n",
       "5841   Nonmetropolitan                NaN  \n",
       "6179   Nonmetropolitan                NaN  \n",
       "10223  Nonmetropolitan                NaN  \n",
       "14376  Nonmetropolitan                NaN  \n",
       "18318  Nonmetropolitan                NaN  "
      ]
     },
     "execution_count": 852,
     "metadata": {},
     "output_type": "execute_result"
    }
   ],
   "source": [
    "nonMetro_reduced.loc[nullIndex]"
   ]
  },
  {
   "cell_type": "code",
   "execution_count": 856,
   "metadata": {},
   "outputs": [
    {
     "data": {
      "text/plain": [
       "Int64Index([2573, 4045, 5841, 6179, 10223, 14376, 18318], dtype='int64')"
      ]
     },
     "execution_count": 856,
     "metadata": {},
     "output_type": "execute_result"
    }
   ],
   "source": [
    "nullIndex"
   ]
  },
  {
   "cell_type": "code",
   "execution_count": 861,
   "metadata": {},
   "outputs": [
    {
     "data": {
      "text/plain": [
       "Int64Index([1, 3], dtype='int64')"
      ]
     },
     "execution_count": 861,
     "metadata": {},
     "output_type": "execute_result"
    }
   ],
   "source": [
    "nonMetro_reduced.index[[1,3]]"
   ]
  },
  {
   "cell_type": "code",
   "execution_count": 863,
   "metadata": {},
   "outputs": [
    {
     "data": {
      "text/plain": [
       "pandas.core.frame.DataFrame"
      ]
     },
     "execution_count": 863,
     "metadata": {},
     "output_type": "execute_result"
    }
   ],
   "source": [
    "type(nonMetro_reduced)"
   ]
  },
  {
   "cell_type": "code",
   "execution_count": 865,
   "metadata": {
    "scrolled": false
   },
   "outputs": [],
   "source": [
    "nonMetro_reduced.dropna(inplace=True)"
   ]
  },
  {
   "cell_type": "code",
   "execution_count": 867,
   "metadata": {},
   "outputs": [
    {
     "data": {
      "text/plain": [
       "Year                 0\n",
       "Cause of Death       0\n",
       "State FIPS Code      0\n",
       "HHS Region           0\n",
       "Age Range            0\n",
       "Locality             0\n",
       "Percentage Deaths    0\n",
       "dtype: int64"
      ]
     },
     "execution_count": 867,
     "metadata": {},
     "output_type": "execute_result"
    }
   ],
   "source": [
    "nonMetro_reduced.isnull().sum()"
   ]
  },
  {
   "cell_type": "code",
   "execution_count": null,
   "metadata": {},
   "outputs": [],
   "source": []
  },
  {
   "cell_type": "code",
   "execution_count": 868,
   "metadata": {},
   "outputs": [
    {
     "name": "stdout",
     "output_type": "stream",
     "text": [
      "(22311, 7)\n"
     ]
    }
   ],
   "source": [
    "print(nonMetro_reduced.shape)"
   ]
  },
  {
   "cell_type": "markdown",
   "metadata": {},
   "source": [
    "<h3>See the overall data for metro/non-metro data</h3>"
   ]
  },
  {
   "cell_type": "code",
   "execution_count": 869,
   "metadata": {},
   "outputs": [
    {
     "data": {
      "text/html": [
       "<div>\n",
       "<style>\n",
       "    .dataframe thead tr:only-child th {\n",
       "        text-align: right;\n",
       "    }\n",
       "\n",
       "    .dataframe thead th {\n",
       "        text-align: left;\n",
       "    }\n",
       "\n",
       "    .dataframe tbody tr th {\n",
       "        vertical-align: top;\n",
       "    }\n",
       "</style>\n",
       "<table border=\"1\" class=\"dataframe\">\n",
       "  <thead>\n",
       "    <tr style=\"text-align: right;\">\n",
       "      <th></th>\n",
       "      <th>Year</th>\n",
       "      <th>HHS Region</th>\n",
       "      <th>Age Range</th>\n",
       "      <th>Percentage Deaths</th>\n",
       "    </tr>\n",
       "  </thead>\n",
       "  <tbody>\n",
       "    <tr>\n",
       "      <th>count</th>\n",
       "      <td>22584.000000</td>\n",
       "      <td>22584.000000</td>\n",
       "      <td>22584.000000</td>\n",
       "      <td>22584.000000</td>\n",
       "    </tr>\n",
       "    <tr>\n",
       "      <th>mean</th>\n",
       "      <td>2009.998539</td>\n",
       "      <td>5.226001</td>\n",
       "      <td>4.519748</td>\n",
       "      <td>0.277072</td>\n",
       "    </tr>\n",
       "    <tr>\n",
       "      <th>std</th>\n",
       "      <td>3.162130</td>\n",
       "      <td>2.788541</td>\n",
       "      <td>2.294537</td>\n",
       "      <td>0.381687</td>\n",
       "    </tr>\n",
       "    <tr>\n",
       "      <th>min</th>\n",
       "      <td>2005.000000</td>\n",
       "      <td>0.000000</td>\n",
       "      <td>1.000000</td>\n",
       "      <td>0.000000</td>\n",
       "    </tr>\n",
       "    <tr>\n",
       "      <th>25%</th>\n",
       "      <td>2007.000000</td>\n",
       "      <td>3.000000</td>\n",
       "      <td>3.000000</td>\n",
       "      <td>0.034973</td>\n",
       "    </tr>\n",
       "    <tr>\n",
       "      <th>50%</th>\n",
       "      <td>2010.000000</td>\n",
       "      <td>5.000000</td>\n",
       "      <td>5.000000</td>\n",
       "      <td>0.114781</td>\n",
       "    </tr>\n",
       "    <tr>\n",
       "      <th>75%</th>\n",
       "      <td>2013.000000</td>\n",
       "      <td>8.000000</td>\n",
       "      <td>7.000000</td>\n",
       "      <td>0.357391</td>\n",
       "    </tr>\n",
       "    <tr>\n",
       "      <th>max</th>\n",
       "      <td>2015.000000</td>\n",
       "      <td>10.000000</td>\n",
       "      <td>8.000000</td>\n",
       "      <td>2.550350</td>\n",
       "    </tr>\n",
       "  </tbody>\n",
       "</table>\n",
       "</div>"
      ],
      "text/plain": [
       "               Year    HHS Region     Age Range  Percentage Deaths\n",
       "count  22584.000000  22584.000000  22584.000000       22584.000000\n",
       "mean    2009.998539      5.226001      4.519748           0.277072\n",
       "std        3.162130      2.788541      2.294537           0.381687\n",
       "min     2005.000000      0.000000      1.000000           0.000000\n",
       "25%     2007.000000      3.000000      3.000000           0.034973\n",
       "50%     2010.000000      5.000000      5.000000           0.114781\n",
       "75%     2013.000000      8.000000      7.000000           0.357391\n",
       "max     2015.000000     10.000000      8.000000           2.550350"
      ]
     },
     "execution_count": 869,
     "metadata": {},
     "output_type": "execute_result"
    }
   ],
   "source": [
    "metro_reduced.describe()"
   ]
  },
  {
   "cell_type": "code",
   "execution_count": 870,
   "metadata": {},
   "outputs": [
    {
     "data": {
      "text/html": [
       "<div>\n",
       "<style>\n",
       "    .dataframe thead tr:only-child th {\n",
       "        text-align: right;\n",
       "    }\n",
       "\n",
       "    .dataframe thead th {\n",
       "        text-align: left;\n",
       "    }\n",
       "\n",
       "    .dataframe tbody tr th {\n",
       "        vertical-align: top;\n",
       "    }\n",
       "</style>\n",
       "<table border=\"1\" class=\"dataframe\">\n",
       "  <thead>\n",
       "    <tr style=\"text-align: right;\">\n",
       "      <th></th>\n",
       "      <th>Year</th>\n",
       "      <th>HHS Region</th>\n",
       "      <th>Age Range</th>\n",
       "      <th>Percentage Deaths</th>\n",
       "    </tr>\n",
       "  </thead>\n",
       "  <tbody>\n",
       "    <tr>\n",
       "      <th>count</th>\n",
       "      <td>22311.000000</td>\n",
       "      <td>22311.000000</td>\n",
       "      <td>22311.000000</td>\n",
       "      <td>22311.000000</td>\n",
       "    </tr>\n",
       "    <tr>\n",
       "      <th>mean</th>\n",
       "      <td>2009.997893</td>\n",
       "      <td>5.219354</td>\n",
       "      <td>4.539241</td>\n",
       "      <td>0.309203</td>\n",
       "    </tr>\n",
       "    <tr>\n",
       "      <th>std</th>\n",
       "      <td>3.162582</td>\n",
       "      <td>2.775917</td>\n",
       "      <td>2.297714</td>\n",
       "      <td>0.442759</td>\n",
       "    </tr>\n",
       "    <tr>\n",
       "      <th>min</th>\n",
       "      <td>2005.000000</td>\n",
       "      <td>0.000000</td>\n",
       "      <td>1.000000</td>\n",
       "      <td>0.000000</td>\n",
       "    </tr>\n",
       "    <tr>\n",
       "      <th>25%</th>\n",
       "      <td>2007.000000</td>\n",
       "      <td>3.000000</td>\n",
       "      <td>3.000000</td>\n",
       "      <td>0.045275</td>\n",
       "    </tr>\n",
       "    <tr>\n",
       "      <th>50%</th>\n",
       "      <td>2010.000000</td>\n",
       "      <td>5.000000</td>\n",
       "      <td>5.000000</td>\n",
       "      <td>0.135972</td>\n",
       "    </tr>\n",
       "    <tr>\n",
       "      <th>75%</th>\n",
       "      <td>2013.000000</td>\n",
       "      <td>8.000000</td>\n",
       "      <td>7.000000</td>\n",
       "      <td>0.401917</td>\n",
       "    </tr>\n",
       "    <tr>\n",
       "      <th>max</th>\n",
       "      <td>2015.000000</td>\n",
       "      <td>10.000000</td>\n",
       "      <td>8.000000</td>\n",
       "      <td>22.421937</td>\n",
       "    </tr>\n",
       "  </tbody>\n",
       "</table>\n",
       "</div>"
      ],
      "text/plain": [
       "               Year    HHS Region     Age Range  Percentage Deaths\n",
       "count  22311.000000  22311.000000  22311.000000       22311.000000\n",
       "mean    2009.997893      5.219354      4.539241           0.309203\n",
       "std        3.162582      2.775917      2.297714           0.442759\n",
       "min     2005.000000      0.000000      1.000000           0.000000\n",
       "25%     2007.000000      3.000000      3.000000           0.045275\n",
       "50%     2010.000000      5.000000      5.000000           0.135972\n",
       "75%     2013.000000      8.000000      7.000000           0.401917\n",
       "max     2015.000000     10.000000      8.000000          22.421937"
      ]
     },
     "execution_count": 870,
     "metadata": {},
     "output_type": "execute_result"
    }
   ],
   "source": [
    "nonMetro_reduced.describe()"
   ]
  },
  {
   "cell_type": "code",
   "execution_count": null,
   "metadata": {},
   "outputs": [],
   "source": []
  },
  {
   "cell_type": "code",
   "execution_count": null,
   "metadata": {},
   "outputs": [],
   "source": []
  },
  {
   "cell_type": "markdown",
   "metadata": {},
   "source": [
    "<h3>Check correlation for each metro/non-metro data</h3>\n",
    "<p>There is some correlation between Age and Percentage Deaths in \"Metro Data\" and NonMetroplitan area</p>"
   ]
  },
  {
   "cell_type": "code",
   "execution_count": 873,
   "metadata": {},
   "outputs": [
    {
     "data": {
      "text/plain": [
       "<matplotlib.axes._subplots.AxesSubplot at 0x11068a7f0>"
      ]
     },
     "execution_count": 873,
     "metadata": {},
     "output_type": "execute_result"
    },
    {
     "data": {
      "image/png": "[encoded data removed]",
      "text/plain": [
       "<matplotlib.figure.Figure at 0x1106b3940>"
      ]
     },
     "metadata": {},
     "output_type": "display_data"
    }
   ],
   "source": [
    "sns.heatmap(metro_reduced.corr(), annot=True)"
   ]
  },
  {
   "cell_type": "code",
   "execution_count": 874,
   "metadata": {},
   "outputs": [
    {
     "data": {
      "text/plain": [
       "<matplotlib.axes._subplots.AxesSubplot at 0x1a1efcf940>"
      ]
     },
     "execution_count": 874,
     "metadata": {},
     "output_type": "execute_result"
    },
    {
     "data": {
      "image/png": "[encoded data removed]",
      "text/plain": [
       "<matplotlib.figure.Figure at 0x1a1e880fd0>"
      ]
     },
     "metadata": {},
     "output_type": "display_data"
    }
   ],
   "source": [
    "sns.heatmap(nonMetro_reduced.corr(), annot=True)"
   ]
  },
  {
   "cell_type": "markdown",
   "metadata": {},
   "source": [
    "<p>Stack up the two data(merge the two data into a data)</p>"
   ]
  },
  {
   "cell_type": "code",
   "execution_count": 875,
   "metadata": {},
   "outputs": [
    {
     "name": "stdout",
     "output_type": "stream",
     "text": [
      "(44895, 7)\n"
     ]
    }
   ],
   "source": [
    "stacked_data = metro_reduced.append(nonMetro_reduced)\n",
    "print(stacked_data.shape)"
   ]
  },
  {
   "cell_type": "code",
   "execution_count": 876,
   "metadata": {},
   "outputs": [
    {
     "data": {
      "text/plain": [
       "<matplotlib.axes._subplots.AxesSubplot at 0x1a1f32a630>"
      ]
     },
     "execution_count": 876,
     "metadata": {},
     "output_type": "execute_result"
    },
    {
     "data": {
      "image/png": "[encoded data removed]",
      "text/plain": [
       "<matplotlib.figure.Figure at 0x1a1f347780>"
      ]
     },
     "metadata": {},
     "output_type": "display_data"
    }
   ],
   "source": [
    "sns.heatmap(stacked_data.corr(), annot=True)"
   ]
  },
  {
   "cell_type": "code",
   "execution_count": 877,
   "metadata": {},
   "outputs": [
    {
     "data": {
      "text/plain": [
       "False"
      ]
     },
     "execution_count": 877,
     "metadata": {},
     "output_type": "execute_result"
    }
   ],
   "source": [
    "stacked_data.isnull().values.any()"
   ]
  },
  {
   "cell_type": "code",
   "execution_count": 878,
   "metadata": {},
   "outputs": [
    {
     "data": {
      "text/plain": [
       "Year                 0\n",
       "Cause of Death       0\n",
       "State FIPS Code      0\n",
       "HHS Region           0\n",
       "Age Range            0\n",
       "Locality             0\n",
       "Percentage Deaths    0\n",
       "dtype: int64"
      ]
     },
     "execution_count": 878,
     "metadata": {},
     "output_type": "execute_result"
    }
   ],
   "source": [
    "stacked_data.isnull().sum()"
   ]
  },
  {
   "cell_type": "code",
   "execution_count": 879,
   "metadata": {},
   "outputs": [
    {
     "data": {
      "text/plain": [
       "(44895, 7)"
      ]
     },
     "execution_count": 879,
     "metadata": {},
     "output_type": "execute_result"
    }
   ],
   "source": [
    "stacked_data.shape"
   ]
  },
  {
   "cell_type": "code",
   "execution_count": null,
   "metadata": {},
   "outputs": [],
   "source": []
  },
  {
   "cell_type": "code",
   "execution_count": null,
   "metadata": {},
   "outputs": [],
   "source": []
  },
  {
   "cell_type": "code",
   "execution_count": null,
   "metadata": {},
   "outputs": [],
   "source": []
  },
  {
   "cell_type": "code",
   "execution_count": 889,
   "metadata": {},
   "outputs": [
    {
     "data": {
      "image/png": "[encoded data removed]",
      "text/plain": [
       "<matplotlib.figure.Figure at 0x11075f710>"
      ]
     },
     "metadata": {},
     "output_type": "display_data"
    }
   ],
   "source": [
    "with sns.axes_style(style='ticks'):\n",
    "    g = sns.factorplot('Cause of Death','Percentage Deaths', 'Locality', data=stacked_data, kind='box', aspect=3)\n",
    "    g.set_axis_labels('Cause of Death', 'Percentage Deaths')"
   ]
  },
  {
   "cell_type": "code",
   "execution_count": null,
   "metadata": {
    "scrolled": false
   },
   "outputs": [],
   "source": []
  },
  {
   "cell_type": "code",
   "execution_count": null,
   "metadata": {},
   "outputs": [],
   "source": []
  },
  {
   "cell_type": "code",
   "execution_count": null,
   "metadata": {},
   "outputs": [],
   "source": []
  },
  {
   "cell_type": "code",
   "execution_count": 40,
   "metadata": {},
   "outputs": [
    {
     "data": {
      "text/plain": [
       "Locality\n",
       "All                4278.673502\n",
       "Metropolitan       3473.688011\n",
       "Nonmetropolitan     953.591946\n",
       "Name: Observed Deaths, dtype: float64"
      ]
     },
     "execution_count": 40,
     "metadata": {},
     "output_type": "execute_result"
    }
   ],
   "source": [
    "data[\"Observed Deaths\"].groupby(data[\"Locality\"]).mean()"
   ]
  },
  {
   "cell_type": "code",
   "execution_count": 41,
   "metadata": {},
   "outputs": [
    {
     "name": "stdout",
     "output_type": "stream",
     "text": [
      "(137280, 13)\n",
      "['Metropolitan' 'Nonmetropolitan']\n"
     ]
    }
   ],
   "source": [
    "reduced_data = data[data[\"Locality\"] != \"All\"]\n",
    "print(reduced_data.shape)\n",
    "print(np.unique(reduced_data[\"Locality\"]))"
   ]
  },
  {
   "cell_type": "code",
   "execution_count": 42,
   "metadata": {},
   "outputs": [
    {
     "data": {
      "text/html": [
       "<div>\n",
       "<style>\n",
       "    .dataframe thead tr:only-child th {\n",
       "        text-align: right;\n",
       "    }\n",
       "\n",
       "    .dataframe thead th {\n",
       "        text-align: left;\n",
       "    }\n",
       "\n",
       "    .dataframe tbody tr th {\n",
       "        vertical-align: top;\n",
       "    }\n",
       "</style>\n",
       "<table border=\"1\" class=\"dataframe\">\n",
       "  <thead>\n",
       "    <tr style=\"text-align: right;\">\n",
       "      <th></th>\n",
       "      <th>Locality</th>\n",
       "      <th>Observed Deaths</th>\n",
       "    </tr>\n",
       "  </thead>\n",
       "  <tbody>\n",
       "    <tr>\n",
       "      <th>1</th>\n",
       "      <td>Metropolitan</td>\n",
       "      <td>556.0</td>\n",
       "    </tr>\n",
       "    <tr>\n",
       "      <th>2</th>\n",
       "      <td>Nonmetropolitan</td>\n",
       "      <td>200.0</td>\n",
       "    </tr>\n",
       "    <tr>\n",
       "      <th>4</th>\n",
       "      <td>Metropolitan</td>\n",
       "      <td>556.0</td>\n",
       "    </tr>\n",
       "    <tr>\n",
       "      <th>5</th>\n",
       "      <td>Nonmetropolitan</td>\n",
       "      <td>200.0</td>\n",
       "    </tr>\n",
       "    <tr>\n",
       "      <th>7</th>\n",
       "      <td>Metropolitan</td>\n",
       "      <td>556.0</td>\n",
       "    </tr>\n",
       "  </tbody>\n",
       "</table>\n",
       "</div>"
      ],
      "text/plain": [
       "          Locality  Observed Deaths\n",
       "1     Metropolitan            556.0\n",
       "2  Nonmetropolitan            200.0\n",
       "4     Metropolitan            556.0\n",
       "5  Nonmetropolitan            200.0\n",
       "7     Metropolitan            556.0"
      ]
     },
     "execution_count": 42,
     "metadata": {},
     "output_type": "execute_result"
    }
   ],
   "source": [
    "observed_deaths = reduced_data[[\"Locality\", \"Observed Deaths\"]]\n",
    "observed_deaths.head()"
   ]
  },
  {
   "cell_type": "code",
   "execution_count": 47,
   "metadata": {},
   "outputs": [
    {
     "name": "stdout",
     "output_type": "stream",
     "text": [
      "total_deaths for metro/nonmetroplitan:  291064413.0\n"
     ]
    }
   ],
   "source": [
    "total_deaths = observed_deaths[\"Observed Deaths\"].sum()\n",
    "print(\"total_deaths for metro/nonmetroplitan: \", total_deaths)"
   ]
  },
  {
   "cell_type": "code",
   "execution_count": 48,
   "metadata": {},
   "outputs": [
    {
     "name": "stderr",
     "output_type": "stream",
     "text": [
      "/Users/kentasuzuki/anaconda3/lib/python3.5/site-packages/ipykernel/__main__.py:1: SettingWithCopyWarning: \n",
      "A value is trying to be set on a copy of a slice from a DataFrame.\n",
      "Try using .loc[row_indexer,col_indexer] = value instead\n",
      "\n",
      "See the caveats in the documentation: http://pandas.pydata.org/pandas-docs/stable/indexing.html#indexing-view-versus-copy\n",
      "  if __name__ == '__main__':\n"
     ]
    },
    {
     "data": {
      "text/html": [
       "<div>\n",
       "<style>\n",
       "    .dataframe thead tr:only-child th {\n",
       "        text-align: right;\n",
       "    }\n",
       "\n",
       "    .dataframe thead th {\n",
       "        text-align: left;\n",
       "    }\n",
       "\n",
       "    .dataframe tbody tr th {\n",
       "        vertical-align: top;\n",
       "    }\n",
       "</style>\n",
       "<table border=\"1\" class=\"dataframe\">\n",
       "  <thead>\n",
       "    <tr style=\"text-align: right;\">\n",
       "      <th></th>\n",
       "      <th>Locality</th>\n",
       "      <th>Observed Deaths</th>\n",
       "      <th>Percentage Deaths</th>\n",
       "    </tr>\n",
       "  </thead>\n",
       "  <tbody>\n",
       "    <tr>\n",
       "      <th>1</th>\n",
       "      <td>Metropolitan</td>\n",
       "      <td>556.0</td>\n",
       "      <td>1.910230e-06</td>\n",
       "    </tr>\n",
       "    <tr>\n",
       "      <th>2</th>\n",
       "      <td>Nonmetropolitan</td>\n",
       "      <td>200.0</td>\n",
       "      <td>6.871331e-07</td>\n",
       "    </tr>\n",
       "    <tr>\n",
       "      <th>4</th>\n",
       "      <td>Metropolitan</td>\n",
       "      <td>556.0</td>\n",
       "      <td>1.910230e-06</td>\n",
       "    </tr>\n",
       "    <tr>\n",
       "      <th>5</th>\n",
       "      <td>Nonmetropolitan</td>\n",
       "      <td>200.0</td>\n",
       "      <td>6.871331e-07</td>\n",
       "    </tr>\n",
       "    <tr>\n",
       "      <th>7</th>\n",
       "      <td>Metropolitan</td>\n",
       "      <td>556.0</td>\n",
       "      <td>1.910230e-06</td>\n",
       "    </tr>\n",
       "  </tbody>\n",
       "</table>\n",
       "</div>"
      ],
      "text/plain": [
       "          Locality  Observed Deaths  Percentage Deaths\n",
       "1     Metropolitan            556.0       1.910230e-06\n",
       "2  Nonmetropolitan            200.0       6.871331e-07\n",
       "4     Metropolitan            556.0       1.910230e-06\n",
       "5  Nonmetropolitan            200.0       6.871331e-07\n",
       "7     Metropolitan            556.0       1.910230e-06"
      ]
     },
     "execution_count": 48,
     "metadata": {},
     "output_type": "execute_result"
    }
   ],
   "source": [
    "observed_deaths[\"Percentage Deaths\"] = observed_deaths[\"Observed Deaths\"] / total_deaths\n",
    "observed_deaths.head()"
   ]
  },
  {
   "cell_type": "code",
   "execution_count": 51,
   "metadata": {},
   "outputs": [],
   "source": [
    "observed_deaths_local = observed_deaths[\"Percentage Deaths\"].groupby(observed_deaths[\"Locality\"])"
   ]
  },
  {
   "cell_type": "code",
   "execution_count": 65,
   "metadata": {},
   "outputs": [
    {
     "data": {
      "text/plain": [
       "<matplotlib.axes._subplots.AxesSubplot at 0x11861f978>"
      ]
     },
     "execution_count": 65,
     "metadata": {},
     "output_type": "execute_result"
    },
    {
     "data": {
      "image/png": "[encoded data removed]",
      "text/plain": [
       "<matplotlib.figure.Figure at 0x11a657860>"
      ]
     },
     "metadata": {},
     "output_type": "display_data"
    }
   ],
   "source": [
    "observed_deaths_local.sum().plot.bar(color='#a3d1f1', title=\"Death rate by locality\")"
   ]
  },
  {
   "cell_type": "code",
   "execution_count": 27,
   "metadata": {},
   "outputs": [
    {
     "name": "stderr",
     "output_type": "stream",
     "text": [
      "/Users/kentasuzuki/anaconda3/lib/python3.5/site-packages/ipykernel/__main__.py:1: SettingWithCopyWarning: \n",
      "A value is trying to be set on a copy of a slice from a DataFrame.\n",
      "Try using .loc[row_indexer,col_indexer] = value instead\n",
      "\n",
      "See the caveats in the documentation: http://pandas.pydata.org/pandas-docs/stable/indexing.html#indexing-view-versus-copy\n",
      "  if __name__ == '__main__':\n"
     ]
    },
    {
     "data": {
      "text/html": [
       "<div>\n",
       "<style>\n",
       "    .dataframe thead tr:only-child th {\n",
       "        text-align: right;\n",
       "    }\n",
       "\n",
       "    .dataframe thead th {\n",
       "        text-align: left;\n",
       "    }\n",
       "\n",
       "    .dataframe tbody tr th {\n",
       "        vertical-align: top;\n",
       "    }\n",
       "</style>\n",
       "<table border=\"1\" class=\"dataframe\">\n",
       "  <thead>\n",
       "    <tr style=\"text-align: right;\">\n",
       "      <th></th>\n",
       "      <th>Locality</th>\n",
       "      <th>Observed Deaths</th>\n",
       "      <th>Percentage Deaths</th>\n",
       "    </tr>\n",
       "  </thead>\n",
       "  <tbody>\n",
       "    <tr>\n",
       "      <th>1</th>\n",
       "      <td>Metropolitan</td>\n",
       "      <td>556.0</td>\n",
       "      <td>9.550855e-07</td>\n",
       "    </tr>\n",
       "    <tr>\n",
       "      <th>2</th>\n",
       "      <td>Nonmetropolitan</td>\n",
       "      <td>200.0</td>\n",
       "      <td>3.435559e-07</td>\n",
       "    </tr>\n",
       "    <tr>\n",
       "      <th>4</th>\n",
       "      <td>Metropolitan</td>\n",
       "      <td>556.0</td>\n",
       "      <td>9.550855e-07</td>\n",
       "    </tr>\n",
       "    <tr>\n",
       "      <th>5</th>\n",
       "      <td>Nonmetropolitan</td>\n",
       "      <td>200.0</td>\n",
       "      <td>3.435559e-07</td>\n",
       "    </tr>\n",
       "    <tr>\n",
       "      <th>7</th>\n",
       "      <td>Metropolitan</td>\n",
       "      <td>556.0</td>\n",
       "      <td>9.550855e-07</td>\n",
       "    </tr>\n",
       "  </tbody>\n",
       "</table>\n",
       "</div>"
      ],
      "text/plain": [
       "          Locality  Observed Deaths  Percentage Deaths\n",
       "1     Metropolitan            556.0       9.550855e-07\n",
       "2  Nonmetropolitan            200.0       3.435559e-07\n",
       "4     Metropolitan            556.0       9.550855e-07\n",
       "5  Nonmetropolitan            200.0       3.435559e-07\n",
       "7     Metropolitan            556.0       9.550855e-07"
      ]
     },
     "execution_count": 27,
     "metadata": {},
     "output_type": "execute_result"
    }
   ],
   "source": [
    "observed_deaths[\"Percentage Deaths\"] = observed_deaths[\"Observed Deaths\"] / total_deaths\n",
    "observed_deaths.head()"
   ]
  },
  {
   "cell_type": "markdown",
   "metadata": {},
   "source": [
    "<h3>Divide the original data frame into </h3>\n",
    "<ol>\n",
    "    <li>Locality is \"Metropolitan\"</li>\n",
    "    <li>Locality is \"Nonmetropolitan\"</li>\n",
    "    <li>Locality is \"All\"</li>\n",
    "</ol>"
   ]
  },
  {
   "cell_type": "code",
   "execution_count": 8,
   "metadata": {},
   "outputs": [],
   "source": [
    "metropolitan_data = data.loc[data[\"Locality\"] == \"Metropolitan\"]\n",
    "nonMetropolitan_data = data.loc[data[\"Locality\"] == \"Nonmetropolitan\"]\n",
    "locality_all_data = data.loc[data[\"Locality\"] == \"All\"]"
   ]
  },
  {
   "cell_type": "code",
   "execution_count": 9,
   "metadata": {},
   "outputs": [
    {
     "name": "stdout",
     "output_type": "stream",
     "text": [
      "Shape of metropolitan data is : (68640, 13)\n",
      "Shape of NonMetroplitan data is:  (68640, 13)\n",
      "Shape of locality_all_data is:  (68640, 13)\n"
     ]
    }
   ],
   "source": [
    "print(\"Shape of metropolitan data is :\", metropolitan_data.shape)\n",
    "print(\"Shape of NonMetroplitan data is: \", nonMetropolitan_data.shape)\n",
    "print(\"Shape of locality_all_data is: \", locality_all_data.shape)"
   ]
  },
  {
   "cell_type": "code",
   "execution_count": 10,
   "metadata": {},
   "outputs": [
    {
     "name": "stdout",
     "output_type": "stream",
     "text": [
      "True\n"
     ]
    }
   ],
   "source": [
    "# sanity check\n",
    "# check whethere we divided the original data into collective exhaustive and mutually exlusive\n",
    "print(data.shape[0] == (metropolitan_data.shape[0] + nonMetropolitan_data.shape[0] + locality_all_data.shape[0]))"
   ]
  },
  {
   "cell_type": "code",
   "execution_count": 39,
   "metadata": {},
   "outputs": [
    {
     "data": {
      "text/plain": [
       "Locality\n",
       "All                4278.673502\n",
       "Metropolitan       3473.688011\n",
       "Nonmetropolitan     953.591946\n",
       "Name: Observed Deaths, dtype: float64"
      ]
     },
     "execution_count": 39,
     "metadata": {},
     "output_type": "execute_result"
    }
   ],
   "source": [
    "data[\"Observed Deaths\"].groupby(data[\"Locality\"]).mean()"
   ]
  },
  {
   "cell_type": "code",
   "execution_count": null,
   "metadata": {},
   "outputs": [],
   "source": [
    " "
   ]
  },
  {
   "cell_type": "code",
   "execution_count": null,
   "metadata": {},
   "outputs": [],
   "source": []
  },
  {
   "cell_type": "code",
   "execution_count": 36,
   "metadata": {},
   "outputs": [],
   "source": [
    "observed_deaths = data[\"Observed Deaths\"].groupby(data[\"Locality\"])"
   ]
  },
  {
   "cell_type": "code",
   "execution_count": 37,
   "metadata": {},
   "outputs": [
    {
     "data": {
      "text/plain": [
       "<matplotlib.axes._subplots.AxesSubplot at 0x1a23ecac50>"
      ]
     },
     "execution_count": 37,
     "metadata": {},
     "output_type": "execute_result"
    },
    {
     "data": {
      "image/png": "[encoded data removed]",
      "text/plain": [
       "<matplotlib.figure.Figure at 0x1a125d8b00>"
      ]
     },
     "metadata": {},
     "output_type": "display_data"
    }
   ],
   "source": [
    "observed_deaths.mean().plot.bar()"
   ]
  },
  {
   "cell_type": "code",
   "execution_count": 45,
   "metadata": {},
   "outputs": [
    {
     "name": "stdout",
     "output_type": "stream",
     "text": [
      "(205920,)\n"
     ]
    }
   ],
   "source": [
    "percentage_death = data[\"Observed Deaths\"].transform(lambda x: x / x.sum())\n",
    "print(percentage_death.shape)"
   ]
  },
  {
   "cell_type": "code",
   "execution_count": 46,
   "metadata": {},
   "outputs": [
    {
     "data": {
      "text/plain": [
       "(205920, 13)"
      ]
     },
     "execution_count": 46,
     "metadata": {},
     "output_type": "execute_result"
    }
   ],
   "source": [
    "data.shape"
   ]
  },
  {
   "cell_type": "code",
   "execution_count": 52,
   "metadata": {},
   "outputs": [
    {
     "data": {
      "text/plain": [
       "1.0000000000000233"
      ]
     },
     "execution_count": 52,
     "metadata": {},
     "output_type": "execute_result"
    }
   ],
   "source": [
    "percentage_death.sum()"
   ]
  },
  {
   "cell_type": "code",
   "execution_count": 55,
   "metadata": {},
   "outputs": [
    {
     "data": {
      "text/plain": [
       "1.2986413995025481e-06"
      ]
     },
     "execution_count": 55,
     "metadata": {},
     "output_type": "execute_result"
    }
   ],
   "source": [
    "data[\"Observed Deaths\"].loc[0] / data[\"Observed Deaths\"].sum()"
   ]
  },
  {
   "cell_type": "code",
   "execution_count": 56,
   "metadata": {},
   "outputs": [
    {
     "data": {
      "text/plain": [
       "0    1.298641e-06\n",
       "1    9.550855e-07\n",
       "Name: Observed Deaths, dtype: float64"
      ]
     },
     "execution_count": 56,
     "metadata": {},
     "output_type": "execute_result"
    }
   ],
   "source": [
    "percentage_death[:2]"
   ]
  },
  {
   "cell_type": "code",
   "execution_count": 48,
   "metadata": {},
   "outputs": [],
   "source": [
    "data[\"dealth_percentage\"] = percentage_death.values"
   ]
  },
  {
   "cell_type": "code",
   "execution_count": 50,
   "metadata": {},
   "outputs": [
    {
     "data": {
      "text/plain": [
       "<matplotlib.axes._subplots.AxesSubplot at 0x1a131681d0>"
      ]
     },
     "execution_count": 50,
     "metadata": {},
     "output_type": "execute_result"
    },
    {
     "data": {
      "image/png": "[encoded data removed]",
      "text/plain": [
       "<matplotlib.figure.Figure at 0x1a131478d0>"
      ]
     },
     "metadata": {},
     "output_type": "display_data"
    }
   ],
   "source": [
    "observed_deaths = data[\"dealth_percentage\"].groupby(data[\"Locality\"])\n",
    "observed_deaths.mean().plot.bar()"
   ]
  },
  {
   "cell_type": "code",
   "execution_count": 23,
   "metadata": {},
   "outputs": [
    {
     "ename": "AttributeError",
     "evalue": "Cannot access callable attribute 'div' of 'SeriesGroupBy' objects, try using the 'apply' method",
     "output_type": "error",
     "traceback": [
      "\u001b[0;31m---------------------------------------------------------------------------\u001b[0m",
      "\u001b[0;31mAttributeError\u001b[0m                            Traceback (most recent call last)",
      "\u001b[0;32m<ipython-input-23-22a46a5a059d>\u001b[0m in \u001b[0;36m<module>\u001b[0;34m()\u001b[0m\n\u001b[0;32m----> 1\u001b[0;31m \u001b[0mdealth_proportion\u001b[0m \u001b[0;34m=\u001b[0m \u001b[0mobserved_deaths\u001b[0m\u001b[0;34m.\u001b[0m\u001b[0mdiv\u001b[0m\u001b[0;34m(\u001b[0m\u001b[0mobserved_dealths\u001b[0m\u001b[0;34m.\u001b[0m\u001b[0msum\u001b[0m\u001b[0;34m(\u001b[0m\u001b[0;36m1\u001b[0m\u001b[0;34m)\u001b[0m\u001b[0;34m,\u001b[0m \u001b[0maxis\u001b[0m\u001b[0;34m=\u001b[0m\u001b[0;36m0\u001b[0m\u001b[0;34m)\u001b[0m\u001b[0;34m\u001b[0m\u001b[0m\n\u001b[0m\u001b[1;32m      2\u001b[0m \u001b[0mprint\u001b[0m\u001b[0;34m(\u001b[0m\u001b[0mdealth_proportion\u001b[0m\u001b[0;34m)\u001b[0m\u001b[0;34m\u001b[0m\u001b[0m\n",
      "\u001b[0;32m~/anaconda3/lib/python3.5/site-packages/pandas/core/groupby.py\u001b[0m in \u001b[0;36m__getattr__\u001b[0;34m(self, attr)\u001b[0m\n\u001b[1;32m    546\u001b[0m             \u001b[0;32mreturn\u001b[0m \u001b[0mself\u001b[0m\u001b[0;34m[\u001b[0m\u001b[0mattr\u001b[0m\u001b[0;34m]\u001b[0m\u001b[0;34m\u001b[0m\u001b[0m\n\u001b[1;32m    547\u001b[0m         \u001b[0;32mif\u001b[0m \u001b[0mhasattr\u001b[0m\u001b[0;34m(\u001b[0m\u001b[0mself\u001b[0m\u001b[0;34m.\u001b[0m\u001b[0mobj\u001b[0m\u001b[0;34m,\u001b[0m \u001b[0mattr\u001b[0m\u001b[0;34m)\u001b[0m\u001b[0;34m:\u001b[0m\u001b[0;34m\u001b[0m\u001b[0m\n\u001b[0;32m--> 548\u001b[0;31m             \u001b[0;32mreturn\u001b[0m \u001b[0mself\u001b[0m\u001b[0;34m.\u001b[0m\u001b[0m_make_wrapper\u001b[0m\u001b[0;34m(\u001b[0m\u001b[0mattr\u001b[0m\u001b[0;34m)\u001b[0m\u001b[0;34m\u001b[0m\u001b[0m\n\u001b[0m\u001b[1;32m    549\u001b[0m \u001b[0;34m\u001b[0m\u001b[0m\n\u001b[1;32m    550\u001b[0m         raise AttributeError(\"%r object has no attribute %r\" %\n",
      "\u001b[0;32m~/anaconda3/lib/python3.5/site-packages/pandas/core/groupby.py\u001b[0m in \u001b[0;36m_make_wrapper\u001b[0;34m(self, name)\u001b[0m\n\u001b[1;32m    560\u001b[0m                    \"using the 'apply' method\".format(kind, name,\n\u001b[1;32m    561\u001b[0m                                                      type(self).__name__))\n\u001b[0;32m--> 562\u001b[0;31m             \u001b[0;32mraise\u001b[0m \u001b[0mAttributeError\u001b[0m\u001b[0;34m(\u001b[0m\u001b[0mmsg\u001b[0m\u001b[0;34m)\u001b[0m\u001b[0;34m\u001b[0m\u001b[0m\n\u001b[0m\u001b[1;32m    563\u001b[0m \u001b[0;34m\u001b[0m\u001b[0m\n\u001b[1;32m    564\u001b[0m         \u001b[0;31m# need to setup the selection\u001b[0m\u001b[0;34m\u001b[0m\u001b[0;34m\u001b[0m\u001b[0m\n",
      "\u001b[0;31mAttributeError\u001b[0m: Cannot access callable attribute 'div' of 'SeriesGroupBy' objects, try using the 'apply' method"
     ]
    }
   ],
   "source": [
    "dealth_proportion = observed_deaths.div(observed_dealths.sum(1), axis=0)\n",
    "print(dealth_proportion)"
   ]
  },
  {
   "cell_type": "code",
   "execution_count": 17,
   "metadata": {},
   "outputs": [
    {
     "data": {
      "text/plain": [
       "0.02401237208885721"
      ]
     },
     "execution_count": 17,
     "metadata": {},
     "output_type": "execute_result"
    }
   ],
   "source": [
    "reduced_data = data.drop([''])"
   ]
  },
  {
   "cell_type": "code",
   "execution_count": 21,
   "metadata": {},
   "outputs": [
    {
     "data": {
      "text/plain": [
       "array(['0', 'AK', 'AL', 'AR', 'AZ', 'CA', 'CO', 'CT', 'DC', 'DE', 'FL',\n",
       "       'GA', 'HI', 'IA', 'ID', 'IL', 'IN', 'KS', 'KY', 'LA', 'MA', 'MD',\n",
       "       'ME', 'MI', 'MN', 'MO', 'MS', 'MT', 'NC', 'ND', 'NE', 'NH', 'NJ',\n",
       "       'NM', 'NV', 'NY', 'OH', 'OK', 'OR', 'PA', 'RI', 'SC', 'SD', 'TN',\n",
       "       'TX', 'UT', 'VA', 'VT', 'WA', 'WI', 'WV', 'WY'], dtype=object)"
      ]
     },
     "execution_count": 21,
     "metadata": {},
     "output_type": "execute_result"
    }
   ],
   "source": [
    "np.unique(data['State FIPS Code'])"
   ]
  },
  {
   "cell_type": "code",
   "execution_count": 10,
   "metadata": {},
   "outputs": [
    {
     "data": {
      "text/html": [
       "<div>\n",
       "<style>\n",
       "    .dataframe thead tr:only-child th {\n",
       "        text-align: right;\n",
       "    }\n",
       "\n",
       "    .dataframe thead th {\n",
       "        text-align: left;\n",
       "    }\n",
       "\n",
       "    .dataframe tbody tr th {\n",
       "        vertical-align: top;\n",
       "    }\n",
       "</style>\n",
       "<table border=\"1\" class=\"dataframe\">\n",
       "  <thead>\n",
       "    <tr style=\"text-align: right;\">\n",
       "      <th></th>\n",
       "      <th>Year</th>\n",
       "      <th>HHS Region</th>\n",
       "      <th>Observed Deaths</th>\n",
       "      <th>Population</th>\n",
       "      <th>Expected Deaths</th>\n",
       "      <th>Potentially Excess Deaths</th>\n",
       "    </tr>\n",
       "  </thead>\n",
       "  <tbody>\n",
       "    <tr>\n",
       "      <th>count</th>\n",
       "      <td>205920.000000</td>\n",
       "      <td>205920.000000</td>\n",
       "      <td>195708.000000</td>\n",
       "      <td>2.006400e+05</td>\n",
       "      <td>195708.000000</td>\n",
       "      <td>195708.000000</td>\n",
       "    </tr>\n",
       "    <tr>\n",
       "      <th>mean</th>\n",
       "      <td>2010.000000</td>\n",
       "      <td>5.230769</td>\n",
       "      <td>2974.568490</td>\n",
       "      <td>7.008421e+06</td>\n",
       "      <td>2112.863092</td>\n",
       "      <td>875.121043</td>\n",
       "    </tr>\n",
       "    <tr>\n",
       "      <th>std</th>\n",
       "      <td>3.162285</td>\n",
       "      <td>2.798464</td>\n",
       "      <td>17164.665931</td>\n",
       "      <td>2.861818e+07</td>\n",
       "      <td>13291.617895</td>\n",
       "      <td>4410.206402</td>\n",
       "    </tr>\n",
       "    <tr>\n",
       "      <th>min</th>\n",
       "      <td>2005.000000</td>\n",
       "      <td>0.000000</td>\n",
       "      <td>10.000000</td>\n",
       "      <td>5.553600e+04</td>\n",
       "      <td>2.000000</td>\n",
       "      <td>0.000000</td>\n",
       "    </tr>\n",
       "    <tr>\n",
       "      <th>25%</th>\n",
       "      <td>2007.000000</td>\n",
       "      <td>3.000000</td>\n",
       "      <td>155.000000</td>\n",
       "      <td>6.828258e+05</td>\n",
       "      <td>92.000000</td>\n",
       "      <td>41.000000</td>\n",
       "    </tr>\n",
       "    <tr>\n",
       "      <th>50%</th>\n",
       "      <td>2010.000000</td>\n",
       "      <td>5.000000</td>\n",
       "      <td>508.000000</td>\n",
       "      <td>1.610936e+06</td>\n",
       "      <td>298.000000</td>\n",
       "      <td>159.000000</td>\n",
       "    </tr>\n",
       "    <tr>\n",
       "      <th>75%</th>\n",
       "      <td>2013.000000</td>\n",
       "      <td>8.000000</td>\n",
       "      <td>1586.000000</td>\n",
       "      <td>4.681585e+06</td>\n",
       "      <td>1019.000000</td>\n",
       "      <td>543.000000</td>\n",
       "    </tr>\n",
       "    <tr>\n",
       "      <th>max</th>\n",
       "      <td>2015.000000</td>\n",
       "      <td>10.000000</td>\n",
       "      <td>493526.000000</td>\n",
       "      <td>3.151317e+08</td>\n",
       "      <td>465126.000000</td>\n",
       "      <td>175703.000000</td>\n",
       "    </tr>\n",
       "  </tbody>\n",
       "</table>\n",
       "</div>"
      ],
      "text/plain": [
       "                Year     HHS Region  Observed Deaths    Population  \\\n",
       "count  205920.000000  205920.000000    195708.000000  2.006400e+05   \n",
       "mean     2010.000000       5.230769      2974.568490  7.008421e+06   \n",
       "std         3.162285       2.798464     17164.665931  2.861818e+07   \n",
       "min      2005.000000       0.000000        10.000000  5.553600e+04   \n",
       "25%      2007.000000       3.000000       155.000000  6.828258e+05   \n",
       "50%      2010.000000       5.000000       508.000000  1.610936e+06   \n",
       "75%      2013.000000       8.000000      1586.000000  4.681585e+06   \n",
       "max      2015.000000      10.000000    493526.000000  3.151317e+08   \n",
       "\n",
       "       Expected Deaths  Potentially Excess Deaths  \n",
       "count    195708.000000              195708.000000  \n",
       "mean       2112.863092                 875.121043  \n",
       "std       13291.617895                4410.206402  \n",
       "min           2.000000                   0.000000  \n",
       "25%          92.000000                  41.000000  \n",
       "50%         298.000000                 159.000000  \n",
       "75%        1019.000000                 543.000000  \n",
       "max      465126.000000              175703.000000  "
      ]
     },
     "execution_count": 10,
     "metadata": {},
     "output_type": "execute_result"
    }
   ],
   "source": [
    "data.describe()"
   ]
  },
  {
   "cell_type": "code",
   "execution_count": 15,
   "metadata": {
    "scrolled": false
   },
   "outputs": [
    {
     "data": {
      "text/plain": [
       "<matplotlib.axes._subplots.AxesSubplot at 0x11559f5f8>"
      ]
     },
     "execution_count": 15,
     "metadata": {},
     "output_type": "execute_result"
    },
    {
     "data": {
      "image/png": "[encoded data removed]",
      "text/plain": [
       "<matplotlib.figure.Figure at 0x1155aaa90>"
      ]
     },
     "metadata": {},
     "output_type": "display_data"
    }
   ],
   "source": [
    "sns.heatmap(data.corr(), annot=True)"
   ]
  },
  {
   "cell_type": "code",
   "execution_count": 258,
   "metadata": {},
   "outputs": [
    {
     "data": {
      "text/plain": [
       "array(['1-4 years', '10-14 years', '15-19 years', '5-9 years'], dtype=object)"
      ]
     },
     "execution_count": 258,
     "metadata": {},
     "output_type": "execute_result"
    }
   ],
   "source": [
    "np.unique(data[\"Age Group\"])"
   ]
  },
  {
   "cell_type": "code",
   "execution_count": 259,
   "metadata": {},
   "outputs": [],
   "source": [
    "# mapping ordinal features\n",
    "age_mapping = {\"1-4 years\": 0, \"5-9 years\": 1, \"10-14 years\": 2, \"15-19 years\": 3}\n",
    "data[\"Age Group\"] = data[\"Age Group\"].map(age_mapping)"
   ]
  },
  {
   "cell_type": "code",
   "execution_count": 260,
   "metadata": {},
   "outputs": [
    {
     "data": {
      "text/plain": [
       "array([0, 1, 2, 3])"
      ]
     },
     "execution_count": 260,
     "metadata": {},
     "output_type": "execute_result"
    }
   ],
   "source": [
    "np.unique(data[\"Age Group\"])"
   ]
  },
  {
   "cell_type": "code",
   "execution_count": 261,
   "metadata": {},
   "outputs": [],
   "source": [
    "inv_size_mapping = {index:age for (age, index) in age_mapping.items() }"
   ]
  },
  {
   "cell_type": "code",
   "execution_count": 262,
   "metadata": {},
   "outputs": [
    {
     "data": {
      "text/plain": [
       "{0: '1-4 years', 1: '5-9 years', 2: '10-14 years', 3: '15-19 years'}"
      ]
     },
     "execution_count": 262,
     "metadata": {},
     "output_type": "execute_result"
    }
   ],
   "source": [
    "# inverse transformation\n",
    "inv_size_mapping"
   ]
  },
  {
   "cell_type": "code",
   "execution_count": 271,
   "metadata": {},
   "outputs": [
    {
     "data": {
      "text/html": [
       "<div>\n",
       "<style>\n",
       "    .dataframe thead tr:only-child th {\n",
       "        text-align: right;\n",
       "    }\n",
       "\n",
       "    .dataframe thead th {\n",
       "        text-align: left;\n",
       "    }\n",
       "\n",
       "    .dataframe tbody tr th {\n",
       "        vertical-align: top;\n",
       "    }\n",
       "</style>\n",
       "<table border=\"1\" class=\"dataframe\">\n",
       "  <thead>\n",
       "    <tr style=\"text-align: right;\">\n",
       "      <th></th>\n",
       "      <th>Year</th>\n",
       "      <th>Age Group</th>\n",
       "      <th>Death Rate</th>\n",
       "    </tr>\n",
       "  </thead>\n",
       "  <tbody>\n",
       "    <tr>\n",
       "      <th>0</th>\n",
       "      <td>1900</td>\n",
       "      <td>2</td>\n",
       "      <td>298.3</td>\n",
       "    </tr>\n",
       "    <tr>\n",
       "      <th>1</th>\n",
       "      <td>1900</td>\n",
       "      <td>0</td>\n",
       "      <td>1983.8</td>\n",
       "    </tr>\n",
       "    <tr>\n",
       "      <th>2</th>\n",
       "      <td>1900</td>\n",
       "      <td>3</td>\n",
       "      <td>484.8</td>\n",
       "    </tr>\n",
       "    <tr>\n",
       "      <th>3</th>\n",
       "      <td>1900</td>\n",
       "      <td>1</td>\n",
       "      <td>466.1</td>\n",
       "    </tr>\n",
       "    <tr>\n",
       "      <th>4</th>\n",
       "      <td>1901</td>\n",
       "      <td>2</td>\n",
       "      <td>273.6</td>\n",
       "    </tr>\n",
       "  </tbody>\n",
       "</table>\n",
       "</div>"
      ],
      "text/plain": [
       "   Year  Age Group  Death Rate\n",
       "0  1900          2       298.3\n",
       "1  1900          0      1983.8\n",
       "2  1900          3       484.8\n",
       "3  1900          1       466.1\n",
       "4  1901          2       273.6"
      ]
     },
     "execution_count": 271,
     "metadata": {},
     "output_type": "execute_result"
    }
   ],
   "source": [
    "data.head()"
   ]
  },
  {
   "cell_type": "code",
   "execution_count": 264,
   "metadata": {},
   "outputs": [
    {
     "data": {
      "text/plain": [
       "2"
      ]
     },
     "execution_count": 264,
     "metadata": {},
     "output_type": "execute_result"
    }
   ],
   "source": [
    "data[\"Age Group\"][4]"
   ]
  },
  {
   "cell_type": "code",
   "execution_count": 277,
   "metadata": {},
   "outputs": [
    {
     "data": {
      "text/plain": [
       "(464, 3)"
      ]
     },
     "execution_count": 277,
     "metadata": {},
     "output_type": "execute_result"
    }
   ],
   "source": [
    "data.shape"
   ]
  },
  {
   "cell_type": "code",
   "execution_count": 278,
   "metadata": {},
   "outputs": [
    {
     "data": {
      "text/html": [
       "<div>\n",
       "<style>\n",
       "    .dataframe thead tr:only-child th {\n",
       "        text-align: right;\n",
       "    }\n",
       "\n",
       "    .dataframe thead th {\n",
       "        text-align: left;\n",
       "    }\n",
       "\n",
       "    .dataframe tbody tr th {\n",
       "        vertical-align: top;\n",
       "    }\n",
       "</style>\n",
       "<table border=\"1\" class=\"dataframe\">\n",
       "  <thead>\n",
       "    <tr style=\"text-align: right;\">\n",
       "      <th></th>\n",
       "      <th>Year</th>\n",
       "      <th>Age Group</th>\n",
       "      <th>Death Rate</th>\n",
       "    </tr>\n",
       "  </thead>\n",
       "  <tbody>\n",
       "    <tr>\n",
       "      <th>459</th>\n",
       "      <td>2014</td>\n",
       "      <td>1</td>\n",
       "      <td>11.5</td>\n",
       "    </tr>\n",
       "    <tr>\n",
       "      <th>460</th>\n",
       "      <td>2015</td>\n",
       "      <td>2</td>\n",
       "      <td>14.6</td>\n",
       "    </tr>\n",
       "    <tr>\n",
       "      <th>461</th>\n",
       "      <td>2015</td>\n",
       "      <td>0</td>\n",
       "      <td>24.9</td>\n",
       "    </tr>\n",
       "    <tr>\n",
       "      <th>462</th>\n",
       "      <td>2015</td>\n",
       "      <td>3</td>\n",
       "      <td>48.3</td>\n",
       "    </tr>\n",
       "    <tr>\n",
       "      <th>463</th>\n",
       "      <td>2015</td>\n",
       "      <td>1</td>\n",
       "      <td>11.7</td>\n",
       "    </tr>\n",
       "  </tbody>\n",
       "</table>\n",
       "</div>"
      ],
      "text/plain": [
       "     Year  Age Group  Death Rate\n",
       "459  2014          1        11.5\n",
       "460  2015          2        14.6\n",
       "461  2015          0        24.9\n",
       "462  2015          3        48.3\n",
       "463  2015          1        11.7"
      ]
     },
     "execution_count": 278,
     "metadata": {},
     "output_type": "execute_result"
    }
   ],
   "source": [
    "data.tail()"
   ]
  },
  {
   "cell_type": "code",
   "execution_count": 282,
   "metadata": {},
   "outputs": [
    {
     "data": {
      "text/plain": [
       "(465,)"
      ]
     },
     "execution_count": 282,
     "metadata": {},
     "output_type": "execute_result"
    }
   ],
   "source": [
    "pd.date_range(\"1900\", \"2016\", freq=\"QS\").shape"
   ]
  },
  {
   "cell_type": "code",
   "execution_count": 283,
   "metadata": {},
   "outputs": [
    {
     "data": {
      "text/plain": [
       "DatetimeIndex(['1900-01-01', '1900-04-01', '1900-07-01', '1900-10-01',\n",
       "               '1901-01-01', '1901-04-01', '1901-07-01', '1901-10-01',\n",
       "               '1902-01-01', '1902-04-01',\n",
       "               ...\n",
       "               '2013-07-01', '2013-10-01', '2014-01-01', '2014-04-01',\n",
       "               '2014-07-01', '2014-10-01', '2015-01-01', '2015-04-01',\n",
       "               '2015-07-01', '2015-10-01'],\n",
       "              dtype='datetime64[ns]', length=464, freq='QS-JAN')"
      ]
     },
     "execution_count": 283,
     "metadata": {},
     "output_type": "execute_result"
    }
   ],
   "source": [
    "pd.date_range(\"1900\", \"2016\", freq=\"QS\")[:-1]"
   ]
  },
  {
   "cell_type": "code",
   "execution_count": 268,
   "metadata": {},
   "outputs": [],
   "source": [
    "def convert_to_quarter(data):\n",
    "    count = 0\n",
    "    for i, _ in enumerate(data[\"Year\"]):\n",
    "        data_copy = data.copy()\n",
    "        \n",
    "        if count == 0:\n",
    "            data_copy.iloc[i][\"Year\"] =  str(data_copy.iloc[i][\"Year\"]) + \"-Q1\"\n",
    "            count +=1\n",
    "        elif count == 1:\n",
    "            data_copy.iloc[i][\"Year\"]  =  str(data_copy.iloc[i][\"Year\"]) + \"-Q2\"\n",
    "            count +=1\n",
    "        elif count == 2:\n",
    "            data_copy.iloc[i][\"Year\"]  =  str(data_copy.iloc[i][\"Year\"]) +  \"-Q3\"\n",
    "            count +=1\n",
    "        else:\n",
    "            data_copy.iloc[i][\"Year\"]  =  str(data_copy.iloc[i][\"Year\"]) +  \"-Q4\"\n",
    "            count = 0\n",
    "        \n",
    "    return data_copy"
   ]
  },
  {
   "cell_type": "code",
   "execution_count": 269,
   "metadata": {},
   "outputs": [
    {
     "data": {
      "text/plain": [
       "0.0"
      ]
     },
     "execution_count": 269,
     "metadata": {},
     "output_type": "execute_result"
    }
   ],
   "source": [
    "data.iloc[1][\"Age Group\"]"
   ]
  },
  {
   "cell_type": "code",
   "execution_count": 270,
   "metadata": {},
   "outputs": [
    {
     "name": "stderr",
     "output_type": "stream",
     "text": [
      "/Users/kentasuzuki/anaconda3/lib/python3.5/site-packages/ipykernel/__main__.py:7: SettingWithCopyWarning: \n",
      "A value is trying to be set on a copy of a slice from a DataFrame\n",
      "\n",
      "See the caveats in the documentation: http://pandas.pydata.org/pandas-docs/stable/indexing.html#indexing-view-versus-copy\n",
      "/Users/kentasuzuki/anaconda3/lib/python3.5/site-packages/pandas/core/indexing.py:179: SettingWithCopyWarning: \n",
      "A value is trying to be set on a copy of a slice from a DataFrame\n",
      "\n",
      "See the caveats in the documentation: http://pandas.pydata.org/pandas-docs/stable/indexing.html#indexing-view-versus-copy\n",
      "  self._setitem_with_indexer(indexer, value)\n",
      "/Users/kentasuzuki/anaconda3/lib/python3.5/site-packages/pandas/core/series.py:747: SettingWithCopyWarning: \n",
      "A value is trying to be set on a copy of a slice from a DataFrame\n",
      "\n",
      "See the caveats in the documentation: http://pandas.pydata.org/pandas-docs/stable/indexing.html#indexing-view-versus-copy\n",
      "  self.loc[key] = value\n",
      "/Users/kentasuzuki/anaconda3/lib/python3.5/site-packages/ipykernel/__main__.py:10: SettingWithCopyWarning: \n",
      "A value is trying to be set on a copy of a slice from a DataFrame\n",
      "\n",
      "See the caveats in the documentation: http://pandas.pydata.org/pandas-docs/stable/indexing.html#indexing-view-versus-copy\n",
      "/Users/kentasuzuki/anaconda3/lib/python3.5/site-packages/ipykernel/__main__.py:13: SettingWithCopyWarning: \n",
      "A value is trying to be set on a copy of a slice from a DataFrame\n",
      "\n",
      "See the caveats in the documentation: http://pandas.pydata.org/pandas-docs/stable/indexing.html#indexing-view-versus-copy\n",
      "/Users/kentasuzuki/anaconda3/lib/python3.5/site-packages/ipykernel/__main__.py:16: SettingWithCopyWarning: \n",
      "A value is trying to be set on a copy of a slice from a DataFrame\n",
      "\n",
      "See the caveats in the documentation: http://pandas.pydata.org/pandas-docs/stable/indexing.html#indexing-view-versus-copy\n"
     ]
    },
    {
     "data": {
      "text/html": [
       "<div>\n",
       "<style>\n",
       "    .dataframe thead tr:only-child th {\n",
       "        text-align: right;\n",
       "    }\n",
       "\n",
       "    .dataframe thead th {\n",
       "        text-align: left;\n",
       "    }\n",
       "\n",
       "    .dataframe tbody tr th {\n",
       "        vertical-align: top;\n",
       "    }\n",
       "</style>\n",
       "<table border=\"1\" class=\"dataframe\">\n",
       "  <thead>\n",
       "    <tr style=\"text-align: right;\">\n",
       "      <th></th>\n",
       "      <th>Year</th>\n",
       "      <th>Age Group</th>\n",
       "      <th>Death Rate</th>\n",
       "    </tr>\n",
       "  </thead>\n",
       "  <tbody>\n",
       "    <tr>\n",
       "      <th>0</th>\n",
       "      <td>1900</td>\n",
       "      <td>2</td>\n",
       "      <td>298.3</td>\n",
       "    </tr>\n",
       "    <tr>\n",
       "      <th>1</th>\n",
       "      <td>1900</td>\n",
       "      <td>0</td>\n",
       "      <td>1983.8</td>\n",
       "    </tr>\n",
       "    <tr>\n",
       "      <th>2</th>\n",
       "      <td>1900</td>\n",
       "      <td>3</td>\n",
       "      <td>484.8</td>\n",
       "    </tr>\n",
       "    <tr>\n",
       "      <th>3</th>\n",
       "      <td>1900</td>\n",
       "      <td>1</td>\n",
       "      <td>466.1</td>\n",
       "    </tr>\n",
       "    <tr>\n",
       "      <th>4</th>\n",
       "      <td>1901</td>\n",
       "      <td>2</td>\n",
       "      <td>273.6</td>\n",
       "    </tr>\n",
       "  </tbody>\n",
       "</table>\n",
       "</div>"
      ],
      "text/plain": [
       "   Year  Age Group  Death Rate\n",
       "0  1900          2       298.3\n",
       "1  1900          0      1983.8\n",
       "2  1900          3       484.8\n",
       "3  1900          1       466.1\n",
       "4  1901          2       273.6"
      ]
     },
     "execution_count": 270,
     "metadata": {},
     "output_type": "execute_result"
    }
   ],
   "source": [
    "data = convert_to_quarter(data)\n",
    "data.head()"
   ]
  },
  {
   "cell_type": "code",
   "execution_count": null,
   "metadata": {},
   "outputs": [],
   "source": []
  },
  {
   "cell_type": "code",
   "execution_count": null,
   "metadata": {},
   "outputs": [],
   "source": []
  },
  {
   "cell_type": "code",
   "execution_count": 188,
   "metadata": {},
   "outputs": [],
   "source": [
    "data.set_index(\"Year\", inplace=True)"
   ]
  },
  {
   "cell_type": "code",
   "execution_count": 189,
   "metadata": {},
   "outputs": [
    {
     "data": {
      "text/html": [
       "<div>\n",
       "<style>\n",
       "    .dataframe thead tr:only-child th {\n",
       "        text-align: right;\n",
       "    }\n",
       "\n",
       "    .dataframe thead th {\n",
       "        text-align: left;\n",
       "    }\n",
       "\n",
       "    .dataframe tbody tr th {\n",
       "        vertical-align: top;\n",
       "    }\n",
       "</style>\n",
       "<table border=\"1\" class=\"dataframe\">\n",
       "  <thead>\n",
       "    <tr style=\"text-align: right;\">\n",
       "      <th></th>\n",
       "      <th>Age Group</th>\n",
       "      <th>Death Rate</th>\n",
       "    </tr>\n",
       "    <tr>\n",
       "      <th>Year</th>\n",
       "      <th></th>\n",
       "      <th></th>\n",
       "    </tr>\n",
       "  </thead>\n",
       "  <tbody>\n",
       "    <tr>\n",
       "      <th>1900Q1</th>\n",
       "      <td>2</td>\n",
       "      <td>298.3</td>\n",
       "    </tr>\n",
       "    <tr>\n",
       "      <th>1900Q1</th>\n",
       "      <td>0</td>\n",
       "      <td>1983.8</td>\n",
       "    </tr>\n",
       "    <tr>\n",
       "      <th>1900Q1</th>\n",
       "      <td>3</td>\n",
       "      <td>484.8</td>\n",
       "    </tr>\n",
       "    <tr>\n",
       "      <th>1900Q1</th>\n",
       "      <td>1</td>\n",
       "      <td>466.1</td>\n",
       "    </tr>\n",
       "    <tr>\n",
       "      <th>1901Q1</th>\n",
       "      <td>2</td>\n",
       "      <td>273.6</td>\n",
       "    </tr>\n",
       "  </tbody>\n",
       "</table>\n",
       "</div>"
      ],
      "text/plain": [
       "        Age Group  Death Rate\n",
       "Year                         \n",
       "1900Q1          2       298.3\n",
       "1900Q1          0      1983.8\n",
       "1900Q1          3       484.8\n",
       "1900Q1          1       466.1\n",
       "1901Q1          2       273.6"
      ]
     },
     "execution_count": 189,
     "metadata": {},
     "output_type": "execute_result"
    }
   ],
   "source": [
    "data.head()"
   ]
  },
  {
   "cell_type": "code",
   "execution_count": 190,
   "metadata": {},
   "outputs": [
    {
     "data": {
      "text/html": [
       "<div>\n",
       "<style>\n",
       "    .dataframe thead tr:only-child th {\n",
       "        text-align: right;\n",
       "    }\n",
       "\n",
       "    .dataframe thead th {\n",
       "        text-align: left;\n",
       "    }\n",
       "\n",
       "    .dataframe tbody tr th {\n",
       "        vertical-align: top;\n",
       "    }\n",
       "</style>\n",
       "<table border=\"1\" class=\"dataframe\">\n",
       "  <thead>\n",
       "    <tr style=\"text-align: right;\">\n",
       "      <th></th>\n",
       "      <th>Age Group</th>\n",
       "      <th>Death Rate</th>\n",
       "    </tr>\n",
       "    <tr>\n",
       "      <th>Year</th>\n",
       "      <th></th>\n",
       "      <th></th>\n",
       "    </tr>\n",
       "  </thead>\n",
       "  <tbody>\n",
       "    <tr>\n",
       "      <th>2013Q1</th>\n",
       "      <td>3</td>\n",
       "      <td>44.8</td>\n",
       "    </tr>\n",
       "    <tr>\n",
       "      <th>2013Q1</th>\n",
       "      <td>1</td>\n",
       "      <td>11.8</td>\n",
       "    </tr>\n",
       "    <tr>\n",
       "      <th>2014Q1</th>\n",
       "      <td>2</td>\n",
       "      <td>14.0</td>\n",
       "    </tr>\n",
       "    <tr>\n",
       "      <th>2014Q1</th>\n",
       "      <td>0</td>\n",
       "      <td>24.0</td>\n",
       "    </tr>\n",
       "    <tr>\n",
       "      <th>2014Q1</th>\n",
       "      <td>3</td>\n",
       "      <td>45.5</td>\n",
       "    </tr>\n",
       "    <tr>\n",
       "      <th>2014Q1</th>\n",
       "      <td>1</td>\n",
       "      <td>11.5</td>\n",
       "    </tr>\n",
       "    <tr>\n",
       "      <th>2015Q1</th>\n",
       "      <td>2</td>\n",
       "      <td>14.6</td>\n",
       "    </tr>\n",
       "    <tr>\n",
       "      <th>2015Q1</th>\n",
       "      <td>0</td>\n",
       "      <td>24.9</td>\n",
       "    </tr>\n",
       "    <tr>\n",
       "      <th>2015Q1</th>\n",
       "      <td>3</td>\n",
       "      <td>48.3</td>\n",
       "    </tr>\n",
       "    <tr>\n",
       "      <th>2015Q1</th>\n",
       "      <td>1</td>\n",
       "      <td>11.7</td>\n",
       "    </tr>\n",
       "  </tbody>\n",
       "</table>\n",
       "</div>"
      ],
      "text/plain": [
       "        Age Group  Death Rate\n",
       "Year                         \n",
       "2013Q1          3        44.8\n",
       "2013Q1          1        11.8\n",
       "2014Q1          2        14.0\n",
       "2014Q1          0        24.0\n",
       "2014Q1          3        45.5\n",
       "2014Q1          1        11.5\n",
       "2015Q1          2        14.6\n",
       "2015Q1          0        24.9\n",
       "2015Q1          3        48.3\n",
       "2015Q1          1        11.7"
      ]
     },
     "execution_count": 190,
     "metadata": {},
     "output_type": "execute_result"
    }
   ],
   "source": [
    "data.tail(n=10)"
   ]
  },
  {
   "cell_type": "markdown",
   "metadata": {},
   "source": [
    "<p>We assume death rate is gained every quarter of a year</p>"
   ]
  },
  {
   "cell_type": "code",
   "execution_count": null,
   "metadata": {},
   "outputs": [],
   "source": []
  },
  {
   "cell_type": "code",
   "execution_count": null,
   "metadata": {},
   "outputs": [],
   "source": []
  },
  {
   "cell_type": "code",
   "execution_count": 191,
   "metadata": {},
   "outputs": [
    {
     "data": {
      "text/plain": [
       "Age Group\n",
       "0    AxesSubplot(0.125,0.125;0.775x0.755)\n",
       "1    AxesSubplot(0.125,0.125;0.775x0.755)\n",
       "2    AxesSubplot(0.125,0.125;0.775x0.755)\n",
       "3    AxesSubplot(0.125,0.125;0.775x0.755)\n",
       "Name: Death Rate, dtype: object"
      ]
     },
     "execution_count": 191,
     "metadata": {},
     "output_type": "execute_result"
    },
    {
     "data": {
      "image/png": "[encoded data removed]",
      "text/plain": [
       "<matplotlib.figure.Figure at 0x1a114896a0>"
      ]
     },
     "metadata": {},
     "output_type": "display_data"
    }
   ],
   "source": [
    "plt.figure(figsize=(10, 8))\n",
    "data.groupby(\"Age Group\")[\"Death Rate\"].plot(legend=True)"
   ]
  },
  {
   "cell_type": "code",
   "execution_count": 80,
   "metadata": {},
   "outputs": [
    {
     "data": {
      "text/plain": [
       "Int64Index([1900, 1900, 1900, 1900, 1901, 1901, 1901, 1901, 1902, 1902,\n",
       "            ...\n",
       "            2013, 2013, 2014, 2014, 2014, 2014, 2015, 2015, 2015, 2015],\n",
       "           dtype='int64', name='Year', length=464)"
      ]
     },
     "execution_count": 80,
     "metadata": {},
     "output_type": "execute_result"
    }
   ],
   "source": [
    "data.index"
   ]
  },
  {
   "cell_type": "code",
   "execution_count": 87,
   "metadata": {},
   "outputs": [
    {
     "data": {
      "text/plain": [
       "1983.8"
      ]
     },
     "execution_count": 87,
     "metadata": {},
     "output_type": "execute_result"
    }
   ],
   "source": [
    "data[\"Death Rate\"].max()"
   ]
  },
  {
   "cell_type": "code",
   "execution_count": null,
   "metadata": {},
   "outputs": [],
   "source": []
  }
 ],
 "metadata": {
  "kernelspec": {
   "display_name": "Python 3",
   "language": "python",
   "name": "python3"
  },
  "language_info": {
   "codemirror_mode": {
    "name": "ipython",
    "version": 3
   },
   "file_extension": ".py",
   "mimetype": "text/x-python",
   "name": "python",
   "nbconvert_exporter": "python",
   "pygments_lexer": "ipython3",
   "version": "3.5.4"
  }
 },
 "nbformat": 4,
 "nbformat_minor": 2
}
