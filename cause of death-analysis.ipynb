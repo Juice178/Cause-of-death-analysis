{
 "cells": [
  {
   "cell_type": "markdown",
   "metadata": {},
   "source": [
    "<h2>In this notebook, exploratory analysis on a heatl dataset is performed.</h2>\n",
    "<p><a href=\"https://www.cdc.gov/nchs/data-visualization/potentially-excess-deaths/index.htm\"> data is avaiable here</a></p>\n",
    "<p><a href=\"https://data.cdc.gov/NCHS/NCHS-Potentially-Excess-Deaths-from-the-Five-Leadi/vdpk-qzpr\">Data here</a></p>"
   ]
  },
  {
   "cell_type": "code",
   "execution_count": 1048,
   "metadata": {
    "scrolled": true
   },
   "outputs": [
    {
     "data": {
      "text/plain": [
       "'/Users/kentasuzuki/data_gov/play_ground'"
      ]
     },
     "execution_count": 1048,
     "metadata": {},
     "output_type": "execute_result"
    }
   ],
   "source": [
    "pwd"
   ]
  },
  {
   "cell_type": "code",
   "execution_count": 1049,
   "metadata": {},
   "outputs": [
    {
     "name": "stdout",
     "output_type": "stream",
     "text": [
      "Mental_Health_Engagement_in_Care.csv\r\n",
      "NCHS_-_Childhood_Mortality_Rates.csv\r\n",
      "NCHS_-_Drug_Poisoning_Mortality_by_County__United_States.csv\r\n",
      "NCHS_-_Potentially_Excess_Deaths_from_the_Five_Leading_Causes_of_Death.csv\r\n",
      "NCHS_-_Top_Five_Leading_Causes_of_Death__United_States__1990__1950__2000.csv\r\n",
      "PSI_90_and_Component_Measures_-_Six-Digit_Precision.csv\r\n",
      "Patient_Survey__PCH_-_HCAHPS__PPS-exempt_Cancer_Hospital___National.csv\r\n",
      "Rates_of_TBI-related_Emergency_Department_Visits__Hospitalizations__and_Deaths_by_Sex_-_United_States__2001___2010.csv\r\n",
      "U.S._Chronic_Disease_Indicators__CDI_.csv\r\n",
      "cardiacarrestsurvivalpm102-revised.csv\r\n",
      "res_cancer_deaths_-_column_chart_ndpu-wxfn.csv\r\n"
     ]
    }
   ],
   "source": [
    "ls ../datasets"
   ]
  },
  {
   "cell_type": "code",
   "execution_count": 1050,
   "metadata": {},
   "outputs": [],
   "source": [
    "import pandas as pd\n",
    "import numpy as np\n",
    "import matplotlib.pyplot as plt\n",
    "%matplotlib inline\n",
    "import seaborn as sns;\n",
    "sns.set();"
   ]
  },
  {
   "cell_type": "code",
   "execution_count": 1051,
   "metadata": {},
   "outputs": [],
   "source": [
    "data_file = \"NCHS_-_Potentially_Excess_Deaths_from_the_Five_Leading_Causes_of_Death.csv\""
   ]
  },
  {
   "cell_type": "code",
   "execution_count": 1052,
   "metadata": {},
   "outputs": [],
   "source": [
    "data = pd.read_csv(\"../datasets/\" + data_file)"
   ]
  },
  {
   "cell_type": "code",
   "execution_count": 1053,
   "metadata": {},
   "outputs": [
    {
     "data": {
      "text/plain": [
       "(205920, 13)"
      ]
     },
     "execution_count": 1053,
     "metadata": {},
     "output_type": "execute_result"
    }
   ],
   "source": [
    "data.shape"
   ]
  },
  {
   "cell_type": "code",
   "execution_count": 962,
   "metadata": {},
   "outputs": [
    {
     "data": {
      "text/html": [
       "<div>\n",
       "<style>\n",
       "    .dataframe thead tr:only-child th {\n",
       "        text-align: right;\n",
       "    }\n",
       "\n",
       "    .dataframe thead th {\n",
       "        text-align: left;\n",
       "    }\n",
       "\n",
       "    .dataframe tbody tr th {\n",
       "        vertical-align: top;\n",
       "    }\n",
       "</style>\n",
       "<table border=\"1\" class=\"dataframe\">\n",
       "  <thead>\n",
       "    <tr style=\"text-align: right;\">\n",
       "      <th></th>\n",
       "      <th>Year</th>\n",
       "      <th>Cause of Death</th>\n",
       "      <th>State</th>\n",
       "      <th>State FIPS Code</th>\n",
       "      <th>HHS Region</th>\n",
       "      <th>Age Range</th>\n",
       "      <th>Benchmark</th>\n",
       "      <th>Locality</th>\n",
       "      <th>Observed Deaths</th>\n",
       "      <th>Population</th>\n",
       "      <th>Expected Deaths</th>\n",
       "      <th>Potentially Excess Deaths</th>\n",
       "      <th>Percent Potentially Excess Deaths</th>\n",
       "    </tr>\n",
       "  </thead>\n",
       "  <tbody>\n",
       "    <tr>\n",
       "      <th>0</th>\n",
       "      <td>2005</td>\n",
       "      <td>Cancer</td>\n",
       "      <td>Alabama</td>\n",
       "      <td>AL</td>\n",
       "      <td>4</td>\n",
       "      <td>0-49</td>\n",
       "      <td>2005 Fixed</td>\n",
       "      <td>All</td>\n",
       "      <td>756.0</td>\n",
       "      <td>3148377.0</td>\n",
       "      <td>451.0</td>\n",
       "      <td>305.0</td>\n",
       "      <td>40.3%</td>\n",
       "    </tr>\n",
       "    <tr>\n",
       "      <th>1</th>\n",
       "      <td>2005</td>\n",
       "      <td>Cancer</td>\n",
       "      <td>Alabama</td>\n",
       "      <td>AL</td>\n",
       "      <td>4</td>\n",
       "      <td>0-49</td>\n",
       "      <td>2005 Fixed</td>\n",
       "      <td>Metropolitan</td>\n",
       "      <td>556.0</td>\n",
       "      <td>2379871.0</td>\n",
       "      <td>341.0</td>\n",
       "      <td>217.0</td>\n",
       "      <td>39%</td>\n",
       "    </tr>\n",
       "    <tr>\n",
       "      <th>2</th>\n",
       "      <td>2005</td>\n",
       "      <td>Cancer</td>\n",
       "      <td>Alabama</td>\n",
       "      <td>AL</td>\n",
       "      <td>4</td>\n",
       "      <td>0-49</td>\n",
       "      <td>2005 Fixed</td>\n",
       "      <td>Nonmetropolitan</td>\n",
       "      <td>200.0</td>\n",
       "      <td>768506.0</td>\n",
       "      <td>111.0</td>\n",
       "      <td>89.0</td>\n",
       "      <td>44.5%</td>\n",
       "    </tr>\n",
       "    <tr>\n",
       "      <th>3</th>\n",
       "      <td>2005</td>\n",
       "      <td>Cancer</td>\n",
       "      <td>Alabama</td>\n",
       "      <td>AL</td>\n",
       "      <td>4</td>\n",
       "      <td>0-49</td>\n",
       "      <td>2010 Fixed</td>\n",
       "      <td>All</td>\n",
       "      <td>756.0</td>\n",
       "      <td>3148377.0</td>\n",
       "      <td>421.0</td>\n",
       "      <td>335.0</td>\n",
       "      <td>44.3%</td>\n",
       "    </tr>\n",
       "    <tr>\n",
       "      <th>4</th>\n",
       "      <td>2005</td>\n",
       "      <td>Cancer</td>\n",
       "      <td>Alabama</td>\n",
       "      <td>AL</td>\n",
       "      <td>4</td>\n",
       "      <td>0-49</td>\n",
       "      <td>2010 Fixed</td>\n",
       "      <td>Metropolitan</td>\n",
       "      <td>556.0</td>\n",
       "      <td>2379871.0</td>\n",
       "      <td>318.0</td>\n",
       "      <td>238.0</td>\n",
       "      <td>42.8%</td>\n",
       "    </tr>\n",
       "    <tr>\n",
       "      <th>5</th>\n",
       "      <td>2005</td>\n",
       "      <td>Cancer</td>\n",
       "      <td>Alabama</td>\n",
       "      <td>AL</td>\n",
       "      <td>4</td>\n",
       "      <td>0-49</td>\n",
       "      <td>2010 Fixed</td>\n",
       "      <td>Nonmetropolitan</td>\n",
       "      <td>200.0</td>\n",
       "      <td>768506.0</td>\n",
       "      <td>103.0</td>\n",
       "      <td>97.0</td>\n",
       "      <td>48.5%</td>\n",
       "    </tr>\n",
       "    <tr>\n",
       "      <th>6</th>\n",
       "      <td>2005</td>\n",
       "      <td>Cancer</td>\n",
       "      <td>Alabama</td>\n",
       "      <td>AL</td>\n",
       "      <td>4</td>\n",
       "      <td>0-49</td>\n",
       "      <td>Floating</td>\n",
       "      <td>All</td>\n",
       "      <td>756.0</td>\n",
       "      <td>3148377.0</td>\n",
       "      <td>451.0</td>\n",
       "      <td>305.0</td>\n",
       "      <td>40.3%</td>\n",
       "    </tr>\n",
       "    <tr>\n",
       "      <th>7</th>\n",
       "      <td>2005</td>\n",
       "      <td>Cancer</td>\n",
       "      <td>Alabama</td>\n",
       "      <td>AL</td>\n",
       "      <td>4</td>\n",
       "      <td>0-49</td>\n",
       "      <td>Floating</td>\n",
       "      <td>Metropolitan</td>\n",
       "      <td>556.0</td>\n",
       "      <td>2379871.0</td>\n",
       "      <td>341.0</td>\n",
       "      <td>217.0</td>\n",
       "      <td>39%</td>\n",
       "    </tr>\n",
       "    <tr>\n",
       "      <th>8</th>\n",
       "      <td>2005</td>\n",
       "      <td>Cancer</td>\n",
       "      <td>Alabama</td>\n",
       "      <td>AL</td>\n",
       "      <td>4</td>\n",
       "      <td>0-49</td>\n",
       "      <td>Floating</td>\n",
       "      <td>Nonmetropolitan</td>\n",
       "      <td>200.0</td>\n",
       "      <td>768506.0</td>\n",
       "      <td>111.0</td>\n",
       "      <td>89.0</td>\n",
       "      <td>44.5%</td>\n",
       "    </tr>\n",
       "    <tr>\n",
       "      <th>9</th>\n",
       "      <td>2005</td>\n",
       "      <td>Cancer</td>\n",
       "      <td>Alabama</td>\n",
       "      <td>AL</td>\n",
       "      <td>4</td>\n",
       "      <td>0-54</td>\n",
       "      <td>2005 Fixed</td>\n",
       "      <td>All</td>\n",
       "      <td>1346.0</td>\n",
       "      <td>3463216.0</td>\n",
       "      <td>784.0</td>\n",
       "      <td>562.0</td>\n",
       "      <td>41.8%</td>\n",
       "    </tr>\n",
       "  </tbody>\n",
       "</table>\n",
       "</div>"
      ],
      "text/plain": [
       "   Year Cause of Death    State State FIPS Code  HHS Region Age Range  \\\n",
       "0  2005         Cancer  Alabama              AL           4      0-49   \n",
       "1  2005         Cancer  Alabama              AL           4      0-49   \n",
       "2  2005         Cancer  Alabama              AL           4      0-49   \n",
       "3  2005         Cancer  Alabama              AL           4      0-49   \n",
       "4  2005         Cancer  Alabama              AL           4      0-49   \n",
       "5  2005         Cancer  Alabama              AL           4      0-49   \n",
       "6  2005         Cancer  Alabama              AL           4      0-49   \n",
       "7  2005         Cancer  Alabama              AL           4      0-49   \n",
       "8  2005         Cancer  Alabama              AL           4      0-49   \n",
       "9  2005         Cancer  Alabama              AL           4      0-54   \n",
       "\n",
       "    Benchmark         Locality  Observed Deaths  Population  Expected Deaths  \\\n",
       "0  2005 Fixed              All            756.0   3148377.0            451.0   \n",
       "1  2005 Fixed     Metropolitan            556.0   2379871.0            341.0   \n",
       "2  2005 Fixed  Nonmetropolitan            200.0    768506.0            111.0   \n",
       "3  2010 Fixed              All            756.0   3148377.0            421.0   \n",
       "4  2010 Fixed     Metropolitan            556.0   2379871.0            318.0   \n",
       "5  2010 Fixed  Nonmetropolitan            200.0    768506.0            103.0   \n",
       "6    Floating              All            756.0   3148377.0            451.0   \n",
       "7    Floating     Metropolitan            556.0   2379871.0            341.0   \n",
       "8    Floating  Nonmetropolitan            200.0    768506.0            111.0   \n",
       "9  2005 Fixed              All           1346.0   3463216.0            784.0   \n",
       "\n",
       "   Potentially Excess Deaths Percent Potentially Excess Deaths  \n",
       "0                      305.0                             40.3%  \n",
       "1                      217.0                               39%  \n",
       "2                       89.0                             44.5%  \n",
       "3                      335.0                             44.3%  \n",
       "4                      238.0                             42.8%  \n",
       "5                       97.0                             48.5%  \n",
       "6                      305.0                             40.3%  \n",
       "7                      217.0                               39%  \n",
       "8                       89.0                             44.5%  \n",
       "9                      562.0                             41.8%  "
      ]
     },
     "execution_count": 962,
     "metadata": {},
     "output_type": "execute_result"
    }
   ],
   "source": [
    "data.head(n=10)"
   ]
  },
  {
   "cell_type": "code",
   "execution_count": 963,
   "metadata": {},
   "outputs": [
    {
     "name": "stdout",
     "output_type": "stream",
     "text": [
      "(205920, 13)\n"
     ]
    }
   ],
   "source": [
    "print(data.shape)"
   ]
  },
  {
   "cell_type": "code",
   "execution_count": 964,
   "metadata": {},
   "outputs": [
    {
     "data": {
      "text/html": [
       "<div>\n",
       "<style>\n",
       "    .dataframe thead tr:only-child th {\n",
       "        text-align: right;\n",
       "    }\n",
       "\n",
       "    .dataframe thead th {\n",
       "        text-align: left;\n",
       "    }\n",
       "\n",
       "    .dataframe tbody tr th {\n",
       "        vertical-align: top;\n",
       "    }\n",
       "</style>\n",
       "<table border=\"1\" class=\"dataframe\">\n",
       "  <thead>\n",
       "    <tr style=\"text-align: right;\">\n",
       "      <th></th>\n",
       "      <th>Year</th>\n",
       "      <th>HHS Region</th>\n",
       "      <th>Observed Deaths</th>\n",
       "      <th>Population</th>\n",
       "      <th>Expected Deaths</th>\n",
       "      <th>Potentially Excess Deaths</th>\n",
       "    </tr>\n",
       "  </thead>\n",
       "  <tbody>\n",
       "    <tr>\n",
       "      <th>count</th>\n",
       "      <td>205920.000000</td>\n",
       "      <td>205920.000000</td>\n",
       "      <td>195708.000000</td>\n",
       "      <td>2.006400e+05</td>\n",
       "      <td>195708.000000</td>\n",
       "      <td>195708.000000</td>\n",
       "    </tr>\n",
       "    <tr>\n",
       "      <th>mean</th>\n",
       "      <td>2010.000000</td>\n",
       "      <td>5.230769</td>\n",
       "      <td>2974.568490</td>\n",
       "      <td>7.008421e+06</td>\n",
       "      <td>2112.863092</td>\n",
       "      <td>875.121043</td>\n",
       "    </tr>\n",
       "    <tr>\n",
       "      <th>std</th>\n",
       "      <td>3.162285</td>\n",
       "      <td>2.798464</td>\n",
       "      <td>17164.665931</td>\n",
       "      <td>2.861818e+07</td>\n",
       "      <td>13291.617895</td>\n",
       "      <td>4410.206402</td>\n",
       "    </tr>\n",
       "    <tr>\n",
       "      <th>min</th>\n",
       "      <td>2005.000000</td>\n",
       "      <td>0.000000</td>\n",
       "      <td>10.000000</td>\n",
       "      <td>5.553600e+04</td>\n",
       "      <td>2.000000</td>\n",
       "      <td>0.000000</td>\n",
       "    </tr>\n",
       "    <tr>\n",
       "      <th>25%</th>\n",
       "      <td>2007.000000</td>\n",
       "      <td>3.000000</td>\n",
       "      <td>155.000000</td>\n",
       "      <td>6.828258e+05</td>\n",
       "      <td>92.000000</td>\n",
       "      <td>41.000000</td>\n",
       "    </tr>\n",
       "    <tr>\n",
       "      <th>50%</th>\n",
       "      <td>2010.000000</td>\n",
       "      <td>5.000000</td>\n",
       "      <td>508.000000</td>\n",
       "      <td>1.610936e+06</td>\n",
       "      <td>298.000000</td>\n",
       "      <td>159.000000</td>\n",
       "    </tr>\n",
       "    <tr>\n",
       "      <th>75%</th>\n",
       "      <td>2013.000000</td>\n",
       "      <td>8.000000</td>\n",
       "      <td>1586.000000</td>\n",
       "      <td>4.681585e+06</td>\n",
       "      <td>1019.000000</td>\n",
       "      <td>543.000000</td>\n",
       "    </tr>\n",
       "    <tr>\n",
       "      <th>max</th>\n",
       "      <td>2015.000000</td>\n",
       "      <td>10.000000</td>\n",
       "      <td>493526.000000</td>\n",
       "      <td>3.151317e+08</td>\n",
       "      <td>465126.000000</td>\n",
       "      <td>175703.000000</td>\n",
       "    </tr>\n",
       "  </tbody>\n",
       "</table>\n",
       "</div>"
      ],
      "text/plain": [
       "                Year     HHS Region  Observed Deaths    Population  \\\n",
       "count  205920.000000  205920.000000    195708.000000  2.006400e+05   \n",
       "mean     2010.000000       5.230769      2974.568490  7.008421e+06   \n",
       "std         3.162285       2.798464     17164.665931  2.861818e+07   \n",
       "min      2005.000000       0.000000        10.000000  5.553600e+04   \n",
       "25%      2007.000000       3.000000       155.000000  6.828258e+05   \n",
       "50%      2010.000000       5.000000       508.000000  1.610936e+06   \n",
       "75%      2013.000000       8.000000      1586.000000  4.681585e+06   \n",
       "max      2015.000000      10.000000    493526.000000  3.151317e+08   \n",
       "\n",
       "       Expected Deaths  Potentially Excess Deaths  \n",
       "count    195708.000000              195708.000000  \n",
       "mean       2112.863092                 875.121043  \n",
       "std       13291.617895                4410.206402  \n",
       "min           2.000000                   0.000000  \n",
       "25%          92.000000                  41.000000  \n",
       "50%         298.000000                 159.000000  \n",
       "75%        1019.000000                 543.000000  \n",
       "max      465126.000000              175703.000000  "
      ]
     },
     "execution_count": 964,
     "metadata": {},
     "output_type": "execute_result"
    }
   ],
   "source": [
    "data.describe()"
   ]
  },
  {
   "cell_type": "code",
   "execution_count": 965,
   "metadata": {},
   "outputs": [
    {
     "name": "stdout",
     "output_type": "stream",
     "text": [
      "[2005 2006 2007 2008 2009 2010 2011 2012 2013 2014 2015]\n"
     ]
    }
   ],
   "source": [
    "print(np.unique(data[\"Year\"]))"
   ]
  },
  {
   "cell_type": "code",
   "execution_count": 966,
   "metadata": {},
   "outputs": [
    {
     "name": "stdout",
     "output_type": "stream",
     "text": [
      "52\n",
      "52\n"
     ]
    }
   ],
   "source": [
    "# State and FIPS Code represent the same state\n",
    "print(len(np.unique(data[\"State\"])))\n",
    "print(len(np.unique(data[\"State FIPS Code\"])))\n"
   ]
  },
  {
   "cell_type": "code",
   "execution_count": 967,
   "metadata": {},
   "outputs": [
    {
     "name": "stdout",
     "output_type": "stream",
     "text": [
      "['Alabama' 'Alaska' 'Arizona' 'Arkansas' 'California' 'Colorado'\n",
      " 'Connecticut' 'Delaware' 'District of\\nColumbia' 'Florida' 'Georgia'\n",
      " 'Hawaii' 'Idaho' 'Illinois' 'Indiana' 'Iowa' 'Kansas' 'Kentucky'\n",
      " 'Louisiana' 'Maine' 'Maryland' 'Massachusetts' 'Michigan' 'Minnesota'\n",
      " 'Mississippi' 'Missouri' 'Montana' 'Nebraska' 'Nevada' 'New Hampshire'\n",
      " 'New Jersey' 'New Mexico' 'New York' 'North Carolina' 'North Dakota'\n",
      " 'Ohio' 'Oklahoma' 'Oregon' 'Pennsylvania' 'Rhode Island' 'South Carolina'\n",
      " 'South Dakota' 'Tennessee' 'Texas' 'United States' 'Utah' 'Vermont'\n",
      " 'Virginia' 'Washington' 'West Virginia' 'Wisconsin' 'Wyoming']\n",
      "['0' 'AK' 'AL' 'AR' 'AZ' 'CA' 'CO' 'CT' 'DC' 'DE' 'FL' 'GA' 'HI' 'IA' 'ID'\n",
      " 'IL' 'IN' 'KS' 'KY' 'LA' 'MA' 'MD' 'ME' 'MI' 'MN' 'MO' 'MS' 'MT' 'NC' 'ND'\n",
      " 'NE' 'NH' 'NJ' 'NM' 'NV' 'NY' 'OH' 'OK' 'OR' 'PA' 'RI' 'SC' 'SD' 'TN' 'TX'\n",
      " 'UT' 'VA' 'VT' 'WA' 'WI' 'WV' 'WY']\n"
     ]
    }
   ],
   "source": [
    "print(np.unique(data[\"State\"]))\n",
    "print(np.unique(data[\"State FIPS Code\"]))"
   ]
  },
  {
   "cell_type": "code",
   "execution_count": 968,
   "metadata": {},
   "outputs": [
    {
     "name": "stdout",
     "output_type": "stream",
     "text": [
      "11\n",
      "[ 0  1  2  3  4  5  6  7  8  9 10]\n"
     ]
    }
   ],
   "source": [
    "# The number of each region of States:\n",
    "# 0: United States, 1: Boston ,etc.\n",
    "print(len(np.unique(data[\"HHS Region\"])))\n",
    "print(np.unique(data[\"HHS Region\"]))"
   ]
  },
  {
   "cell_type": "code",
   "execution_count": 969,
   "metadata": {},
   "outputs": [
    {
     "name": "stdout",
     "output_type": "stream",
     "text": [
      "Regions that is assigned number, 0\n",
      "['United States']\n"
     ]
    }
   ],
   "source": [
    "print(\"Regions that is assigned number, 0\")\n",
    "print(np.unique(data[data[\"HHS Region\"] == 0][\"State\"]))"
   ]
  },
  {
   "cell_type": "code",
   "execution_count": 970,
   "metadata": {},
   "outputs": [
    {
     "name": "stdout",
     "output_type": "stream",
     "text": [
      "['0-49' '0-54' '0-59' '0-64' '0-69' '0-74' '0-79' '0-84']\n"
     ]
    }
   ],
   "source": [
    "print(np.unique(data[\"Age Range\"]))"
   ]
  },
  {
   "cell_type": "code",
   "execution_count": 971,
   "metadata": {},
   "outputs": [
    {
     "name": "stdout",
     "output_type": "stream",
     "text": [
      "[False  True]\n",
      "142521\n",
      "63399\n"
     ]
    }
   ],
   "source": [
    "# Potentially Excess Deaths := Obsereved Deaths - Expected Deaths\n",
    "# Although there are some miscalculations\n",
    "# https://www.cdc.gov/nchs/data-visualization/potentially-excess-deaths/\n",
    "boolean_holder = (data[\"Observed Deaths\"] - data[\"Expected Deaths\"]) == data[\"Potentially Excess Deaths\"]\n",
    "print(np.unique(boolean_holder))\n",
    "print((boolean_holder == True).sum())\n",
    "print((boolean_holder == False).sum())"
   ]
  },
  {
   "cell_type": "code",
   "execution_count": 972,
   "metadata": {},
   "outputs": [
    {
     "data": {
      "text/plain": [
       "0     True\n",
       "1    False\n",
       "2     True\n",
       "3     True\n",
       "4     True\n",
       "dtype: bool"
      ]
     },
     "execution_count": 972,
     "metadata": {},
     "output_type": "execute_result"
    }
   ],
   "source": [
    "boolean_holder.head()"
   ]
  },
  {
   "cell_type": "markdown",
   "metadata": {},
   "source": [
    "<h3>Check whethere there are any missing data</h3>"
   ]
  },
  {
   "cell_type": "code",
   "execution_count": 973,
   "metadata": {},
   "outputs": [
    {
     "data": {
      "text/plain": [
       "True"
      ]
     },
     "execution_count": 973,
     "metadata": {},
     "output_type": "execute_result"
    }
   ],
   "source": [
    "data.isnull().values.any()"
   ]
  },
  {
   "cell_type": "code",
   "execution_count": 974,
   "metadata": {
    "scrolled": true
   },
   "outputs": [
    {
     "data": {
      "text/plain": [
       "Year                                     0\n",
       "Cause of Death                           0\n",
       "State                                    0\n",
       "State FIPS Code                          0\n",
       "HHS Region                               0\n",
       "Age Range                                0\n",
       "Benchmark                                0\n",
       "Locality                                 0\n",
       "Observed Deaths                      10212\n",
       "Population                            5280\n",
       "Expected Deaths                      10212\n",
       "Potentially Excess Deaths            10212\n",
       "Percent Potentially Excess Deaths    10212\n",
       "dtype: int64"
      ]
     },
     "execution_count": 974,
     "metadata": {},
     "output_type": "execute_result"
    }
   ],
   "source": [
    "data.isnull().sum()"
   ]
  },
  {
   "cell_type": "code",
   "execution_count": 975,
   "metadata": {},
   "outputs": [
    {
     "name": "stdout",
     "output_type": "stream",
     "text": [
      "18280\n"
     ]
    }
   ],
   "source": [
    "print(len(np.unique(data['Population'])))"
   ]
  },
  {
   "cell_type": "code",
   "execution_count": 976,
   "metadata": {},
   "outputs": [
    {
     "name": "stdout",
     "output_type": "stream",
     "text": [
      "[ 55536.  56325.  56665. ...,     nan     nan     nan]\n"
     ]
    }
   ],
   "source": [
    "print(np.unique(data['Population']))"
   ]
  },
  {
   "cell_type": "code",
   "execution_count": 977,
   "metadata": {},
   "outputs": [
    {
     "data": {
      "text/html": [
       "<div>\n",
       "<style>\n",
       "    .dataframe thead tr:only-child th {\n",
       "        text-align: right;\n",
       "    }\n",
       "\n",
       "    .dataframe thead th {\n",
       "        text-align: left;\n",
       "    }\n",
       "\n",
       "    .dataframe tbody tr th {\n",
       "        vertical-align: top;\n",
       "    }\n",
       "</style>\n",
       "<table border=\"1\" class=\"dataframe\">\n",
       "  <thead>\n",
       "    <tr style=\"text-align: right;\">\n",
       "      <th></th>\n",
       "      <th>Year</th>\n",
       "      <th>Cause of Death</th>\n",
       "      <th>State</th>\n",
       "      <th>State FIPS Code</th>\n",
       "      <th>HHS Region</th>\n",
       "      <th>Age Range</th>\n",
       "      <th>Benchmark</th>\n",
       "      <th>Locality</th>\n",
       "      <th>Observed Deaths</th>\n",
       "      <th>Population</th>\n",
       "      <th>Expected Deaths</th>\n",
       "      <th>Potentially Excess Deaths</th>\n",
       "      <th>Percent Potentially Excess Deaths</th>\n",
       "    </tr>\n",
       "  </thead>\n",
       "  <tbody>\n",
       "    <tr>\n",
       "      <th>506</th>\n",
       "      <td>2005</td>\n",
       "      <td>Cancer</td>\n",
       "      <td>Delaware</td>\n",
       "      <td>DE</td>\n",
       "      <td>3</td>\n",
       "      <td>0-49</td>\n",
       "      <td>2005 Fixed</td>\n",
       "      <td>Nonmetropolitan</td>\n",
       "      <td>NaN</td>\n",
       "      <td>NaN</td>\n",
       "      <td>NaN</td>\n",
       "      <td>NaN</td>\n",
       "      <td>NaN</td>\n",
       "    </tr>\n",
       "    <tr>\n",
       "      <th>509</th>\n",
       "      <td>2005</td>\n",
       "      <td>Cancer</td>\n",
       "      <td>Delaware</td>\n",
       "      <td>DE</td>\n",
       "      <td>3</td>\n",
       "      <td>0-49</td>\n",
       "      <td>2010 Fixed</td>\n",
       "      <td>Nonmetropolitan</td>\n",
       "      <td>NaN</td>\n",
       "      <td>NaN</td>\n",
       "      <td>NaN</td>\n",
       "      <td>NaN</td>\n",
       "      <td>NaN</td>\n",
       "    </tr>\n",
       "    <tr>\n",
       "      <th>512</th>\n",
       "      <td>2005</td>\n",
       "      <td>Cancer</td>\n",
       "      <td>Delaware</td>\n",
       "      <td>DE</td>\n",
       "      <td>3</td>\n",
       "      <td>0-49</td>\n",
       "      <td>Floating</td>\n",
       "      <td>Nonmetropolitan</td>\n",
       "      <td>NaN</td>\n",
       "      <td>NaN</td>\n",
       "      <td>NaN</td>\n",
       "      <td>NaN</td>\n",
       "      <td>NaN</td>\n",
       "    </tr>\n",
       "    <tr>\n",
       "      <th>515</th>\n",
       "      <td>2005</td>\n",
       "      <td>Cancer</td>\n",
       "      <td>Delaware</td>\n",
       "      <td>DE</td>\n",
       "      <td>3</td>\n",
       "      <td>0-54</td>\n",
       "      <td>2005 Fixed</td>\n",
       "      <td>Nonmetropolitan</td>\n",
       "      <td>NaN</td>\n",
       "      <td>NaN</td>\n",
       "      <td>NaN</td>\n",
       "      <td>NaN</td>\n",
       "      <td>NaN</td>\n",
       "    </tr>\n",
       "    <tr>\n",
       "      <th>518</th>\n",
       "      <td>2005</td>\n",
       "      <td>Cancer</td>\n",
       "      <td>Delaware</td>\n",
       "      <td>DE</td>\n",
       "      <td>3</td>\n",
       "      <td>0-54</td>\n",
       "      <td>2010 Fixed</td>\n",
       "      <td>Nonmetropolitan</td>\n",
       "      <td>NaN</td>\n",
       "      <td>NaN</td>\n",
       "      <td>NaN</td>\n",
       "      <td>NaN</td>\n",
       "      <td>NaN</td>\n",
       "    </tr>\n",
       "  </tbody>\n",
       "</table>\n",
       "</div>"
      ],
      "text/plain": [
       "     Year Cause of Death     State State FIPS Code  HHS Region Age Range  \\\n",
       "506  2005         Cancer  Delaware              DE           3      0-49   \n",
       "509  2005         Cancer  Delaware              DE           3      0-49   \n",
       "512  2005         Cancer  Delaware              DE           3      0-49   \n",
       "515  2005         Cancer  Delaware              DE           3      0-54   \n",
       "518  2005         Cancer  Delaware              DE           3      0-54   \n",
       "\n",
       "      Benchmark         Locality  Observed Deaths  Population  \\\n",
       "506  2005 Fixed  Nonmetropolitan              NaN         NaN   \n",
       "509  2010 Fixed  Nonmetropolitan              NaN         NaN   \n",
       "512    Floating  Nonmetropolitan              NaN         NaN   \n",
       "515  2005 Fixed  Nonmetropolitan              NaN         NaN   \n",
       "518  2010 Fixed  Nonmetropolitan              NaN         NaN   \n",
       "\n",
       "     Expected Deaths  Potentially Excess Deaths  \\\n",
       "506              NaN                        NaN   \n",
       "509              NaN                        NaN   \n",
       "512              NaN                        NaN   \n",
       "515              NaN                        NaN   \n",
       "518              NaN                        NaN   \n",
       "\n",
       "    Percent Potentially Excess Deaths  \n",
       "506                               NaN  \n",
       "509                               NaN  \n",
       "512                               NaN  \n",
       "515                               NaN  \n",
       "518                               NaN  "
      ]
     },
     "execution_count": 977,
     "metadata": {},
     "output_type": "execute_result"
    }
   ],
   "source": [
    "data[data['Population'].isnull()].head()"
   ]
  },
  {
   "cell_type": "code",
   "execution_count": 978,
   "metadata": {},
   "outputs": [],
   "source": [
    "nullIndex = data[data['Population'].isnull()].index"
   ]
  },
  {
   "cell_type": "code",
   "execution_count": 979,
   "metadata": {},
   "outputs": [
    {
     "name": "stdout",
     "output_type": "stream",
     "text": [
      "(5280, 13)\n",
      "[2005 2006 2007 2008 2009 2010 2011 2012 2013 2014 2015] ['Delaware' 'District of\\nColumbia' 'New Jersey' 'Rhode Island']\n"
     ]
    }
   ],
   "source": [
    "print(data.loc[nullIndex].shape)\n",
    "print(np.unique(data.loc[nullIndex]['Year']), np.unique(data.loc[nullIndex]['State']))"
   ]
  },
  {
   "cell_type": "markdown",
   "metadata": {},
   "source": [
    "<p>There are missing value in samples whose locality is Nonmetropolitan</p>\n",
    "<p>Thus, fill missing values with previous value</p>"
   ]
  },
  {
   "cell_type": "code",
   "execution_count": 980,
   "metadata": {},
   "outputs": [
    {
     "data": {
      "text/html": [
       "<div>\n",
       "<style>\n",
       "    .dataframe thead tr:only-child th {\n",
       "        text-align: right;\n",
       "    }\n",
       "\n",
       "    .dataframe thead th {\n",
       "        text-align: left;\n",
       "    }\n",
       "\n",
       "    .dataframe tbody tr th {\n",
       "        vertical-align: top;\n",
       "    }\n",
       "</style>\n",
       "<table border=\"1\" class=\"dataframe\">\n",
       "  <thead>\n",
       "    <tr style=\"text-align: right;\">\n",
       "      <th></th>\n",
       "      <th>Year</th>\n",
       "      <th>Cause of Death</th>\n",
       "      <th>State</th>\n",
       "      <th>State FIPS Code</th>\n",
       "      <th>HHS Region</th>\n",
       "      <th>Age Range</th>\n",
       "      <th>Benchmark</th>\n",
       "      <th>Locality</th>\n",
       "      <th>Observed Deaths</th>\n",
       "      <th>Population</th>\n",
       "      <th>Expected Deaths</th>\n",
       "      <th>Potentially Excess Deaths</th>\n",
       "      <th>Percent Potentially Excess Deaths</th>\n",
       "    </tr>\n",
       "  </thead>\n",
       "  <tbody>\n",
       "    <tr>\n",
       "      <th>504</th>\n",
       "      <td>2005</td>\n",
       "      <td>Cancer</td>\n",
       "      <td>Delaware</td>\n",
       "      <td>DE</td>\n",
       "      <td>3</td>\n",
       "      <td>0-49</td>\n",
       "      <td>2005 Fixed</td>\n",
       "      <td>All</td>\n",
       "      <td>106.0</td>\n",
       "      <td>583236.0</td>\n",
       "      <td>85.0</td>\n",
       "      <td>24.0</td>\n",
       "      <td>22.6%</td>\n",
       "    </tr>\n",
       "    <tr>\n",
       "      <th>505</th>\n",
       "      <td>2005</td>\n",
       "      <td>Cancer</td>\n",
       "      <td>Delaware</td>\n",
       "      <td>DE</td>\n",
       "      <td>3</td>\n",
       "      <td>0-49</td>\n",
       "      <td>2005 Fixed</td>\n",
       "      <td>Metropolitan</td>\n",
       "      <td>106.0</td>\n",
       "      <td>583236.0</td>\n",
       "      <td>85.0</td>\n",
       "      <td>24.0</td>\n",
       "      <td>22.6%</td>\n",
       "    </tr>\n",
       "    <tr>\n",
       "      <th>506</th>\n",
       "      <td>2005</td>\n",
       "      <td>Cancer</td>\n",
       "      <td>Delaware</td>\n",
       "      <td>DE</td>\n",
       "      <td>3</td>\n",
       "      <td>0-49</td>\n",
       "      <td>2005 Fixed</td>\n",
       "      <td>Nonmetropolitan</td>\n",
       "      <td>NaN</td>\n",
       "      <td>NaN</td>\n",
       "      <td>NaN</td>\n",
       "      <td>NaN</td>\n",
       "      <td>NaN</td>\n",
       "    </tr>\n",
       "    <tr>\n",
       "      <th>507</th>\n",
       "      <td>2005</td>\n",
       "      <td>Cancer</td>\n",
       "      <td>Delaware</td>\n",
       "      <td>DE</td>\n",
       "      <td>3</td>\n",
       "      <td>0-49</td>\n",
       "      <td>2010 Fixed</td>\n",
       "      <td>All</td>\n",
       "      <td>106.0</td>\n",
       "      <td>583236.0</td>\n",
       "      <td>80.0</td>\n",
       "      <td>28.0</td>\n",
       "      <td>26.4%</td>\n",
       "    </tr>\n",
       "    <tr>\n",
       "      <th>508</th>\n",
       "      <td>2005</td>\n",
       "      <td>Cancer</td>\n",
       "      <td>Delaware</td>\n",
       "      <td>DE</td>\n",
       "      <td>3</td>\n",
       "      <td>0-49</td>\n",
       "      <td>2010 Fixed</td>\n",
       "      <td>Metropolitan</td>\n",
       "      <td>106.0</td>\n",
       "      <td>583236.0</td>\n",
       "      <td>80.0</td>\n",
       "      <td>28.0</td>\n",
       "      <td>26.4%</td>\n",
       "    </tr>\n",
       "  </tbody>\n",
       "</table>\n",
       "</div>"
      ],
      "text/plain": [
       "     Year Cause of Death     State State FIPS Code  HHS Region Age Range  \\\n",
       "504  2005         Cancer  Delaware              DE           3      0-49   \n",
       "505  2005         Cancer  Delaware              DE           3      0-49   \n",
       "506  2005         Cancer  Delaware              DE           3      0-49   \n",
       "507  2005         Cancer  Delaware              DE           3      0-49   \n",
       "508  2005         Cancer  Delaware              DE           3      0-49   \n",
       "\n",
       "      Benchmark         Locality  Observed Deaths  Population  \\\n",
       "504  2005 Fixed              All            106.0    583236.0   \n",
       "505  2005 Fixed     Metropolitan            106.0    583236.0   \n",
       "506  2005 Fixed  Nonmetropolitan              NaN         NaN   \n",
       "507  2010 Fixed              All            106.0    583236.0   \n",
       "508  2010 Fixed     Metropolitan            106.0    583236.0   \n",
       "\n",
       "     Expected Deaths  Potentially Excess Deaths  \\\n",
       "504             85.0                       24.0   \n",
       "505             85.0                       24.0   \n",
       "506              NaN                        NaN   \n",
       "507             80.0                       28.0   \n",
       "508             80.0                       28.0   \n",
       "\n",
       "    Percent Potentially Excess Deaths  \n",
       "504                             22.6%  \n",
       "505                             22.6%  \n",
       "506                               NaN  \n",
       "507                             26.4%  \n",
       "508                             26.4%  "
      ]
     },
     "execution_count": 980,
     "metadata": {},
     "output_type": "execute_result"
    }
   ],
   "source": [
    "data[data['State'] == 'Delaware'].head()"
   ]
  },
  {
   "cell_type": "code",
   "execution_count": 981,
   "metadata": {
    "scrolled": true
   },
   "outputs": [
    {
     "data": {
      "text/html": [
       "<div>\n",
       "<style>\n",
       "    .dataframe thead tr:only-child th {\n",
       "        text-align: right;\n",
       "    }\n",
       "\n",
       "    .dataframe thead th {\n",
       "        text-align: left;\n",
       "    }\n",
       "\n",
       "    .dataframe tbody tr th {\n",
       "        vertical-align: top;\n",
       "    }\n",
       "</style>\n",
       "<table border=\"1\" class=\"dataframe\">\n",
       "  <thead>\n",
       "    <tr style=\"text-align: right;\">\n",
       "      <th></th>\n",
       "      <th>Year</th>\n",
       "      <th>Cause of Death</th>\n",
       "      <th>State</th>\n",
       "      <th>State FIPS Code</th>\n",
       "      <th>HHS Region</th>\n",
       "      <th>Age Range</th>\n",
       "      <th>Benchmark</th>\n",
       "      <th>Locality</th>\n",
       "      <th>Observed Deaths</th>\n",
       "      <th>Population</th>\n",
       "      <th>Expected Deaths</th>\n",
       "      <th>Potentially Excess Deaths</th>\n",
       "      <th>Percent Potentially Excess Deaths</th>\n",
       "    </tr>\n",
       "  </thead>\n",
       "  <tbody>\n",
       "    <tr>\n",
       "      <th>576</th>\n",
       "      <td>2005</td>\n",
       "      <td>Cancer</td>\n",
       "      <td>District of\\nColumbia</td>\n",
       "      <td>DC</td>\n",
       "      <td>3</td>\n",
       "      <td>0-49</td>\n",
       "      <td>2005 Fixed</td>\n",
       "      <td>All</td>\n",
       "      <td>93.0</td>\n",
       "      <td>405409.0</td>\n",
       "      <td>56.0</td>\n",
       "      <td>39.0</td>\n",
       "      <td>41.9%</td>\n",
       "    </tr>\n",
       "    <tr>\n",
       "      <th>577</th>\n",
       "      <td>2005</td>\n",
       "      <td>Cancer</td>\n",
       "      <td>District of\\nColumbia</td>\n",
       "      <td>DC</td>\n",
       "      <td>3</td>\n",
       "      <td>0-49</td>\n",
       "      <td>2005 Fixed</td>\n",
       "      <td>Metropolitan</td>\n",
       "      <td>93.0</td>\n",
       "      <td>405409.0</td>\n",
       "      <td>56.0</td>\n",
       "      <td>39.0</td>\n",
       "      <td>41.9%</td>\n",
       "    </tr>\n",
       "    <tr>\n",
       "      <th>578</th>\n",
       "      <td>2005</td>\n",
       "      <td>Cancer</td>\n",
       "      <td>District of\\nColumbia</td>\n",
       "      <td>DC</td>\n",
       "      <td>3</td>\n",
       "      <td>0-49</td>\n",
       "      <td>2005 Fixed</td>\n",
       "      <td>Nonmetropolitan</td>\n",
       "      <td>NaN</td>\n",
       "      <td>NaN</td>\n",
       "      <td>NaN</td>\n",
       "      <td>NaN</td>\n",
       "      <td>NaN</td>\n",
       "    </tr>\n",
       "    <tr>\n",
       "      <th>579</th>\n",
       "      <td>2005</td>\n",
       "      <td>Cancer</td>\n",
       "      <td>District of\\nColumbia</td>\n",
       "      <td>DC</td>\n",
       "      <td>3</td>\n",
       "      <td>0-49</td>\n",
       "      <td>2010 Fixed</td>\n",
       "      <td>All</td>\n",
       "      <td>93.0</td>\n",
       "      <td>405409.0</td>\n",
       "      <td>52.0</td>\n",
       "      <td>42.0</td>\n",
       "      <td>45.2%</td>\n",
       "    </tr>\n",
       "    <tr>\n",
       "      <th>580</th>\n",
       "      <td>2005</td>\n",
       "      <td>Cancer</td>\n",
       "      <td>District of\\nColumbia</td>\n",
       "      <td>DC</td>\n",
       "      <td>3</td>\n",
       "      <td>0-49</td>\n",
       "      <td>2010 Fixed</td>\n",
       "      <td>Metropolitan</td>\n",
       "      <td>93.0</td>\n",
       "      <td>405409.0</td>\n",
       "      <td>52.0</td>\n",
       "      <td>42.0</td>\n",
       "      <td>45.2%</td>\n",
       "    </tr>\n",
       "    <tr>\n",
       "      <th>581</th>\n",
       "      <td>2005</td>\n",
       "      <td>Cancer</td>\n",
       "      <td>District of\\nColumbia</td>\n",
       "      <td>DC</td>\n",
       "      <td>3</td>\n",
       "      <td>0-49</td>\n",
       "      <td>2010 Fixed</td>\n",
       "      <td>Nonmetropolitan</td>\n",
       "      <td>NaN</td>\n",
       "      <td>NaN</td>\n",
       "      <td>NaN</td>\n",
       "      <td>NaN</td>\n",
       "      <td>NaN</td>\n",
       "    </tr>\n",
       "    <tr>\n",
       "      <th>582</th>\n",
       "      <td>2005</td>\n",
       "      <td>Cancer</td>\n",
       "      <td>District of\\nColumbia</td>\n",
       "      <td>DC</td>\n",
       "      <td>3</td>\n",
       "      <td>0-49</td>\n",
       "      <td>Floating</td>\n",
       "      <td>All</td>\n",
       "      <td>93.0</td>\n",
       "      <td>405409.0</td>\n",
       "      <td>56.0</td>\n",
       "      <td>39.0</td>\n",
       "      <td>41.9%</td>\n",
       "    </tr>\n",
       "    <tr>\n",
       "      <th>583</th>\n",
       "      <td>2005</td>\n",
       "      <td>Cancer</td>\n",
       "      <td>District of\\nColumbia</td>\n",
       "      <td>DC</td>\n",
       "      <td>3</td>\n",
       "      <td>0-49</td>\n",
       "      <td>Floating</td>\n",
       "      <td>Metropolitan</td>\n",
       "      <td>93.0</td>\n",
       "      <td>405409.0</td>\n",
       "      <td>56.0</td>\n",
       "      <td>39.0</td>\n",
       "      <td>41.9%</td>\n",
       "    </tr>\n",
       "    <tr>\n",
       "      <th>584</th>\n",
       "      <td>2005</td>\n",
       "      <td>Cancer</td>\n",
       "      <td>District of\\nColumbia</td>\n",
       "      <td>DC</td>\n",
       "      <td>3</td>\n",
       "      <td>0-49</td>\n",
       "      <td>Floating</td>\n",
       "      <td>Nonmetropolitan</td>\n",
       "      <td>NaN</td>\n",
       "      <td>NaN</td>\n",
       "      <td>NaN</td>\n",
       "      <td>NaN</td>\n",
       "      <td>NaN</td>\n",
       "    </tr>\n",
       "  </tbody>\n",
       "</table>\n",
       "</div>"
      ],
      "text/plain": [
       "     Year Cause of Death                  State State FIPS Code  HHS Region  \\\n",
       "576  2005         Cancer  District of\\nColumbia              DC           3   \n",
       "577  2005         Cancer  District of\\nColumbia              DC           3   \n",
       "578  2005         Cancer  District of\\nColumbia              DC           3   \n",
       "579  2005         Cancer  District of\\nColumbia              DC           3   \n",
       "580  2005         Cancer  District of\\nColumbia              DC           3   \n",
       "581  2005         Cancer  District of\\nColumbia              DC           3   \n",
       "582  2005         Cancer  District of\\nColumbia              DC           3   \n",
       "583  2005         Cancer  District of\\nColumbia              DC           3   \n",
       "584  2005         Cancer  District of\\nColumbia              DC           3   \n",
       "\n",
       "    Age Range   Benchmark         Locality  Observed Deaths  Population  \\\n",
       "576      0-49  2005 Fixed              All             93.0    405409.0   \n",
       "577      0-49  2005 Fixed     Metropolitan             93.0    405409.0   \n",
       "578      0-49  2005 Fixed  Nonmetropolitan              NaN         NaN   \n",
       "579      0-49  2010 Fixed              All             93.0    405409.0   \n",
       "580      0-49  2010 Fixed     Metropolitan             93.0    405409.0   \n",
       "581      0-49  2010 Fixed  Nonmetropolitan              NaN         NaN   \n",
       "582      0-49    Floating              All             93.0    405409.0   \n",
       "583      0-49    Floating     Metropolitan             93.0    405409.0   \n",
       "584      0-49    Floating  Nonmetropolitan              NaN         NaN   \n",
       "\n",
       "     Expected Deaths  Potentially Excess Deaths  \\\n",
       "576             56.0                       39.0   \n",
       "577             56.0                       39.0   \n",
       "578              NaN                        NaN   \n",
       "579             52.0                       42.0   \n",
       "580             52.0                       42.0   \n",
       "581              NaN                        NaN   \n",
       "582             56.0                       39.0   \n",
       "583             56.0                       39.0   \n",
       "584              NaN                        NaN   \n",
       "\n",
       "    Percent Potentially Excess Deaths  \n",
       "576                             41.9%  \n",
       "577                             41.9%  \n",
       "578                               NaN  \n",
       "579                             45.2%  \n",
       "580                             45.2%  \n",
       "581                               NaN  \n",
       "582                             41.9%  \n",
       "583                             41.9%  \n",
       "584                               NaN  "
      ]
     },
     "execution_count": 981,
     "metadata": {},
     "output_type": "execute_result"
    }
   ],
   "source": [
    "data[data['State'] == 'District of\\nColumbia'].head(n=9)"
   ]
  },
  {
   "cell_type": "code",
   "execution_count": 982,
   "metadata": {},
   "outputs": [],
   "source": [
    "data = data.fillna(method='ffill')"
   ]
  },
  {
   "cell_type": "code",
   "execution_count": 983,
   "metadata": {},
   "outputs": [
    {
     "data": {
      "text/plain": [
       "Year                                 0\n",
       "Cause of Death                       0\n",
       "State                                0\n",
       "State FIPS Code                      0\n",
       "HHS Region                           0\n",
       "Age Range                            0\n",
       "Benchmark                            0\n",
       "Locality                             0\n",
       "Observed Deaths                      0\n",
       "Population                           0\n",
       "Expected Deaths                      0\n",
       "Potentially Excess Deaths            0\n",
       "Percent Potentially Excess Deaths    0\n",
       "dtype: int64"
      ]
     },
     "execution_count": 983,
     "metadata": {},
     "output_type": "execute_result"
    }
   ],
   "source": [
    "data.isnull().sum()"
   ]
  },
  {
   "cell_type": "code",
   "execution_count": 984,
   "metadata": {},
   "outputs": [
    {
     "name": "stdout",
     "output_type": "stream",
     "text": [
      "(205920, 13)\n"
     ]
    }
   ],
   "source": [
    "print(data.shape)"
   ]
  },
  {
   "cell_type": "code",
   "execution_count": 985,
   "metadata": {},
   "outputs": [
    {
     "data": {
      "text/html": [
       "<div>\n",
       "<style>\n",
       "    .dataframe thead tr:only-child th {\n",
       "        text-align: right;\n",
       "    }\n",
       "\n",
       "    .dataframe thead th {\n",
       "        text-align: left;\n",
       "    }\n",
       "\n",
       "    .dataframe tbody tr th {\n",
       "        vertical-align: top;\n",
       "    }\n",
       "</style>\n",
       "<table border=\"1\" class=\"dataframe\">\n",
       "  <thead>\n",
       "    <tr style=\"text-align: right;\">\n",
       "      <th></th>\n",
       "      <th>Year</th>\n",
       "      <th>HHS Region</th>\n",
       "      <th>Observed Deaths</th>\n",
       "      <th>Population</th>\n",
       "      <th>Expected Deaths</th>\n",
       "      <th>Potentially Excess Deaths</th>\n",
       "    </tr>\n",
       "  </thead>\n",
       "  <tbody>\n",
       "    <tr>\n",
       "      <th>count</th>\n",
       "      <td>205920.000000</td>\n",
       "      <td>205920.000000</td>\n",
       "      <td>205920.000000</td>\n",
       "      <td>2.059200e+05</td>\n",
       "      <td>205920.000000</td>\n",
       "      <td>205920.000000</td>\n",
       "    </tr>\n",
       "    <tr>\n",
       "      <th>mean</th>\n",
       "      <td>2010.000000</td>\n",
       "      <td>5.230769</td>\n",
       "      <td>2856.455900</td>\n",
       "      <td>6.894221e+06</td>\n",
       "      <td>2030.354968</td>\n",
       "      <td>839.081260</td>\n",
       "    </tr>\n",
       "    <tr>\n",
       "      <th>std</th>\n",
       "      <td>3.162285</td>\n",
       "      <td>2.798464</td>\n",
       "      <td>16745.353063</td>\n",
       "      <td>2.827468e+07</td>\n",
       "      <td>12966.146172</td>\n",
       "      <td>4303.196511</td>\n",
       "    </tr>\n",
       "    <tr>\n",
       "      <th>min</th>\n",
       "      <td>2005.000000</td>\n",
       "      <td>0.000000</td>\n",
       "      <td>10.000000</td>\n",
       "      <td>5.553600e+04</td>\n",
       "      <td>2.000000</td>\n",
       "      <td>0.000000</td>\n",
       "    </tr>\n",
       "    <tr>\n",
       "      <th>25%</th>\n",
       "      <td>2007.000000</td>\n",
       "      <td>3.000000</td>\n",
       "      <td>145.000000</td>\n",
       "      <td>6.787578e+05</td>\n",
       "      <td>87.000000</td>\n",
       "      <td>38.000000</td>\n",
       "    </tr>\n",
       "    <tr>\n",
       "      <th>50%</th>\n",
       "      <td>2010.000000</td>\n",
       "      <td>5.000000</td>\n",
       "      <td>481.000000</td>\n",
       "      <td>1.566749e+06</td>\n",
       "      <td>282.000000</td>\n",
       "      <td>150.000000</td>\n",
       "    </tr>\n",
       "    <tr>\n",
       "      <th>75%</th>\n",
       "      <td>2013.000000</td>\n",
       "      <td>8.000000</td>\n",
       "      <td>1510.000000</td>\n",
       "      <td>4.681102e+06</td>\n",
       "      <td>978.000000</td>\n",
       "      <td>515.000000</td>\n",
       "    </tr>\n",
       "    <tr>\n",
       "      <th>max</th>\n",
       "      <td>2015.000000</td>\n",
       "      <td>10.000000</td>\n",
       "      <td>493526.000000</td>\n",
       "      <td>3.151317e+08</td>\n",
       "      <td>465126.000000</td>\n",
       "      <td>175703.000000</td>\n",
       "    </tr>\n",
       "  </tbody>\n",
       "</table>\n",
       "</div>"
      ],
      "text/plain": [
       "                Year     HHS Region  Observed Deaths    Population  \\\n",
       "count  205920.000000  205920.000000    205920.000000  2.059200e+05   \n",
       "mean     2010.000000       5.230769      2856.455900  6.894221e+06   \n",
       "std         3.162285       2.798464     16745.353063  2.827468e+07   \n",
       "min      2005.000000       0.000000        10.000000  5.553600e+04   \n",
       "25%      2007.000000       3.000000       145.000000  6.787578e+05   \n",
       "50%      2010.000000       5.000000       481.000000  1.566749e+06   \n",
       "75%      2013.000000       8.000000      1510.000000  4.681102e+06   \n",
       "max      2015.000000      10.000000    493526.000000  3.151317e+08   \n",
       "\n",
       "       Expected Deaths  Potentially Excess Deaths  \n",
       "count    205920.000000              205920.000000  \n",
       "mean       2030.354968                 839.081260  \n",
       "std       12966.146172                4303.196511  \n",
       "min           2.000000                   0.000000  \n",
       "25%          87.000000                  38.000000  \n",
       "50%         282.000000                 150.000000  \n",
       "75%         978.000000                 515.000000  \n",
       "max      465126.000000              175703.000000  "
      ]
     },
     "execution_count": 985,
     "metadata": {},
     "output_type": "execute_result"
    }
   ],
   "source": [
    "data.describe()"
   ]
  },
  {
   "cell_type": "code",
   "execution_count": null,
   "metadata": {},
   "outputs": [],
   "source": []
  },
  {
   "cell_type": "markdown",
   "metadata": {},
   "source": [
    "<h3>I will drop, following features</h3>\n",
    "<p>Feauture name and reason why I will drop it</p>\n",
    "<ul>\n",
    "    <li>State; Prevent singular matrix(State FIPS Code is the same features) Code is a shorter representation</li>\n",
    "    <li>Expected Deaths, Potentially Excess Deaths, Percent Potentially Excess Deaths; we're not interested in Potentiality of deaths, and formuls for that is unclear to use</li>\n",
    "</ul>"
   ]
  },
  {
   "cell_type": "code",
   "execution_count": 986,
   "metadata": {},
   "outputs": [],
   "source": [
    "reduced_data = data.drop([\"State\",  \"Expected Deaths\", \"Potentially Excess Deaths\", \"Percent Potentially Excess Deaths\"], axis=1)"
   ]
  },
  {
   "cell_type": "code",
   "execution_count": 987,
   "metadata": {},
   "outputs": [
    {
     "name": "stdout",
     "output_type": "stream",
     "text": [
      "(205920, 9)\n"
     ]
    },
    {
     "data": {
      "text/html": [
       "<div>\n",
       "<style>\n",
       "    .dataframe thead tr:only-child th {\n",
       "        text-align: right;\n",
       "    }\n",
       "\n",
       "    .dataframe thead th {\n",
       "        text-align: left;\n",
       "    }\n",
       "\n",
       "    .dataframe tbody tr th {\n",
       "        vertical-align: top;\n",
       "    }\n",
       "</style>\n",
       "<table border=\"1\" class=\"dataframe\">\n",
       "  <thead>\n",
       "    <tr style=\"text-align: right;\">\n",
       "      <th></th>\n",
       "      <th>Year</th>\n",
       "      <th>Cause of Death</th>\n",
       "      <th>State FIPS Code</th>\n",
       "      <th>HHS Region</th>\n",
       "      <th>Age Range</th>\n",
       "      <th>Benchmark</th>\n",
       "      <th>Locality</th>\n",
       "      <th>Observed Deaths</th>\n",
       "      <th>Population</th>\n",
       "    </tr>\n",
       "  </thead>\n",
       "  <tbody>\n",
       "    <tr>\n",
       "      <th>0</th>\n",
       "      <td>2005</td>\n",
       "      <td>Cancer</td>\n",
       "      <td>AL</td>\n",
       "      <td>4</td>\n",
       "      <td>0-49</td>\n",
       "      <td>2005 Fixed</td>\n",
       "      <td>All</td>\n",
       "      <td>756.0</td>\n",
       "      <td>3148377.0</td>\n",
       "    </tr>\n",
       "    <tr>\n",
       "      <th>1</th>\n",
       "      <td>2005</td>\n",
       "      <td>Cancer</td>\n",
       "      <td>AL</td>\n",
       "      <td>4</td>\n",
       "      <td>0-49</td>\n",
       "      <td>2005 Fixed</td>\n",
       "      <td>Metropolitan</td>\n",
       "      <td>556.0</td>\n",
       "      <td>2379871.0</td>\n",
       "    </tr>\n",
       "    <tr>\n",
       "      <th>2</th>\n",
       "      <td>2005</td>\n",
       "      <td>Cancer</td>\n",
       "      <td>AL</td>\n",
       "      <td>4</td>\n",
       "      <td>0-49</td>\n",
       "      <td>2005 Fixed</td>\n",
       "      <td>Nonmetropolitan</td>\n",
       "      <td>200.0</td>\n",
       "      <td>768506.0</td>\n",
       "    </tr>\n",
       "    <tr>\n",
       "      <th>3</th>\n",
       "      <td>2005</td>\n",
       "      <td>Cancer</td>\n",
       "      <td>AL</td>\n",
       "      <td>4</td>\n",
       "      <td>0-49</td>\n",
       "      <td>2010 Fixed</td>\n",
       "      <td>All</td>\n",
       "      <td>756.0</td>\n",
       "      <td>3148377.0</td>\n",
       "    </tr>\n",
       "    <tr>\n",
       "      <th>4</th>\n",
       "      <td>2005</td>\n",
       "      <td>Cancer</td>\n",
       "      <td>AL</td>\n",
       "      <td>4</td>\n",
       "      <td>0-49</td>\n",
       "      <td>2010 Fixed</td>\n",
       "      <td>Metropolitan</td>\n",
       "      <td>556.0</td>\n",
       "      <td>2379871.0</td>\n",
       "    </tr>\n",
       "  </tbody>\n",
       "</table>\n",
       "</div>"
      ],
      "text/plain": [
       "   Year Cause of Death State FIPS Code  HHS Region Age Range   Benchmark  \\\n",
       "0  2005         Cancer              AL           4      0-49  2005 Fixed   \n",
       "1  2005         Cancer              AL           4      0-49  2005 Fixed   \n",
       "2  2005         Cancer              AL           4      0-49  2005 Fixed   \n",
       "3  2005         Cancer              AL           4      0-49  2010 Fixed   \n",
       "4  2005         Cancer              AL           4      0-49  2010 Fixed   \n",
       "\n",
       "          Locality  Observed Deaths  Population  \n",
       "0              All            756.0   3148377.0  \n",
       "1     Metropolitan            556.0   2379871.0  \n",
       "2  Nonmetropolitan            200.0    768506.0  \n",
       "3              All            756.0   3148377.0  \n",
       "4     Metropolitan            556.0   2379871.0  "
      ]
     },
     "execution_count": 987,
     "metadata": {},
     "output_type": "execute_result"
    }
   ],
   "source": [
    "print(reduced_data.shape)\n",
    "reduced_data.head()"
   ]
  },
  {
   "cell_type": "markdown",
   "metadata": {},
   "source": [
    "<h3>Drop samples whose Locality is \"All\". This sample consists of Metropolitan and Nonmetropolitan samples and keeping them will cause duplicate samples.</h3>"
   ]
  },
  {
   "cell_type": "code",
   "execution_count": 988,
   "metadata": {},
   "outputs": [],
   "source": [
    "reduced_data = reduced_data[reduced_data[\"Locality\"] != \"All\"]"
   ]
  },
  {
   "cell_type": "code",
   "execution_count": 989,
   "metadata": {},
   "outputs": [
    {
     "name": "stdout",
     "output_type": "stream",
     "text": [
      "(137280, 9)\n"
     ]
    },
    {
     "data": {
      "text/html": [
       "<div>\n",
       "<style>\n",
       "    .dataframe thead tr:only-child th {\n",
       "        text-align: right;\n",
       "    }\n",
       "\n",
       "    .dataframe thead th {\n",
       "        text-align: left;\n",
       "    }\n",
       "\n",
       "    .dataframe tbody tr th {\n",
       "        vertical-align: top;\n",
       "    }\n",
       "</style>\n",
       "<table border=\"1\" class=\"dataframe\">\n",
       "  <thead>\n",
       "    <tr style=\"text-align: right;\">\n",
       "      <th></th>\n",
       "      <th>Year</th>\n",
       "      <th>Cause of Death</th>\n",
       "      <th>State FIPS Code</th>\n",
       "      <th>HHS Region</th>\n",
       "      <th>Age Range</th>\n",
       "      <th>Benchmark</th>\n",
       "      <th>Locality</th>\n",
       "      <th>Observed Deaths</th>\n",
       "      <th>Population</th>\n",
       "    </tr>\n",
       "  </thead>\n",
       "  <tbody>\n",
       "    <tr>\n",
       "      <th>1</th>\n",
       "      <td>2005</td>\n",
       "      <td>Cancer</td>\n",
       "      <td>AL</td>\n",
       "      <td>4</td>\n",
       "      <td>0-49</td>\n",
       "      <td>2005 Fixed</td>\n",
       "      <td>Metropolitan</td>\n",
       "      <td>556.0</td>\n",
       "      <td>2379871.0</td>\n",
       "    </tr>\n",
       "    <tr>\n",
       "      <th>2</th>\n",
       "      <td>2005</td>\n",
       "      <td>Cancer</td>\n",
       "      <td>AL</td>\n",
       "      <td>4</td>\n",
       "      <td>0-49</td>\n",
       "      <td>2005 Fixed</td>\n",
       "      <td>Nonmetropolitan</td>\n",
       "      <td>200.0</td>\n",
       "      <td>768506.0</td>\n",
       "    </tr>\n",
       "    <tr>\n",
       "      <th>4</th>\n",
       "      <td>2005</td>\n",
       "      <td>Cancer</td>\n",
       "      <td>AL</td>\n",
       "      <td>4</td>\n",
       "      <td>0-49</td>\n",
       "      <td>2010 Fixed</td>\n",
       "      <td>Metropolitan</td>\n",
       "      <td>556.0</td>\n",
       "      <td>2379871.0</td>\n",
       "    </tr>\n",
       "    <tr>\n",
       "      <th>5</th>\n",
       "      <td>2005</td>\n",
       "      <td>Cancer</td>\n",
       "      <td>AL</td>\n",
       "      <td>4</td>\n",
       "      <td>0-49</td>\n",
       "      <td>2010 Fixed</td>\n",
       "      <td>Nonmetropolitan</td>\n",
       "      <td>200.0</td>\n",
       "      <td>768506.0</td>\n",
       "    </tr>\n",
       "    <tr>\n",
       "      <th>7</th>\n",
       "      <td>2005</td>\n",
       "      <td>Cancer</td>\n",
       "      <td>AL</td>\n",
       "      <td>4</td>\n",
       "      <td>0-49</td>\n",
       "      <td>Floating</td>\n",
       "      <td>Metropolitan</td>\n",
       "      <td>556.0</td>\n",
       "      <td>2379871.0</td>\n",
       "    </tr>\n",
       "  </tbody>\n",
       "</table>\n",
       "</div>"
      ],
      "text/plain": [
       "   Year Cause of Death State FIPS Code  HHS Region Age Range   Benchmark  \\\n",
       "1  2005         Cancer              AL           4      0-49  2005 Fixed   \n",
       "2  2005         Cancer              AL           4      0-49  2005 Fixed   \n",
       "4  2005         Cancer              AL           4      0-49  2010 Fixed   \n",
       "5  2005         Cancer              AL           4      0-49  2010 Fixed   \n",
       "7  2005         Cancer              AL           4      0-49    Floating   \n",
       "\n",
       "          Locality  Observed Deaths  Population  \n",
       "1     Metropolitan            556.0   2379871.0  \n",
       "2  Nonmetropolitan            200.0    768506.0  \n",
       "4     Metropolitan            556.0   2379871.0  \n",
       "5  Nonmetropolitan            200.0    768506.0  \n",
       "7     Metropolitan            556.0   2379871.0  "
      ]
     },
     "execution_count": 989,
     "metadata": {},
     "output_type": "execute_result"
    }
   ],
   "source": [
    "print(reduced_data.shape)\n",
    "reduced_data.head()"
   ]
  },
  {
   "cell_type": "markdown",
   "metadata": {},
   "source": [
    "<h3>Use Benchmark whose value is 2005 Fixed. This avoids duplicates of samples.</h3>"
   ]
  },
  {
   "cell_type": "code",
   "execution_count": 990,
   "metadata": {},
   "outputs": [
    {
     "name": "stdout",
     "output_type": "stream",
     "text": [
      "(45760, 9)\n"
     ]
    }
   ],
   "source": [
    "reduced_data = reduced_data[reduced_data[\"Benchmark\"] == '2005 Fixed']\n",
    "print(reduced_data.shape)"
   ]
  },
  {
   "cell_type": "markdown",
   "metadata": {},
   "source": [
    "<h3>Drop Benchmark feature since we don't care about \"Potentially Excess Deaths\"</h3>"
   ]
  },
  {
   "cell_type": "code",
   "execution_count": 991,
   "metadata": {},
   "outputs": [],
   "source": [
    "reduced_data.drop(['Benchmark'], axis=1, inplace=True)"
   ]
  },
  {
   "cell_type": "code",
   "execution_count": 992,
   "metadata": {},
   "outputs": [
    {
     "name": "stdout",
     "output_type": "stream",
     "text": [
      "(45760, 8)\n"
     ]
    },
    {
     "data": {
      "text/html": [
       "<div>\n",
       "<style>\n",
       "    .dataframe thead tr:only-child th {\n",
       "        text-align: right;\n",
       "    }\n",
       "\n",
       "    .dataframe thead th {\n",
       "        text-align: left;\n",
       "    }\n",
       "\n",
       "    .dataframe tbody tr th {\n",
       "        vertical-align: top;\n",
       "    }\n",
       "</style>\n",
       "<table border=\"1\" class=\"dataframe\">\n",
       "  <thead>\n",
       "    <tr style=\"text-align: right;\">\n",
       "      <th></th>\n",
       "      <th>Year</th>\n",
       "      <th>Cause of Death</th>\n",
       "      <th>State FIPS Code</th>\n",
       "      <th>HHS Region</th>\n",
       "      <th>Age Range</th>\n",
       "      <th>Locality</th>\n",
       "      <th>Observed Deaths</th>\n",
       "      <th>Population</th>\n",
       "    </tr>\n",
       "  </thead>\n",
       "  <tbody>\n",
       "    <tr>\n",
       "      <th>1</th>\n",
       "      <td>2005</td>\n",
       "      <td>Cancer</td>\n",
       "      <td>AL</td>\n",
       "      <td>4</td>\n",
       "      <td>0-49</td>\n",
       "      <td>Metropolitan</td>\n",
       "      <td>556.0</td>\n",
       "      <td>2379871.0</td>\n",
       "    </tr>\n",
       "    <tr>\n",
       "      <th>2</th>\n",
       "      <td>2005</td>\n",
       "      <td>Cancer</td>\n",
       "      <td>AL</td>\n",
       "      <td>4</td>\n",
       "      <td>0-49</td>\n",
       "      <td>Nonmetropolitan</td>\n",
       "      <td>200.0</td>\n",
       "      <td>768506.0</td>\n",
       "    </tr>\n",
       "    <tr>\n",
       "      <th>10</th>\n",
       "      <td>2005</td>\n",
       "      <td>Cancer</td>\n",
       "      <td>AL</td>\n",
       "      <td>4</td>\n",
       "      <td>0-54</td>\n",
       "      <td>Metropolitan</td>\n",
       "      <td>968.0</td>\n",
       "      <td>2615416.0</td>\n",
       "    </tr>\n",
       "    <tr>\n",
       "      <th>11</th>\n",
       "      <td>2005</td>\n",
       "      <td>Cancer</td>\n",
       "      <td>AL</td>\n",
       "      <td>4</td>\n",
       "      <td>0-54</td>\n",
       "      <td>Nonmetropolitan</td>\n",
       "      <td>378.0</td>\n",
       "      <td>847800.0</td>\n",
       "    </tr>\n",
       "    <tr>\n",
       "      <th>19</th>\n",
       "      <td>2005</td>\n",
       "      <td>Cancer</td>\n",
       "      <td>AL</td>\n",
       "      <td>4</td>\n",
       "      <td>0-59</td>\n",
       "      <td>Metropolitan</td>\n",
       "      <td>1596.0</td>\n",
       "      <td>2823908.0</td>\n",
       "    </tr>\n",
       "    <tr>\n",
       "      <th>20</th>\n",
       "      <td>2005</td>\n",
       "      <td>Cancer</td>\n",
       "      <td>AL</td>\n",
       "      <td>4</td>\n",
       "      <td>0-59</td>\n",
       "      <td>Nonmetropolitan</td>\n",
       "      <td>603.0</td>\n",
       "      <td>923392.0</td>\n",
       "    </tr>\n",
       "    <tr>\n",
       "      <th>28</th>\n",
       "      <td>2005</td>\n",
       "      <td>Cancer</td>\n",
       "      <td>AL</td>\n",
       "      <td>4</td>\n",
       "      <td>0-64</td>\n",
       "      <td>Metropolitan</td>\n",
       "      <td>2325.0</td>\n",
       "      <td>2982884.0</td>\n",
       "    </tr>\n",
       "    <tr>\n",
       "      <th>29</th>\n",
       "      <td>2005</td>\n",
       "      <td>Cancer</td>\n",
       "      <td>AL</td>\n",
       "      <td>4</td>\n",
       "      <td>0-64</td>\n",
       "      <td>Nonmetropolitan</td>\n",
       "      <td>919.0</td>\n",
       "      <td>984819.0</td>\n",
       "    </tr>\n",
       "    <tr>\n",
       "      <th>37</th>\n",
       "      <td>2005</td>\n",
       "      <td>Cancer</td>\n",
       "      <td>AL</td>\n",
       "      <td>4</td>\n",
       "      <td>0-69</td>\n",
       "      <td>Metropolitan</td>\n",
       "      <td>3210.0</td>\n",
       "      <td>3110812.0</td>\n",
       "    </tr>\n",
       "    <tr>\n",
       "      <th>38</th>\n",
       "      <td>2005</td>\n",
       "      <td>Cancer</td>\n",
       "      <td>AL</td>\n",
       "      <td>4</td>\n",
       "      <td>0-69</td>\n",
       "      <td>Nonmetropolitan</td>\n",
       "      <td>1262.0</td>\n",
       "      <td>1036833.0</td>\n",
       "    </tr>\n",
       "  </tbody>\n",
       "</table>\n",
       "</div>"
      ],
      "text/plain": [
       "    Year Cause of Death State FIPS Code  HHS Region Age Range  \\\n",
       "1   2005         Cancer              AL           4      0-49   \n",
       "2   2005         Cancer              AL           4      0-49   \n",
       "10  2005         Cancer              AL           4      0-54   \n",
       "11  2005         Cancer              AL           4      0-54   \n",
       "19  2005         Cancer              AL           4      0-59   \n",
       "20  2005         Cancer              AL           4      0-59   \n",
       "28  2005         Cancer              AL           4      0-64   \n",
       "29  2005         Cancer              AL           4      0-64   \n",
       "37  2005         Cancer              AL           4      0-69   \n",
       "38  2005         Cancer              AL           4      0-69   \n",
       "\n",
       "           Locality  Observed Deaths  Population  \n",
       "1      Metropolitan            556.0   2379871.0  \n",
       "2   Nonmetropolitan            200.0    768506.0  \n",
       "10     Metropolitan            968.0   2615416.0  \n",
       "11  Nonmetropolitan            378.0    847800.0  \n",
       "19     Metropolitan           1596.0   2823908.0  \n",
       "20  Nonmetropolitan            603.0    923392.0  \n",
       "28     Metropolitan           2325.0   2982884.0  \n",
       "29  Nonmetropolitan            919.0    984819.0  \n",
       "37     Metropolitan           3210.0   3110812.0  \n",
       "38  Nonmetropolitan           1262.0   1036833.0  "
      ]
     },
     "execution_count": 992,
     "metadata": {},
     "output_type": "execute_result"
    }
   ],
   "source": [
    "print(reduced_data.shape)\n",
    "reduced_data.head(n=10)"
   ]
  },
  {
   "cell_type": "code",
   "execution_count": 993,
   "metadata": {},
   "outputs": [
    {
     "name": "stdout",
     "output_type": "stream",
     "text": [
      "['0-49' '0-54' '0-59' '0-64' '0-69' '0-74' '0-79' '0-84']\n"
     ]
    }
   ],
   "source": [
    "print(np.unique(reduced_data[\"Age Range\"]))"
   ]
  },
  {
   "cell_type": "markdown",
   "metadata": {},
   "source": [
    "<h3>Adjust the Age Range as follows. We treat Age value as nominal features(categorical values which can be ordered) Also change the corresponding Observed Deaths and population based on the new range of age</h3>\n",
    "<p>New Range of Age</p>\n",
    "<oi>\n",
    "    <li> 0-49 as 1</li>\n",
    "    <li>50-54 as 2</li>\n",
    "    <li>55-59 as 3</li>\n",
    "    <li>60-64 as 4</li>\n",
    "    <li>65-69 as 5</li>\n",
    "    <li>70-79 as 6</li>\n",
    "    <li>80-84 as 7</li>\n",
    "</oli>"
   ]
  },
  {
   "cell_type": "code",
   "execution_count": 994,
   "metadata": {},
   "outputs": [
    {
     "name": "stdout",
     "output_type": "stream",
     "text": [
      "{'0-84': 8, '0-59': 3, '0-54': 2, '0-69': 5, '0-79': 7, '0-49': 1, '0-74': 6, '0-64': 4}\n"
     ]
    }
   ],
   "source": [
    "age_mapping = dict()\n",
    "for index, age in enumerate(np.unique(reduced_data[\"Age Range\"])):\n",
    "    age_mapping[age] = index+1\n",
    "print(age_mapping)"
   ]
  },
  {
   "cell_type": "code",
   "execution_count": 995,
   "metadata": {},
   "outputs": [
    {
     "data": {
      "text/html": [
       "<div>\n",
       "<style>\n",
       "    .dataframe thead tr:only-child th {\n",
       "        text-align: right;\n",
       "    }\n",
       "\n",
       "    .dataframe thead th {\n",
       "        text-align: left;\n",
       "    }\n",
       "\n",
       "    .dataframe tbody tr th {\n",
       "        vertical-align: top;\n",
       "    }\n",
       "</style>\n",
       "<table border=\"1\" class=\"dataframe\">\n",
       "  <thead>\n",
       "    <tr style=\"text-align: right;\">\n",
       "      <th></th>\n",
       "      <th>Year</th>\n",
       "      <th>Cause of Death</th>\n",
       "      <th>State FIPS Code</th>\n",
       "      <th>HHS Region</th>\n",
       "      <th>Age Range</th>\n",
       "      <th>Locality</th>\n",
       "      <th>Observed Deaths</th>\n",
       "      <th>Population</th>\n",
       "    </tr>\n",
       "  </thead>\n",
       "  <tbody>\n",
       "    <tr>\n",
       "      <th>1</th>\n",
       "      <td>2005</td>\n",
       "      <td>Cancer</td>\n",
       "      <td>AL</td>\n",
       "      <td>4</td>\n",
       "      <td>1</td>\n",
       "      <td>Metropolitan</td>\n",
       "      <td>556.0</td>\n",
       "      <td>2379871.0</td>\n",
       "    </tr>\n",
       "    <tr>\n",
       "      <th>2</th>\n",
       "      <td>2005</td>\n",
       "      <td>Cancer</td>\n",
       "      <td>AL</td>\n",
       "      <td>4</td>\n",
       "      <td>1</td>\n",
       "      <td>Nonmetropolitan</td>\n",
       "      <td>200.0</td>\n",
       "      <td>768506.0</td>\n",
       "    </tr>\n",
       "    <tr>\n",
       "      <th>10</th>\n",
       "      <td>2005</td>\n",
       "      <td>Cancer</td>\n",
       "      <td>AL</td>\n",
       "      <td>4</td>\n",
       "      <td>2</td>\n",
       "      <td>Metropolitan</td>\n",
       "      <td>968.0</td>\n",
       "      <td>2615416.0</td>\n",
       "    </tr>\n",
       "    <tr>\n",
       "      <th>11</th>\n",
       "      <td>2005</td>\n",
       "      <td>Cancer</td>\n",
       "      <td>AL</td>\n",
       "      <td>4</td>\n",
       "      <td>2</td>\n",
       "      <td>Nonmetropolitan</td>\n",
       "      <td>378.0</td>\n",
       "      <td>847800.0</td>\n",
       "    </tr>\n",
       "    <tr>\n",
       "      <th>19</th>\n",
       "      <td>2005</td>\n",
       "      <td>Cancer</td>\n",
       "      <td>AL</td>\n",
       "      <td>4</td>\n",
       "      <td>3</td>\n",
       "      <td>Metropolitan</td>\n",
       "      <td>1596.0</td>\n",
       "      <td>2823908.0</td>\n",
       "    </tr>\n",
       "  </tbody>\n",
       "</table>\n",
       "</div>"
      ],
      "text/plain": [
       "    Year Cause of Death State FIPS Code  HHS Region  Age Range  \\\n",
       "1   2005         Cancer              AL           4          1   \n",
       "2   2005         Cancer              AL           4          1   \n",
       "10  2005         Cancer              AL           4          2   \n",
       "11  2005         Cancer              AL           4          2   \n",
       "19  2005         Cancer              AL           4          3   \n",
       "\n",
       "           Locality  Observed Deaths  Population  \n",
       "1      Metropolitan            556.0   2379871.0  \n",
       "2   Nonmetropolitan            200.0    768506.0  \n",
       "10     Metropolitan            968.0   2615416.0  \n",
       "11  Nonmetropolitan            378.0    847800.0  \n",
       "19     Metropolitan           1596.0   2823908.0  "
      ]
     },
     "execution_count": 995,
     "metadata": {},
     "output_type": "execute_result"
    }
   ],
   "source": [
    "reduced_data[\"Age Range\"] = reduced_data[\"Age Range\"].map(age_mapping)\n",
    "reduced_data.head()"
   ]
  },
  {
   "cell_type": "code",
   "execution_count": 996,
   "metadata": {},
   "outputs": [
    {
     "name": "stdout",
     "output_type": "stream",
     "text": [
      "[1 2 3 4 5 6 7 8]\n"
     ]
    }
   ],
   "source": [
    "print(np.unique(reduced_data[\"Age Range\"]))"
   ]
  },
  {
   "cell_type": "code",
   "execution_count": 997,
   "metadata": {},
   "outputs": [
    {
     "data": {
      "text/html": [
       "<div>\n",
       "<style>\n",
       "    .dataframe thead tr:only-child th {\n",
       "        text-align: right;\n",
       "    }\n",
       "\n",
       "    .dataframe thead th {\n",
       "        text-align: left;\n",
       "    }\n",
       "\n",
       "    .dataframe tbody tr th {\n",
       "        vertical-align: top;\n",
       "    }\n",
       "</style>\n",
       "<table border=\"1\" class=\"dataframe\">\n",
       "  <thead>\n",
       "    <tr style=\"text-align: right;\">\n",
       "      <th></th>\n",
       "      <th>Year</th>\n",
       "      <th>Cause of Death</th>\n",
       "      <th>State FIPS Code</th>\n",
       "      <th>HHS Region</th>\n",
       "      <th>Age Range</th>\n",
       "      <th>Locality</th>\n",
       "      <th>Observed Deaths</th>\n",
       "      <th>Population</th>\n",
       "    </tr>\n",
       "  </thead>\n",
       "  <tbody>\n",
       "    <tr>\n",
       "      <th>205895</th>\n",
       "      <td>2015</td>\n",
       "      <td>Unintentional Injury</td>\n",
       "      <td>WY</td>\n",
       "      <td>8</td>\n",
       "      <td>6</td>\n",
       "      <td>Nonmetropolitan</td>\n",
       "      <td>232.0</td>\n",
       "      <td>383497.0</td>\n",
       "    </tr>\n",
       "    <tr>\n",
       "      <th>205903</th>\n",
       "      <td>2015</td>\n",
       "      <td>Unintentional Injury</td>\n",
       "      <td>WY</td>\n",
       "      <td>8</td>\n",
       "      <td>7</td>\n",
       "      <td>Metropolitan</td>\n",
       "      <td>90.0</td>\n",
       "      <td>172771.0</td>\n",
       "    </tr>\n",
       "    <tr>\n",
       "      <th>205904</th>\n",
       "      <td>2015</td>\n",
       "      <td>Unintentional Injury</td>\n",
       "      <td>WY</td>\n",
       "      <td>8</td>\n",
       "      <td>7</td>\n",
       "      <td>Nonmetropolitan</td>\n",
       "      <td>246.0</td>\n",
       "      <td>393349.0</td>\n",
       "    </tr>\n",
       "    <tr>\n",
       "      <th>205912</th>\n",
       "      <td>2015</td>\n",
       "      <td>Unintentional Injury</td>\n",
       "      <td>WY</td>\n",
       "      <td>8</td>\n",
       "      <td>8</td>\n",
       "      <td>Metropolitan</td>\n",
       "      <td>93.0</td>\n",
       "      <td>175787.0</td>\n",
       "    </tr>\n",
       "    <tr>\n",
       "      <th>205913</th>\n",
       "      <td>2015</td>\n",
       "      <td>Unintentional Injury</td>\n",
       "      <td>WY</td>\n",
       "      <td>8</td>\n",
       "      <td>8</td>\n",
       "      <td>Nonmetropolitan</td>\n",
       "      <td>259.0</td>\n",
       "      <td>400056.0</td>\n",
       "    </tr>\n",
       "  </tbody>\n",
       "</table>\n",
       "</div>"
      ],
      "text/plain": [
       "        Year        Cause of Death State FIPS Code  HHS Region  Age Range  \\\n",
       "205895  2015  Unintentional Injury              WY           8          6   \n",
       "205903  2015  Unintentional Injury              WY           8          7   \n",
       "205904  2015  Unintentional Injury              WY           8          7   \n",
       "205912  2015  Unintentional Injury              WY           8          8   \n",
       "205913  2015  Unintentional Injury              WY           8          8   \n",
       "\n",
       "               Locality  Observed Deaths  Population  \n",
       "205895  Nonmetropolitan            232.0    383497.0  \n",
       "205903     Metropolitan             90.0    172771.0  \n",
       "205904  Nonmetropolitan            246.0    393349.0  \n",
       "205912     Metropolitan             93.0    175787.0  \n",
       "205913  Nonmetropolitan            259.0    400056.0  "
      ]
     },
     "execution_count": 997,
     "metadata": {},
     "output_type": "execute_result"
    }
   ],
   "source": [
    "reduced_data.tail()"
   ]
  },
  {
   "cell_type": "code",
   "execution_count": 998,
   "metadata": {},
   "outputs": [
    {
     "data": {
      "text/plain": [
       "Year               0\n",
       "Cause of Death     0\n",
       "State FIPS Code    0\n",
       "HHS Region         0\n",
       "Age Range          0\n",
       "Locality           0\n",
       "Observed Deaths    0\n",
       "Population         0\n",
       "dtype: int64"
      ]
     },
     "execution_count": 998,
     "metadata": {},
     "output_type": "execute_result"
    }
   ],
   "source": [
    "reduced_data.isnull().sum()"
   ]
  },
  {
   "cell_type": "code",
   "execution_count": null,
   "metadata": {},
   "outputs": [],
   "source": []
  },
  {
   "cell_type": "code",
   "execution_count": 999,
   "metadata": {},
   "outputs": [
    {
     "name": "stdout",
     "output_type": "stream",
     "text": [
      "['Metropolitan']\n",
      "['Nonmetropolitan']\n"
     ]
    }
   ],
   "source": [
    "metropolitan_data = reduced_data[reduced_data['Locality'] == 'Metropolitan']\n",
    "nonMetropolitan_data = reduced_data[reduced_data['Locality'] == 'Nonmetropolitan']\n",
    "print(np.unique(metropolitan_data[\"Locality\"]))\n",
    "print(np.unique(nonMetropolitan_data[\"Locality\"]))"
   ]
  },
  {
   "cell_type": "code",
   "execution_count": 1000,
   "metadata": {},
   "outputs": [
    {
     "name": "stdout",
     "output_type": "stream",
     "text": [
      "Year               0\n",
      "Cause of Death     0\n",
      "State FIPS Code    0\n",
      "HHS Region         0\n",
      "Age Range          0\n",
      "Locality           0\n",
      "Observed Deaths    0\n",
      "Population         0\n",
      "dtype: int64\n",
      "Year               0\n",
      "Cause of Death     0\n",
      "State FIPS Code    0\n",
      "HHS Region         0\n",
      "Age Range          0\n",
      "Locality           0\n",
      "Observed Deaths    0\n",
      "Population         0\n",
      "dtype: int64\n"
     ]
    }
   ],
   "source": [
    "print(metropolitan_data.isnull().sum())\n",
    "print(nonMetropolitan_data.isnull().sum())"
   ]
  },
  {
   "cell_type": "code",
   "execution_count": null,
   "metadata": {},
   "outputs": [],
   "source": []
  },
  {
   "cell_type": "code",
   "execution_count": 1001,
   "metadata": {},
   "outputs": [
    {
     "name": "stdout",
     "output_type": "stream",
     "text": [
      "0\n",
      "8\n",
      "16\n"
     ]
    }
   ],
   "source": [
    "for i in range(0, 20, 8):\n",
    "    print(i)"
   ]
  },
  {
   "cell_type": "code",
   "execution_count": 1002,
   "metadata": {},
   "outputs": [],
   "source": [
    "def adjust_numbers_by_age(data):\n",
    "    \n",
    "    '''Ajust the value for Observed Deaths and Population based on the age group.\n",
    "       These values are cumulative summation in the original data. We will do cumulative\n",
    "       differentiation for getting the obeserved deaths and population for each age group.\n",
    "    '''\n",
    "    data = data.reset_index(drop=True)\n",
    "    m = data.shape[0]\n",
    "    tmp = data\n",
    "    holder_1 = np.diff(data[\"Observed Deaths\"])\n",
    "    holder_2 = np.diff(data[\"Population\"])\n",
    "\n",
    "    for i in range(0, m):\n",
    "        if i == 0:\n",
    "            holder_1 = np.insert(holder_1, 0, tmp['Observed Deaths'][0])\n",
    "        elif data.loc[i]['Age Range'] == 1:\n",
    "            holder_1[i] =  tmp['Observed Deaths'][i]\n",
    "        else:\n",
    "            pass\n",
    "    \n",
    "    for i in range(0, m):\n",
    "        if i == 0:\n",
    "            holder_2 = np.insert(holder_2, 0, tmp['Population'][0])\n",
    "        elif data.loc[i]['Age Range'] == 1:\n",
    "            holder_2[i] =  tmp['Population'][i]\n",
    "        else:\n",
    "            pass\n",
    "    \n",
    "    data['Observed Deaths'] = holder_1\n",
    "    data['Population'] = holder_2\n",
    "    return data"
   ]
  },
  {
   "cell_type": "code",
   "execution_count": 1003,
   "metadata": {},
   "outputs": [],
   "source": [
    "metro_data = adjust_numbers_by_age(metropolitan_data)\n",
    "nonMetro_data = adjust_numbers_by_age(nonMetropolitan_data)"
   ]
  },
  {
   "cell_type": "code",
   "execution_count": 1004,
   "metadata": {},
   "outputs": [
    {
     "name": "stdout",
     "output_type": "stream",
     "text": [
      "Year               0\n",
      "Cause of Death     0\n",
      "State FIPS Code    0\n",
      "HHS Region         0\n",
      "Age Range          0\n",
      "Locality           0\n",
      "Observed Deaths    0\n",
      "Population         0\n",
      "dtype: int64\n",
      "Year               0\n",
      "Cause of Death     0\n",
      "State FIPS Code    0\n",
      "HHS Region         0\n",
      "Age Range          0\n",
      "Locality           0\n",
      "Observed Deaths    0\n",
      "Population         0\n",
      "dtype: int64\n"
     ]
    }
   ],
   "source": [
    "print(metro_data.isnull().sum())\n",
    "print(nonMetro_data.isnull().sum())"
   ]
  },
  {
   "cell_type": "code",
   "execution_count": 1005,
   "metadata": {
    "scrolled": true
   },
   "outputs": [
    {
     "name": "stdout",
     "output_type": "stream",
     "text": [
      "[ True]\n",
      "[ True]\n"
     ]
    }
   ],
   "source": [
    "tmp1_nonMetro = nonMetropolitan_data[nonMetropolitan_data['Age Range'] == 1]\n",
    "tmp2_nonMetro = nonMetro_data[nonMetro_data['Age Range'] == 1]\n",
    "print(np.unique(tmp1_nonMetro['Observed Deaths'].values == tmp2_nonMetro['Observed Deaths'].values))\n",
    "print(np.unique(tmp1_nonMetro['Population'].values == tmp2_nonMetro['Population'].values))"
   ]
  },
  {
   "cell_type": "code",
   "execution_count": 1006,
   "metadata": {},
   "outputs": [
    {
     "data": {
      "text/html": [
       "<div>\n",
       "<style>\n",
       "    .dataframe thead tr:only-child th {\n",
       "        text-align: right;\n",
       "    }\n",
       "\n",
       "    .dataframe thead th {\n",
       "        text-align: left;\n",
       "    }\n",
       "\n",
       "    .dataframe tbody tr th {\n",
       "        vertical-align: top;\n",
       "    }\n",
       "</style>\n",
       "<table border=\"1\" class=\"dataframe\">\n",
       "  <thead>\n",
       "    <tr style=\"text-align: right;\">\n",
       "      <th></th>\n",
       "      <th>Year</th>\n",
       "      <th>Cause of Death</th>\n",
       "      <th>State FIPS Code</th>\n",
       "      <th>HHS Region</th>\n",
       "      <th>Age Range</th>\n",
       "      <th>Locality</th>\n",
       "      <th>Observed Deaths</th>\n",
       "      <th>Population</th>\n",
       "    </tr>\n",
       "  </thead>\n",
       "  <tbody>\n",
       "    <tr>\n",
       "      <th>2</th>\n",
       "      <td>2005</td>\n",
       "      <td>Cancer</td>\n",
       "      <td>AL</td>\n",
       "      <td>4</td>\n",
       "      <td>1</td>\n",
       "      <td>Nonmetropolitan</td>\n",
       "      <td>200.0</td>\n",
       "      <td>768506.0</td>\n",
       "    </tr>\n",
       "    <tr>\n",
       "      <th>74</th>\n",
       "      <td>2005</td>\n",
       "      <td>Cancer</td>\n",
       "      <td>AK</td>\n",
       "      <td>10</td>\n",
       "      <td>1</td>\n",
       "      <td>Nonmetropolitan</td>\n",
       "      <td>26.0</td>\n",
       "      <td>165591.0</td>\n",
       "    </tr>\n",
       "    <tr>\n",
       "      <th>146</th>\n",
       "      <td>2005</td>\n",
       "      <td>Cancer</td>\n",
       "      <td>AZ</td>\n",
       "      <td>9</td>\n",
       "      <td>1</td>\n",
       "      <td>Nonmetropolitan</td>\n",
       "      <td>40.0</td>\n",
       "      <td>225141.0</td>\n",
       "    </tr>\n",
       "    <tr>\n",
       "      <th>218</th>\n",
       "      <td>2005</td>\n",
       "      <td>Cancer</td>\n",
       "      <td>AR</td>\n",
       "      <td>6</td>\n",
       "      <td>1</td>\n",
       "      <td>Nonmetropolitan</td>\n",
       "      <td>202.0</td>\n",
       "      <td>751511.0</td>\n",
       "    </tr>\n",
       "    <tr>\n",
       "      <th>290</th>\n",
       "      <td>2005</td>\n",
       "      <td>Cancer</td>\n",
       "      <td>CA</td>\n",
       "      <td>9</td>\n",
       "      <td>1</td>\n",
       "      <td>Nonmetropolitan</td>\n",
       "      <td>118.0</td>\n",
       "      <td>523354.0</td>\n",
       "    </tr>\n",
       "  </tbody>\n",
       "</table>\n",
       "</div>"
      ],
      "text/plain": [
       "     Year Cause of Death State FIPS Code  HHS Region  Age Range  \\\n",
       "2    2005         Cancer              AL           4          1   \n",
       "74   2005         Cancer              AK          10          1   \n",
       "146  2005         Cancer              AZ           9          1   \n",
       "218  2005         Cancer              AR           6          1   \n",
       "290  2005         Cancer              CA           9          1   \n",
       "\n",
       "            Locality  Observed Deaths  Population  \n",
       "2    Nonmetropolitan            200.0    768506.0  \n",
       "74   Nonmetropolitan             26.0    165591.0  \n",
       "146  Nonmetropolitan             40.0    225141.0  \n",
       "218  Nonmetropolitan            202.0    751511.0  \n",
       "290  Nonmetropolitan            118.0    523354.0  "
      ]
     },
     "execution_count": 1006,
     "metadata": {},
     "output_type": "execute_result"
    }
   ],
   "source": [
    "nonMetropolitan_data[nonMetropolitan_data['Age Range'] == 1].head()"
   ]
  },
  {
   "cell_type": "code",
   "execution_count": 1007,
   "metadata": {},
   "outputs": [
    {
     "data": {
      "text/html": [
       "<div>\n",
       "<style>\n",
       "    .dataframe thead tr:only-child th {\n",
       "        text-align: right;\n",
       "    }\n",
       "\n",
       "    .dataframe thead th {\n",
       "        text-align: left;\n",
       "    }\n",
       "\n",
       "    .dataframe tbody tr th {\n",
       "        vertical-align: top;\n",
       "    }\n",
       "</style>\n",
       "<table border=\"1\" class=\"dataframe\">\n",
       "  <thead>\n",
       "    <tr style=\"text-align: right;\">\n",
       "      <th></th>\n",
       "      <th>Year</th>\n",
       "      <th>Cause of Death</th>\n",
       "      <th>State FIPS Code</th>\n",
       "      <th>HHS Region</th>\n",
       "      <th>Age Range</th>\n",
       "      <th>Locality</th>\n",
       "      <th>Observed Deaths</th>\n",
       "      <th>Population</th>\n",
       "    </tr>\n",
       "  </thead>\n",
       "  <tbody>\n",
       "    <tr>\n",
       "      <th>0</th>\n",
       "      <td>2005</td>\n",
       "      <td>Cancer</td>\n",
       "      <td>AL</td>\n",
       "      <td>4</td>\n",
       "      <td>1</td>\n",
       "      <td>Nonmetropolitan</td>\n",
       "      <td>200.0</td>\n",
       "      <td>768506.0</td>\n",
       "    </tr>\n",
       "    <tr>\n",
       "      <th>8</th>\n",
       "      <td>2005</td>\n",
       "      <td>Cancer</td>\n",
       "      <td>AK</td>\n",
       "      <td>10</td>\n",
       "      <td>1</td>\n",
       "      <td>Nonmetropolitan</td>\n",
       "      <td>26.0</td>\n",
       "      <td>165591.0</td>\n",
       "    </tr>\n",
       "    <tr>\n",
       "      <th>16</th>\n",
       "      <td>2005</td>\n",
       "      <td>Cancer</td>\n",
       "      <td>AZ</td>\n",
       "      <td>9</td>\n",
       "      <td>1</td>\n",
       "      <td>Nonmetropolitan</td>\n",
       "      <td>40.0</td>\n",
       "      <td>225141.0</td>\n",
       "    </tr>\n",
       "    <tr>\n",
       "      <th>24</th>\n",
       "      <td>2005</td>\n",
       "      <td>Cancer</td>\n",
       "      <td>AR</td>\n",
       "      <td>6</td>\n",
       "      <td>1</td>\n",
       "      <td>Nonmetropolitan</td>\n",
       "      <td>202.0</td>\n",
       "      <td>751511.0</td>\n",
       "    </tr>\n",
       "    <tr>\n",
       "      <th>32</th>\n",
       "      <td>2005</td>\n",
       "      <td>Cancer</td>\n",
       "      <td>CA</td>\n",
       "      <td>9</td>\n",
       "      <td>1</td>\n",
       "      <td>Nonmetropolitan</td>\n",
       "      <td>118.0</td>\n",
       "      <td>523354.0</td>\n",
       "    </tr>\n",
       "  </tbody>\n",
       "</table>\n",
       "</div>"
      ],
      "text/plain": [
       "    Year Cause of Death State FIPS Code  HHS Region  Age Range  \\\n",
       "0   2005         Cancer              AL           4          1   \n",
       "8   2005         Cancer              AK          10          1   \n",
       "16  2005         Cancer              AZ           9          1   \n",
       "24  2005         Cancer              AR           6          1   \n",
       "32  2005         Cancer              CA           9          1   \n",
       "\n",
       "           Locality  Observed Deaths  Population  \n",
       "0   Nonmetropolitan            200.0    768506.0  \n",
       "8   Nonmetropolitan             26.0    165591.0  \n",
       "16  Nonmetropolitan             40.0    225141.0  \n",
       "24  Nonmetropolitan            202.0    751511.0  \n",
       "32  Nonmetropolitan            118.0    523354.0  "
      ]
     },
     "execution_count": 1007,
     "metadata": {},
     "output_type": "execute_result"
    }
   ],
   "source": [
    "nonMetro_data[nonMetro_data['Age Range'] == 1].head()"
   ]
  },
  {
   "cell_type": "code",
   "execution_count": 1008,
   "metadata": {},
   "outputs": [
    {
     "data": {
      "text/html": [
       "<div>\n",
       "<style>\n",
       "    .dataframe thead tr:only-child th {\n",
       "        text-align: right;\n",
       "    }\n",
       "\n",
       "    .dataframe thead th {\n",
       "        text-align: left;\n",
       "    }\n",
       "\n",
       "    .dataframe tbody tr th {\n",
       "        vertical-align: top;\n",
       "    }\n",
       "</style>\n",
       "<table border=\"1\" class=\"dataframe\">\n",
       "  <thead>\n",
       "    <tr style=\"text-align: right;\">\n",
       "      <th></th>\n",
       "      <th>Year</th>\n",
       "      <th>HHS Region</th>\n",
       "      <th>Age Range</th>\n",
       "      <th>Observed Deaths</th>\n",
       "      <th>Population</th>\n",
       "    </tr>\n",
       "  </thead>\n",
       "  <tbody>\n",
       "    <tr>\n",
       "      <th>count</th>\n",
       "      <td>22880.000000</td>\n",
       "      <td>22880.000000</td>\n",
       "      <td>22880.000000</td>\n",
       "      <td>22880.000000</td>\n",
       "      <td>2.288000e+04</td>\n",
       "    </tr>\n",
       "    <tr>\n",
       "      <th>mean</th>\n",
       "      <td>2010.000000</td>\n",
       "      <td>5.230769</td>\n",
       "      <td>4.500000</td>\n",
       "      <td>880.255201</td>\n",
       "      <td>1.241340e+06</td>\n",
       "    </tr>\n",
       "    <tr>\n",
       "      <th>std</th>\n",
       "      <td>3.162347</td>\n",
       "      <td>2.798518</td>\n",
       "      <td>2.291338</td>\n",
       "      <td>4332.754690</td>\n",
       "      <td>9.130991e+06</td>\n",
       "    </tr>\n",
       "    <tr>\n",
       "      <th>min</th>\n",
       "      <td>2005.000000</td>\n",
       "      <td>0.000000</td>\n",
       "      <td>1.000000</td>\n",
       "      <td>-10325.000000</td>\n",
       "      <td>-1.415838e+07</td>\n",
       "    </tr>\n",
       "    <tr>\n",
       "      <th>25%</th>\n",
       "      <td>2007.000000</td>\n",
       "      <td>3.000000</td>\n",
       "      <td>2.750000</td>\n",
       "      <td>50.000000</td>\n",
       "      <td>5.223600e+04</td>\n",
       "    </tr>\n",
       "    <tr>\n",
       "      <th>50%</th>\n",
       "      <td>2010.000000</td>\n",
       "      <td>5.000000</td>\n",
       "      <td>4.500000</td>\n",
       "      <td>156.000000</td>\n",
       "      <td>1.416350e+05</td>\n",
       "    </tr>\n",
       "    <tr>\n",
       "      <th>75%</th>\n",
       "      <td>2013.000000</td>\n",
       "      <td>8.000000</td>\n",
       "      <td>6.250000</td>\n",
       "      <td>518.250000</td>\n",
       "      <td>4.166980e+05</td>\n",
       "    </tr>\n",
       "    <tr>\n",
       "      <th>max</th>\n",
       "      <td>2015.000000</td>\n",
       "      <td>10.000000</td>\n",
       "      <td>8.000000</td>\n",
       "      <td>89016.000000</td>\n",
       "      <td>1.824058e+08</td>\n",
       "    </tr>\n",
       "  </tbody>\n",
       "</table>\n",
       "</div>"
      ],
      "text/plain": [
       "               Year    HHS Region     Age Range  Observed Deaths    Population\n",
       "count  22880.000000  22880.000000  22880.000000     22880.000000  2.288000e+04\n",
       "mean    2010.000000      5.230769      4.500000       880.255201  1.241340e+06\n",
       "std        3.162347      2.798518      2.291338      4332.754690  9.130991e+06\n",
       "min     2005.000000      0.000000      1.000000    -10325.000000 -1.415838e+07\n",
       "25%     2007.000000      3.000000      2.750000        50.000000  5.223600e+04\n",
       "50%     2010.000000      5.000000      4.500000       156.000000  1.416350e+05\n",
       "75%     2013.000000      8.000000      6.250000       518.250000  4.166980e+05\n",
       "max     2015.000000     10.000000      8.000000     89016.000000  1.824058e+08"
      ]
     },
     "execution_count": 1008,
     "metadata": {},
     "output_type": "execute_result"
    }
   ],
   "source": [
    "metro_data.describe()"
   ]
  },
  {
   "cell_type": "code",
   "execution_count": 1009,
   "metadata": {},
   "outputs": [
    {
     "data": {
      "text/html": [
       "<div>\n",
       "<style>\n",
       "    .dataframe thead tr:only-child th {\n",
       "        text-align: right;\n",
       "    }\n",
       "\n",
       "    .dataframe thead th {\n",
       "        text-align: left;\n",
       "    }\n",
       "\n",
       "    .dataframe tbody tr th {\n",
       "        vertical-align: top;\n",
       "    }\n",
       "</style>\n",
       "<table border=\"1\" class=\"dataframe\">\n",
       "  <thead>\n",
       "    <tr style=\"text-align: right;\">\n",
       "      <th></th>\n",
       "      <th>Year</th>\n",
       "      <th>HHS Region</th>\n",
       "      <th>Age Range</th>\n",
       "      <th>Observed Deaths</th>\n",
       "      <th>Population</th>\n",
       "    </tr>\n",
       "  </thead>\n",
       "  <tbody>\n",
       "    <tr>\n",
       "      <th>count</th>\n",
       "      <td>22880.000000</td>\n",
       "      <td>22880.000000</td>\n",
       "      <td>22880.000000</td>\n",
       "      <td>22880.000000</td>\n",
       "      <td>2.288000e+04</td>\n",
       "    </tr>\n",
       "    <tr>\n",
       "      <th>mean</th>\n",
       "      <td>2010.000000</td>\n",
       "      <td>5.230769</td>\n",
       "      <td>4.500000</td>\n",
       "      <td>238.933086</td>\n",
       "      <td>2.437149e+05</td>\n",
       "    </tr>\n",
       "    <tr>\n",
       "      <th>std</th>\n",
       "      <td>3.162347</td>\n",
       "      <td>2.798518</td>\n",
       "      <td>2.291338</td>\n",
       "      <td>1103.466761</td>\n",
       "      <td>2.680058e+06</td>\n",
       "    </tr>\n",
       "    <tr>\n",
       "      <th>min</th>\n",
       "      <td>2005.000000</td>\n",
       "      <td>0.000000</td>\n",
       "      <td>1.000000</td>\n",
       "      <td>-21202.000000</td>\n",
       "      <td>-2.363753e+08</td>\n",
       "    </tr>\n",
       "    <tr>\n",
       "      <th>25%</th>\n",
       "      <td>2007.000000</td>\n",
       "      <td>3.000000</td>\n",
       "      <td>2.750000</td>\n",
       "      <td>24.000000</td>\n",
       "      <td>2.208800e+04</td>\n",
       "    </tr>\n",
       "    <tr>\n",
       "      <th>50%</th>\n",
       "      <td>2010.000000</td>\n",
       "      <td>5.000000</td>\n",
       "      <td>4.500000</td>\n",
       "      <td>61.000000</td>\n",
       "      <td>4.770050e+04</td>\n",
       "    </tr>\n",
       "    <tr>\n",
       "      <th>75%</th>\n",
       "      <td>2013.000000</td>\n",
       "      <td>8.000000</td>\n",
       "      <td>6.250000</td>\n",
       "      <td>177.000000</td>\n",
       "      <td>9.858400e+04</td>\n",
       "    </tr>\n",
       "    <tr>\n",
       "      <th>max</th>\n",
       "      <td>2015.000000</td>\n",
       "      <td>10.000000</td>\n",
       "      <td>8.000000</td>\n",
       "      <td>25569.000000</td>\n",
       "      <td>2.381185e+08</td>\n",
       "    </tr>\n",
       "  </tbody>\n",
       "</table>\n",
       "</div>"
      ],
      "text/plain": [
       "               Year    HHS Region     Age Range  Observed Deaths    Population\n",
       "count  22880.000000  22880.000000  22880.000000     22880.000000  2.288000e+04\n",
       "mean    2010.000000      5.230769      4.500000       238.933086  2.437149e+05\n",
       "std        3.162347      2.798518      2.291338      1103.466761  2.680058e+06\n",
       "min     2005.000000      0.000000      1.000000    -21202.000000 -2.363753e+08\n",
       "25%     2007.000000      3.000000      2.750000        24.000000  2.208800e+04\n",
       "50%     2010.000000      5.000000      4.500000        61.000000  4.770050e+04\n",
       "75%     2013.000000      8.000000      6.250000       177.000000  9.858400e+04\n",
       "max     2015.000000     10.000000      8.000000     25569.000000  2.381185e+08"
      ]
     },
     "execution_count": 1009,
     "metadata": {},
     "output_type": "execute_result"
    }
   ],
   "source": [
    "nonMetro_data.describe()"
   ]
  },
  {
   "cell_type": "code",
   "execution_count": 1010,
   "metadata": {},
   "outputs": [
    {
     "data": {
      "text/plain": [
       "array([ True], dtype=bool)"
      ]
     },
     "execution_count": 1010,
     "metadata": {},
     "output_type": "execute_result"
    }
   ],
   "source": [
    "np.unique(tmp1_nonMetro.values == tmp2_nonMetro.values)"
   ]
  },
  {
   "cell_type": "markdown",
   "metadata": {},
   "source": [
    "<h3>Drop the sample whose Obserserved Deaths or Population values are nagative</h3>"
   ]
  },
  {
   "cell_type": "code",
   "execution_count": null,
   "metadata": {},
   "outputs": [],
   "source": []
  },
  {
   "cell_type": "code",
   "execution_count": 1011,
   "metadata": {},
   "outputs": [],
   "source": [
    "metro_data = metro_data.drop(metro_data[(metro_data['Observed Deaths'] < 0) | (metro_data['Population'] < 0)].index)\n",
    "nonMetro_data = nonMetro_data.drop(nonMetro_data[(nonMetro_data['Observed Deaths'] < 0) | (nonMetro_data['Population'] < 0)].index)"
   ]
  },
  {
   "cell_type": "code",
   "execution_count": 1012,
   "metadata": {},
   "outputs": [
    {
     "name": "stdout",
     "output_type": "stream",
     "text": [
      "total_deaths & Population for metro: \t 20246446.0 28437018968.0\n",
      "total_deaths & Population for nonMetro:\t 5648082.0 5648082.0\n"
     ]
    }
   ],
   "source": [
    "metro_total_deaths = metro_data[\"Observed Deaths\"].sum()\n",
    "metro_total_population = metro_data['Population'].sum()\n",
    "print(\"total_deaths & Population for metro: \\t\", metro_total_deaths, metro_total_population)\n",
    "nonMetro_total_deaths = nonMetro_data[\"Observed Deaths\"].sum()\n",
    "nonMetro_total_population = metro_data['Population'].sum()\n",
    "print(\"total_deaths & Population for nonMetro:\\t\", nonMetro_total_deaths, nonMetro_total_deaths)"
   ]
  },
  {
   "cell_type": "code",
   "execution_count": null,
   "metadata": {},
   "outputs": [],
   "source": []
  },
  {
   "cell_type": "markdown",
   "metadata": {},
   "source": [
    "<h3>Calculate percentage of death rates</h3>\n",
    "<p>We calcuate death rates since population of metropolitatn area is much larger than than that of nonmetropolitatn area. It is hard to compare the death rates when it is measured in the number of deaths.</p>"
   ]
  },
  {
   "cell_type": "code",
   "execution_count": 1013,
   "metadata": {},
   "outputs": [],
   "source": [
    "def to_percentage(data):\n",
    "    '''Create a feature called \"Percentage Deaths\". \n",
    "       Also drop the Observed Deaths and Population.\n",
    "    '''\n",
    "    newData = data.copy()\n",
    "    newData['Percentage Deaths'] = (newData['Observed Deaths']) /  newData['Population'] \n",
    "    newData =  newData.drop(['Observed Deaths', 'Population'], axis=1)\n",
    "    return  newData"
   ]
  },
  {
   "cell_type": "code",
   "execution_count": 1014,
   "metadata": {},
   "outputs": [],
   "source": [
    "metro_reduced = to_percentage(metro_data)\n",
    "nonMetro_reduced = to_percentage(nonMetro_data)"
   ]
  },
  {
   "cell_type": "code",
   "execution_count": 1015,
   "metadata": {},
   "outputs": [
    {
     "data": {
      "text/plain": [
       "Year                 0\n",
       "Cause of Death       0\n",
       "State FIPS Code      0\n",
       "HHS Region           0\n",
       "Age Range            0\n",
       "Locality             0\n",
       "Percentage Deaths    0\n",
       "dtype: int64"
      ]
     },
     "execution_count": 1015,
     "metadata": {},
     "output_type": "execute_result"
    }
   ],
   "source": [
    "metro_reduced.isnull().sum()"
   ]
  },
  {
   "cell_type": "code",
   "execution_count": 1016,
   "metadata": {},
   "outputs": [
    {
     "data": {
      "text/plain": [
       "Year                 0\n",
       "Cause of Death       0\n",
       "State FIPS Code      0\n",
       "HHS Region           0\n",
       "Age Range            0\n",
       "Locality             0\n",
       "Percentage Deaths    7\n",
       "dtype: int64"
      ]
     },
     "execution_count": 1016,
     "metadata": {},
     "output_type": "execute_result"
    }
   ],
   "source": [
    "nonMetro_reduced.isnull().sum()"
   ]
  },
  {
   "cell_type": "code",
   "execution_count": 1017,
   "metadata": {},
   "outputs": [
    {
     "name": "stdout",
     "output_type": "stream",
     "text": [
      "Int64Index([2573, 4045, 5841, 6179, 10223, 14376, 18318], dtype='int64') 7\n"
     ]
    }
   ],
   "source": [
    "nullIndex = nonMetro_reduced[nonMetro_reduced['Percentage Deaths'].isnull()].index\n",
    "print(nullIndex, len(nullIndex))"
   ]
  },
  {
   "cell_type": "code",
   "execution_count": 1018,
   "metadata": {},
   "outputs": [
    {
     "data": {
      "text/html": [
       "<div>\n",
       "<style>\n",
       "    .dataframe thead tr:only-child th {\n",
       "        text-align: right;\n",
       "    }\n",
       "\n",
       "    .dataframe thead th {\n",
       "        text-align: left;\n",
       "    }\n",
       "\n",
       "    .dataframe tbody tr th {\n",
       "        vertical-align: top;\n",
       "    }\n",
       "</style>\n",
       "<table border=\"1\" class=\"dataframe\">\n",
       "  <thead>\n",
       "    <tr style=\"text-align: right;\">\n",
       "      <th></th>\n",
       "      <th>Year</th>\n",
       "      <th>Cause of Death</th>\n",
       "      <th>State FIPS Code</th>\n",
       "      <th>HHS Region</th>\n",
       "      <th>Age Range</th>\n",
       "      <th>Locality</th>\n",
       "      <th>Observed Deaths</th>\n",
       "      <th>Population</th>\n",
       "    </tr>\n",
       "  </thead>\n",
       "  <tbody>\n",
       "    <tr>\n",
       "      <th>2573</th>\n",
       "      <td>2006</td>\n",
       "      <td>Heart Disease</td>\n",
       "      <td>NJ</td>\n",
       "      <td>2</td>\n",
       "      <td>8</td>\n",
       "      <td>Nonmetropolitan</td>\n",
       "      <td>0.0</td>\n",
       "      <td>0.0</td>\n",
       "    </tr>\n",
       "    <tr>\n",
       "      <th>4045</th>\n",
       "      <td>2007</td>\n",
       "      <td>Cancer</td>\n",
       "      <td>DE</td>\n",
       "      <td>3</td>\n",
       "      <td>2</td>\n",
       "      <td>Nonmetropolitan</td>\n",
       "      <td>0.0</td>\n",
       "      <td>0.0</td>\n",
       "    </tr>\n",
       "    <tr>\n",
       "      <th>5841</th>\n",
       "      <td>2007</td>\n",
       "      <td>Unintentional Injury</td>\n",
       "      <td>DE</td>\n",
       "      <td>3</td>\n",
       "      <td>3</td>\n",
       "      <td>Nonmetropolitan</td>\n",
       "      <td>0.0</td>\n",
       "      <td>0.0</td>\n",
       "    </tr>\n",
       "    <tr>\n",
       "      <th>6179</th>\n",
       "      <td>2008</td>\n",
       "      <td>Cancer</td>\n",
       "      <td>DC</td>\n",
       "      <td>3</td>\n",
       "      <td>4</td>\n",
       "      <td>Nonmetropolitan</td>\n",
       "      <td>0.0</td>\n",
       "      <td>0.0</td>\n",
       "    </tr>\n",
       "    <tr>\n",
       "      <th>10223</th>\n",
       "      <td>2010</td>\n",
       "      <td>Cancer</td>\n",
       "      <td>DC</td>\n",
       "      <td>3</td>\n",
       "      <td>4</td>\n",
       "      <td>Nonmetropolitan</td>\n",
       "      <td>0.0</td>\n",
       "      <td>0.0</td>\n",
       "    </tr>\n",
       "    <tr>\n",
       "      <th>14376</th>\n",
       "      <td>2012</td>\n",
       "      <td>Cancer</td>\n",
       "      <td>DC</td>\n",
       "      <td>3</td>\n",
       "      <td>4</td>\n",
       "      <td>Nonmetropolitan</td>\n",
       "      <td>0.0</td>\n",
       "      <td>0.0</td>\n",
       "    </tr>\n",
       "    <tr>\n",
       "      <th>18318</th>\n",
       "      <td>2013</td>\n",
       "      <td>Unintentional Injury</td>\n",
       "      <td>RI</td>\n",
       "      <td>1</td>\n",
       "      <td>3</td>\n",
       "      <td>Nonmetropolitan</td>\n",
       "      <td>0.0</td>\n",
       "      <td>0.0</td>\n",
       "    </tr>\n",
       "  </tbody>\n",
       "</table>\n",
       "</div>"
      ],
      "text/plain": [
       "       Year        Cause of Death State FIPS Code  HHS Region  Age Range  \\\n",
       "2573   2006         Heart Disease              NJ           2          8   \n",
       "4045   2007                Cancer              DE           3          2   \n",
       "5841   2007  Unintentional Injury              DE           3          3   \n",
       "6179   2008                Cancer              DC           3          4   \n",
       "10223  2010                Cancer              DC           3          4   \n",
       "14376  2012                Cancer              DC           3          4   \n",
       "18318  2013  Unintentional Injury              RI           1          3   \n",
       "\n",
       "              Locality  Observed Deaths  Population  \n",
       "2573   Nonmetropolitan              0.0         0.0  \n",
       "4045   Nonmetropolitan              0.0         0.0  \n",
       "5841   Nonmetropolitan              0.0         0.0  \n",
       "6179   Nonmetropolitan              0.0         0.0  \n",
       "10223  Nonmetropolitan              0.0         0.0  \n",
       "14376  Nonmetropolitan              0.0         0.0  \n",
       "18318  Nonmetropolitan              0.0         0.0  "
      ]
     },
     "execution_count": 1018,
     "metadata": {},
     "output_type": "execute_result"
    }
   ],
   "source": [
    "nonMetro_data.loc[nullIndex]"
   ]
  },
  {
   "cell_type": "markdown",
   "metadata": {},
   "source": [
    "<h3>There are NaN because value of Observed Deaths is divided by 0 Population.</h3>"
   ]
  },
  {
   "cell_type": "code",
   "execution_count": 1019,
   "metadata": {},
   "outputs": [
    {
     "data": {
      "text/html": [
       "<div>\n",
       "<style>\n",
       "    .dataframe thead tr:only-child th {\n",
       "        text-align: right;\n",
       "    }\n",
       "\n",
       "    .dataframe thead th {\n",
       "        text-align: left;\n",
       "    }\n",
       "\n",
       "    .dataframe tbody tr th {\n",
       "        vertical-align: top;\n",
       "    }\n",
       "</style>\n",
       "<table border=\"1\" class=\"dataframe\">\n",
       "  <thead>\n",
       "    <tr style=\"text-align: right;\">\n",
       "      <th></th>\n",
       "      <th>Year</th>\n",
       "      <th>Cause of Death</th>\n",
       "      <th>State FIPS Code</th>\n",
       "      <th>HHS Region</th>\n",
       "      <th>Age Range</th>\n",
       "      <th>Locality</th>\n",
       "      <th>Percentage Deaths</th>\n",
       "    </tr>\n",
       "  </thead>\n",
       "  <tbody>\n",
       "    <tr>\n",
       "      <th>2573</th>\n",
       "      <td>2006</td>\n",
       "      <td>Heart Disease</td>\n",
       "      <td>NJ</td>\n",
       "      <td>2</td>\n",
       "      <td>8</td>\n",
       "      <td>Nonmetropolitan</td>\n",
       "      <td>NaN</td>\n",
       "    </tr>\n",
       "    <tr>\n",
       "      <th>4045</th>\n",
       "      <td>2007</td>\n",
       "      <td>Cancer</td>\n",
       "      <td>DE</td>\n",
       "      <td>3</td>\n",
       "      <td>2</td>\n",
       "      <td>Nonmetropolitan</td>\n",
       "      <td>NaN</td>\n",
       "    </tr>\n",
       "    <tr>\n",
       "      <th>5841</th>\n",
       "      <td>2007</td>\n",
       "      <td>Unintentional Injury</td>\n",
       "      <td>DE</td>\n",
       "      <td>3</td>\n",
       "      <td>3</td>\n",
       "      <td>Nonmetropolitan</td>\n",
       "      <td>NaN</td>\n",
       "    </tr>\n",
       "    <tr>\n",
       "      <th>6179</th>\n",
       "      <td>2008</td>\n",
       "      <td>Cancer</td>\n",
       "      <td>DC</td>\n",
       "      <td>3</td>\n",
       "      <td>4</td>\n",
       "      <td>Nonmetropolitan</td>\n",
       "      <td>NaN</td>\n",
       "    </tr>\n",
       "    <tr>\n",
       "      <th>10223</th>\n",
       "      <td>2010</td>\n",
       "      <td>Cancer</td>\n",
       "      <td>DC</td>\n",
       "      <td>3</td>\n",
       "      <td>4</td>\n",
       "      <td>Nonmetropolitan</td>\n",
       "      <td>NaN</td>\n",
       "    </tr>\n",
       "    <tr>\n",
       "      <th>14376</th>\n",
       "      <td>2012</td>\n",
       "      <td>Cancer</td>\n",
       "      <td>DC</td>\n",
       "      <td>3</td>\n",
       "      <td>4</td>\n",
       "      <td>Nonmetropolitan</td>\n",
       "      <td>NaN</td>\n",
       "    </tr>\n",
       "    <tr>\n",
       "      <th>18318</th>\n",
       "      <td>2013</td>\n",
       "      <td>Unintentional Injury</td>\n",
       "      <td>RI</td>\n",
       "      <td>1</td>\n",
       "      <td>3</td>\n",
       "      <td>Nonmetropolitan</td>\n",
       "      <td>NaN</td>\n",
       "    </tr>\n",
       "  </tbody>\n",
       "</table>\n",
       "</div>"
      ],
      "text/plain": [
       "       Year        Cause of Death State FIPS Code  HHS Region  Age Range  \\\n",
       "2573   2006         Heart Disease              NJ           2          8   \n",
       "4045   2007                Cancer              DE           3          2   \n",
       "5841   2007  Unintentional Injury              DE           3          3   \n",
       "6179   2008                Cancer              DC           3          4   \n",
       "10223  2010                Cancer              DC           3          4   \n",
       "14376  2012                Cancer              DC           3          4   \n",
       "18318  2013  Unintentional Injury              RI           1          3   \n",
       "\n",
       "              Locality  Percentage Deaths  \n",
       "2573   Nonmetropolitan                NaN  \n",
       "4045   Nonmetropolitan                NaN  \n",
       "5841   Nonmetropolitan                NaN  \n",
       "6179   Nonmetropolitan                NaN  \n",
       "10223  Nonmetropolitan                NaN  \n",
       "14376  Nonmetropolitan                NaN  \n",
       "18318  Nonmetropolitan                NaN  "
      ]
     },
     "execution_count": 1019,
     "metadata": {},
     "output_type": "execute_result"
    }
   ],
   "source": [
    "nonMetro_reduced.loc[nullIndex]"
   ]
  },
  {
   "cell_type": "code",
   "execution_count": 1020,
   "metadata": {},
   "outputs": [
    {
     "data": {
      "text/plain": [
       "(22318, 7)"
      ]
     },
     "execution_count": 1020,
     "metadata": {},
     "output_type": "execute_result"
    }
   ],
   "source": [
    "nonMetro_reduced.shape"
   ]
  },
  {
   "cell_type": "markdown",
   "metadata": {},
   "source": [
    "<h3>Drop the rows whose Percentage Deaths is NaN since there is no population and there is no point in retaining them as useful data</h3>"
   ]
  },
  {
   "cell_type": "code",
   "execution_count": null,
   "metadata": {},
   "outputs": [],
   "source": []
  },
  {
   "cell_type": "code",
   "execution_count": 1021,
   "metadata": {},
   "outputs": [
    {
     "data": {
      "text/html": [
       "<div>\n",
       "<style>\n",
       "    .dataframe thead tr:only-child th {\n",
       "        text-align: right;\n",
       "    }\n",
       "\n",
       "    .dataframe thead th {\n",
       "        text-align: left;\n",
       "    }\n",
       "\n",
       "    .dataframe tbody tr th {\n",
       "        vertical-align: top;\n",
       "    }\n",
       "</style>\n",
       "<table border=\"1\" class=\"dataframe\">\n",
       "  <thead>\n",
       "    <tr style=\"text-align: right;\">\n",
       "      <th></th>\n",
       "      <th>Year</th>\n",
       "      <th>Cause of Death</th>\n",
       "      <th>State FIPS Code</th>\n",
       "      <th>HHS Region</th>\n",
       "      <th>Age Range</th>\n",
       "      <th>Locality</th>\n",
       "      <th>Percentage Deaths</th>\n",
       "    </tr>\n",
       "  </thead>\n",
       "  <tbody>\n",
       "    <tr>\n",
       "      <th>2573</th>\n",
       "      <td>2006</td>\n",
       "      <td>Heart Disease</td>\n",
       "      <td>NJ</td>\n",
       "      <td>2</td>\n",
       "      <td>8</td>\n",
       "      <td>Nonmetropolitan</td>\n",
       "      <td>NaN</td>\n",
       "    </tr>\n",
       "    <tr>\n",
       "      <th>4045</th>\n",
       "      <td>2007</td>\n",
       "      <td>Cancer</td>\n",
       "      <td>DE</td>\n",
       "      <td>3</td>\n",
       "      <td>2</td>\n",
       "      <td>Nonmetropolitan</td>\n",
       "      <td>NaN</td>\n",
       "    </tr>\n",
       "    <tr>\n",
       "      <th>5841</th>\n",
       "      <td>2007</td>\n",
       "      <td>Unintentional Injury</td>\n",
       "      <td>DE</td>\n",
       "      <td>3</td>\n",
       "      <td>3</td>\n",
       "      <td>Nonmetropolitan</td>\n",
       "      <td>NaN</td>\n",
       "    </tr>\n",
       "    <tr>\n",
       "      <th>6179</th>\n",
       "      <td>2008</td>\n",
       "      <td>Cancer</td>\n",
       "      <td>DC</td>\n",
       "      <td>3</td>\n",
       "      <td>4</td>\n",
       "      <td>Nonmetropolitan</td>\n",
       "      <td>NaN</td>\n",
       "    </tr>\n",
       "    <tr>\n",
       "      <th>10223</th>\n",
       "      <td>2010</td>\n",
       "      <td>Cancer</td>\n",
       "      <td>DC</td>\n",
       "      <td>3</td>\n",
       "      <td>4</td>\n",
       "      <td>Nonmetropolitan</td>\n",
       "      <td>NaN</td>\n",
       "    </tr>\n",
       "    <tr>\n",
       "      <th>14376</th>\n",
       "      <td>2012</td>\n",
       "      <td>Cancer</td>\n",
       "      <td>DC</td>\n",
       "      <td>3</td>\n",
       "      <td>4</td>\n",
       "      <td>Nonmetropolitan</td>\n",
       "      <td>NaN</td>\n",
       "    </tr>\n",
       "    <tr>\n",
       "      <th>18318</th>\n",
       "      <td>2013</td>\n",
       "      <td>Unintentional Injury</td>\n",
       "      <td>RI</td>\n",
       "      <td>1</td>\n",
       "      <td>3</td>\n",
       "      <td>Nonmetropolitan</td>\n",
       "      <td>NaN</td>\n",
       "    </tr>\n",
       "  </tbody>\n",
       "</table>\n",
       "</div>"
      ],
      "text/plain": [
       "       Year        Cause of Death State FIPS Code  HHS Region  Age Range  \\\n",
       "2573   2006         Heart Disease              NJ           2          8   \n",
       "4045   2007                Cancer              DE           3          2   \n",
       "5841   2007  Unintentional Injury              DE           3          3   \n",
       "6179   2008                Cancer              DC           3          4   \n",
       "10223  2010                Cancer              DC           3          4   \n",
       "14376  2012                Cancer              DC           3          4   \n",
       "18318  2013  Unintentional Injury              RI           1          3   \n",
       "\n",
       "              Locality  Percentage Deaths  \n",
       "2573   Nonmetropolitan                NaN  \n",
       "4045   Nonmetropolitan                NaN  \n",
       "5841   Nonmetropolitan                NaN  \n",
       "6179   Nonmetropolitan                NaN  \n",
       "10223  Nonmetropolitan                NaN  \n",
       "14376  Nonmetropolitan                NaN  \n",
       "18318  Nonmetropolitan                NaN  "
      ]
     },
     "execution_count": 1021,
     "metadata": {},
     "output_type": "execute_result"
    }
   ],
   "source": [
    "nonMetro_reduced.loc[nullIndex]"
   ]
  },
  {
   "cell_type": "code",
   "execution_count": 1022,
   "metadata": {},
   "outputs": [
    {
     "data": {
      "text/plain": [
       "Int64Index([2573, 4045, 5841, 6179, 10223, 14376, 18318], dtype='int64')"
      ]
     },
     "execution_count": 1022,
     "metadata": {},
     "output_type": "execute_result"
    }
   ],
   "source": [
    "nullIndex"
   ]
  },
  {
   "cell_type": "code",
   "execution_count": 1023,
   "metadata": {},
   "outputs": [
    {
     "data": {
      "text/plain": [
       "Int64Index([1, 3], dtype='int64')"
      ]
     },
     "execution_count": 1023,
     "metadata": {},
     "output_type": "execute_result"
    }
   ],
   "source": [
    "nonMetro_reduced.index[[1,3]]"
   ]
  },
  {
   "cell_type": "code",
   "execution_count": 1024,
   "metadata": {},
   "outputs": [
    {
     "data": {
      "text/plain": [
       "pandas.core.frame.DataFrame"
      ]
     },
     "execution_count": 1024,
     "metadata": {},
     "output_type": "execute_result"
    }
   ],
   "source": [
    "type(nonMetro_reduced)"
   ]
  },
  {
   "cell_type": "code",
   "execution_count": 1025,
   "metadata": {
    "scrolled": false
   },
   "outputs": [],
   "source": [
    "nonMetro_reduced.dropna(inplace=True)"
   ]
  },
  {
   "cell_type": "code",
   "execution_count": 1026,
   "metadata": {},
   "outputs": [
    {
     "data": {
      "text/plain": [
       "Year                 0\n",
       "Cause of Death       0\n",
       "State FIPS Code      0\n",
       "HHS Region           0\n",
       "Age Range            0\n",
       "Locality             0\n",
       "Percentage Deaths    0\n",
       "dtype: int64"
      ]
     },
     "execution_count": 1026,
     "metadata": {},
     "output_type": "execute_result"
    }
   ],
   "source": [
    "nonMetro_reduced.isnull().sum()"
   ]
  },
  {
   "cell_type": "code",
   "execution_count": null,
   "metadata": {},
   "outputs": [],
   "source": []
  },
  {
   "cell_type": "code",
   "execution_count": 1027,
   "metadata": {},
   "outputs": [
    {
     "name": "stdout",
     "output_type": "stream",
     "text": [
      "(22311, 7)\n"
     ]
    }
   ],
   "source": [
    "print(nonMetro_reduced.shape)"
   ]
  },
  {
   "cell_type": "markdown",
   "metadata": {},
   "source": [
    "<h3>See the overall data for metro/non-metro data</h3>"
   ]
  },
  {
   "cell_type": "code",
   "execution_count": 1028,
   "metadata": {},
   "outputs": [
    {
     "data": {
      "text/html": [
       "<div>\n",
       "<style>\n",
       "    .dataframe thead tr:only-child th {\n",
       "        text-align: right;\n",
       "    }\n",
       "\n",
       "    .dataframe thead th {\n",
       "        text-align: left;\n",
       "    }\n",
       "\n",
       "    .dataframe tbody tr th {\n",
       "        vertical-align: top;\n",
       "    }\n",
       "</style>\n",
       "<table border=\"1\" class=\"dataframe\">\n",
       "  <thead>\n",
       "    <tr style=\"text-align: right;\">\n",
       "      <th></th>\n",
       "      <th>Year</th>\n",
       "      <th>HHS Region</th>\n",
       "      <th>Age Range</th>\n",
       "      <th>Percentage Deaths</th>\n",
       "    </tr>\n",
       "  </thead>\n",
       "  <tbody>\n",
       "    <tr>\n",
       "      <th>count</th>\n",
       "      <td>22584.000000</td>\n",
       "      <td>22584.000000</td>\n",
       "      <td>22584.000000</td>\n",
       "      <td>22584.000000</td>\n",
       "    </tr>\n",
       "    <tr>\n",
       "      <th>mean</th>\n",
       "      <td>2009.998539</td>\n",
       "      <td>5.226001</td>\n",
       "      <td>4.519748</td>\n",
       "      <td>0.002771</td>\n",
       "    </tr>\n",
       "    <tr>\n",
       "      <th>std</th>\n",
       "      <td>3.162130</td>\n",
       "      <td>2.788541</td>\n",
       "      <td>2.294537</td>\n",
       "      <td>0.003817</td>\n",
       "    </tr>\n",
       "    <tr>\n",
       "      <th>min</th>\n",
       "      <td>2005.000000</td>\n",
       "      <td>0.000000</td>\n",
       "      <td>1.000000</td>\n",
       "      <td>0.000000</td>\n",
       "    </tr>\n",
       "    <tr>\n",
       "      <th>25%</th>\n",
       "      <td>2007.000000</td>\n",
       "      <td>3.000000</td>\n",
       "      <td>3.000000</td>\n",
       "      <td>0.000350</td>\n",
       "    </tr>\n",
       "    <tr>\n",
       "      <th>50%</th>\n",
       "      <td>2010.000000</td>\n",
       "      <td>5.000000</td>\n",
       "      <td>5.000000</td>\n",
       "      <td>0.001148</td>\n",
       "    </tr>\n",
       "    <tr>\n",
       "      <th>75%</th>\n",
       "      <td>2013.000000</td>\n",
       "      <td>8.000000</td>\n",
       "      <td>7.000000</td>\n",
       "      <td>0.003574</td>\n",
       "    </tr>\n",
       "    <tr>\n",
       "      <th>max</th>\n",
       "      <td>2015.000000</td>\n",
       "      <td>10.000000</td>\n",
       "      <td>8.000000</td>\n",
       "      <td>0.025503</td>\n",
       "    </tr>\n",
       "  </tbody>\n",
       "</table>\n",
       "</div>"
      ],
      "text/plain": [
       "               Year    HHS Region     Age Range  Percentage Deaths\n",
       "count  22584.000000  22584.000000  22584.000000       22584.000000\n",
       "mean    2009.998539      5.226001      4.519748           0.002771\n",
       "std        3.162130      2.788541      2.294537           0.003817\n",
       "min     2005.000000      0.000000      1.000000           0.000000\n",
       "25%     2007.000000      3.000000      3.000000           0.000350\n",
       "50%     2010.000000      5.000000      5.000000           0.001148\n",
       "75%     2013.000000      8.000000      7.000000           0.003574\n",
       "max     2015.000000     10.000000      8.000000           0.025503"
      ]
     },
     "execution_count": 1028,
     "metadata": {},
     "output_type": "execute_result"
    }
   ],
   "source": [
    "metro_reduced.describe()"
   ]
  },
  {
   "cell_type": "code",
   "execution_count": 1029,
   "metadata": {},
   "outputs": [
    {
     "data": {
      "text/html": [
       "<div>\n",
       "<style>\n",
       "    .dataframe thead tr:only-child th {\n",
       "        text-align: right;\n",
       "    }\n",
       "\n",
       "    .dataframe thead th {\n",
       "        text-align: left;\n",
       "    }\n",
       "\n",
       "    .dataframe tbody tr th {\n",
       "        vertical-align: top;\n",
       "    }\n",
       "</style>\n",
       "<table border=\"1\" class=\"dataframe\">\n",
       "  <thead>\n",
       "    <tr style=\"text-align: right;\">\n",
       "      <th></th>\n",
       "      <th>Year</th>\n",
       "      <th>HHS Region</th>\n",
       "      <th>Age Range</th>\n",
       "      <th>Percentage Deaths</th>\n",
       "    </tr>\n",
       "  </thead>\n",
       "  <tbody>\n",
       "    <tr>\n",
       "      <th>count</th>\n",
       "      <td>22311.000000</td>\n",
       "      <td>22311.000000</td>\n",
       "      <td>22311.000000</td>\n",
       "      <td>22311.000000</td>\n",
       "    </tr>\n",
       "    <tr>\n",
       "      <th>mean</th>\n",
       "      <td>2009.997893</td>\n",
       "      <td>5.219354</td>\n",
       "      <td>4.539241</td>\n",
       "      <td>0.003092</td>\n",
       "    </tr>\n",
       "    <tr>\n",
       "      <th>std</th>\n",
       "      <td>3.162582</td>\n",
       "      <td>2.775917</td>\n",
       "      <td>2.297714</td>\n",
       "      <td>0.004428</td>\n",
       "    </tr>\n",
       "    <tr>\n",
       "      <th>min</th>\n",
       "      <td>2005.000000</td>\n",
       "      <td>0.000000</td>\n",
       "      <td>1.000000</td>\n",
       "      <td>0.000000</td>\n",
       "    </tr>\n",
       "    <tr>\n",
       "      <th>25%</th>\n",
       "      <td>2007.000000</td>\n",
       "      <td>3.000000</td>\n",
       "      <td>3.000000</td>\n",
       "      <td>0.000453</td>\n",
       "    </tr>\n",
       "    <tr>\n",
       "      <th>50%</th>\n",
       "      <td>2010.000000</td>\n",
       "      <td>5.000000</td>\n",
       "      <td>5.000000</td>\n",
       "      <td>0.001360</td>\n",
       "    </tr>\n",
       "    <tr>\n",
       "      <th>75%</th>\n",
       "      <td>2013.000000</td>\n",
       "      <td>8.000000</td>\n",
       "      <td>7.000000</td>\n",
       "      <td>0.004019</td>\n",
       "    </tr>\n",
       "    <tr>\n",
       "      <th>max</th>\n",
       "      <td>2015.000000</td>\n",
       "      <td>10.000000</td>\n",
       "      <td>8.000000</td>\n",
       "      <td>0.224219</td>\n",
       "    </tr>\n",
       "  </tbody>\n",
       "</table>\n",
       "</div>"
      ],
      "text/plain": [
       "               Year    HHS Region     Age Range  Percentage Deaths\n",
       "count  22311.000000  22311.000000  22311.000000       22311.000000\n",
       "mean    2009.997893      5.219354      4.539241           0.003092\n",
       "std        3.162582      2.775917      2.297714           0.004428\n",
       "min     2005.000000      0.000000      1.000000           0.000000\n",
       "25%     2007.000000      3.000000      3.000000           0.000453\n",
       "50%     2010.000000      5.000000      5.000000           0.001360\n",
       "75%     2013.000000      8.000000      7.000000           0.004019\n",
       "max     2015.000000     10.000000      8.000000           0.224219"
      ]
     },
     "execution_count": 1029,
     "metadata": {},
     "output_type": "execute_result"
    }
   ],
   "source": [
    "nonMetro_reduced.describe()"
   ]
  },
  {
   "cell_type": "code",
   "execution_count": null,
   "metadata": {},
   "outputs": [],
   "source": []
  },
  {
   "cell_type": "code",
   "execution_count": null,
   "metadata": {},
   "outputs": [],
   "source": []
  },
  {
   "cell_type": "markdown",
   "metadata": {},
   "source": [
    "<h3>Check correlation for each metro/non-metro data</h3>\n",
    "<p>There is some correlation between Age and Percentage Deaths in \"Metro Data\" and NonMetroplitan area</p>"
   ]
  },
  {
   "cell_type": "code",
   "execution_count": 1030,
   "metadata": {},
   "outputs": [
    {
     "data": {
      "text/plain": [
       "<matplotlib.axes._subplots.AxesSubplot at 0x1a31967780>"
      ]
     },
     "execution_count": 1030,
     "metadata": {},
     "output_type": "execute_result"
    },
    {
     "data": {
      "image/png": "[encoded data removed]",
      "text/plain": [
       "<matplotlib.figure.Figure at 0x1a3af90eb8>"
      ]
     },
     "metadata": {},
     "output_type": "display_data"
    }
   ],
   "source": [
    "sns.heatmap(metro_reduced.corr(), annot=True)"
   ]
  },
  {
   "cell_type": "code",
   "execution_count": 1031,
   "metadata": {},
   "outputs": [
    {
     "data": {
      "text/plain": [
       "<matplotlib.axes._subplots.AxesSubplot at 0x1a45587c18>"
      ]
     },
     "execution_count": 1031,
     "metadata": {},
     "output_type": "execute_result"
    },
    {
     "data": {
      "image/png": "[encoded data removed]",
      "text/plain": [
       "<matplotlib.figure.Figure at 0x1a31937a58>"
      ]
     },
     "metadata": {},
     "output_type": "display_data"
    }
   ],
   "source": [
    "sns.heatmap(nonMetro_reduced.corr(), annot=True)"
   ]
  },
  {
   "cell_type": "markdown",
   "metadata": {},
   "source": [
    "<p>Stack up the two data(merge the two data into a data)</p>"
   ]
  },
  {
   "cell_type": "code",
   "execution_count": 1032,
   "metadata": {},
   "outputs": [
    {
     "name": "stdout",
     "output_type": "stream",
     "text": [
      "(44895, 7)\n"
     ]
    }
   ],
   "source": [
    "stacked_data = metro_reduced.append(nonMetro_reduced)\n",
    "print(stacked_data.shape)"
   ]
  },
  {
   "cell_type": "code",
   "execution_count": 1033,
   "metadata": {},
   "outputs": [
    {
     "data": {
      "text/plain": [
       "<matplotlib.axes._subplots.AxesSubplot at 0x1a3b020cc0>"
      ]
     },
     "execution_count": 1033,
     "metadata": {},
     "output_type": "execute_result"
    },
    {
     "data": {
      "image/png": "[encoded data removed]",
      "text/plain": [
       "<matplotlib.figure.Figure at 0x1a3194d978>"
      ]
     },
     "metadata": {},
     "output_type": "display_data"
    }
   ],
   "source": [
    "sns.heatmap(stacked_data.corr(), annot=True)"
   ]
  },
  {
   "cell_type": "code",
   "execution_count": 1034,
   "metadata": {},
   "outputs": [],
   "source": [
    "stacked_data = stacked_data.reset_index(drop=True)"
   ]
  },
  {
   "cell_type": "markdown",
   "metadata": {},
   "source": [
    "<p>Check correlation betweetn age and death rate in detail</p>"
   ]
  },
  {
   "cell_type": "code",
   "execution_count": 1035,
   "metadata": {},
   "outputs": [
    {
     "data": {
      "image/png": "[encoded data removed]",
      "text/plain": [
       "<matplotlib.figure.Figure at 0x1a318d06d8>"
      ]
     },
     "metadata": {},
     "output_type": "display_data"
    }
   ],
   "source": [
    "with sns.axes_style('white'):\n",
    "    sns.jointplot(\"Age Range\", \"Percentage Deaths\",stacked_data, kind='reg')"
   ]
  },
  {
   "cell_type": "code",
   "execution_count": null,
   "metadata": {},
   "outputs": [],
   "source": []
  },
  {
   "cell_type": "code",
   "execution_count": null,
   "metadata": {},
   "outputs": [],
   "source": []
  },
  {
   "cell_type": "code",
   "execution_count": 1036,
   "metadata": {},
   "outputs": [
    {
     "data": {
      "text/plain": [
       "False"
      ]
     },
     "execution_count": 1036,
     "metadata": {},
     "output_type": "execute_result"
    }
   ],
   "source": [
    "stacked_data.isnull().values.any()"
   ]
  },
  {
   "cell_type": "code",
   "execution_count": 1037,
   "metadata": {},
   "outputs": [
    {
     "data": {
      "text/plain": [
       "Year                 0\n",
       "Cause of Death       0\n",
       "State FIPS Code      0\n",
       "HHS Region           0\n",
       "Age Range            0\n",
       "Locality             0\n",
       "Percentage Deaths    0\n",
       "dtype: int64"
      ]
     },
     "execution_count": 1037,
     "metadata": {},
     "output_type": "execute_result"
    }
   ],
   "source": [
    "stacked_data.isnull().sum()"
   ]
  },
  {
   "cell_type": "code",
   "execution_count": 1038,
   "metadata": {},
   "outputs": [
    {
     "data": {
      "text/plain": [
       "(44895, 7)"
      ]
     },
     "execution_count": 1038,
     "metadata": {},
     "output_type": "execute_result"
    }
   ],
   "source": [
    "stacked_data.shape"
   ]
  },
  {
   "cell_type": "code",
   "execution_count": null,
   "metadata": {},
   "outputs": [],
   "source": []
  },
  {
   "cell_type": "code",
   "execution_count": null,
   "metadata": {},
   "outputs": [],
   "source": []
  },
  {
   "cell_type": "code",
   "execution_count": 1039,
   "metadata": {
    "scrolled": false
   },
   "outputs": [
    {
     "data": {
      "image/png": "[encoded data removed]",
      "text/plain": [
       "<matplotlib.figure.Figure at 0x1a3b00e160>"
      ]
     },
     "metadata": {},
     "output_type": "display_data"
    }
   ],
   "source": [
    "fig = plt.figure(figsize=(20,20))\n",
    "ax1 = fig.add_subplot(111)\n",
    "g = sns.factorplot('Cause of Death','Percentage Deaths', 'Locality',\n",
    "                       data=stacked_data, kind='box',ax=ax1)\n",
    "g.set_axis_labels('Cause of Death', 'Percentage Deaths')\n",
    "plt.close(g.fig)"
   ]
  },
  {
   "cell_type": "markdown",
   "metadata": {},
   "source": [
    "<p>Median values of Death rate for each cause of death are higher in NonMetropolitan area than that of metropolitan area</p>"
   ]
  },
  {
   "cell_type": "code",
   "execution_count": 1040,
   "metadata": {},
   "outputs": [
    {
     "data": {
      "text/html": [
       "<div>\n",
       "<style>\n",
       "    .dataframe thead tr:only-child th {\n",
       "        text-align: right;\n",
       "    }\n",
       "\n",
       "    .dataframe thead th {\n",
       "        text-align: left;\n",
       "    }\n",
       "\n",
       "    .dataframe tbody tr th {\n",
       "        vertical-align: top;\n",
       "    }\n",
       "</style>\n",
       "<table border=\"1\" class=\"dataframe\">\n",
       "  <thead>\n",
       "    <tr style=\"text-align: right;\">\n",
       "      <th></th>\n",
       "      <th></th>\n",
       "      <th>Percentage Deaths</th>\n",
       "    </tr>\n",
       "    <tr>\n",
       "      <th>Locality</th>\n",
       "      <th>Cause of Death</th>\n",
       "      <th></th>\n",
       "    </tr>\n",
       "  </thead>\n",
       "  <tbody>\n",
       "    <tr>\n",
       "      <th rowspan=\"5\" valign=\"top\">Metropolitan</th>\n",
       "      <th>Cancer</th>\n",
       "      <td>0.004532</td>\n",
       "    </tr>\n",
       "    <tr>\n",
       "      <th>Chronic Lower Respiratory Disease</th>\n",
       "      <td>0.000904</td>\n",
       "    </tr>\n",
       "    <tr>\n",
       "      <th>Heart Disease</th>\n",
       "      <td>0.002659</td>\n",
       "    </tr>\n",
       "    <tr>\n",
       "      <th>Stroke</th>\n",
       "      <td>0.000491</td>\n",
       "    </tr>\n",
       "    <tr>\n",
       "      <th>Unintentional Injury</th>\n",
       "      <td>0.000451</td>\n",
       "    </tr>\n",
       "    <tr>\n",
       "      <th rowspan=\"5\" valign=\"top\">Nonmetropolitan</th>\n",
       "      <th>Cancer</th>\n",
       "      <td>0.004770</td>\n",
       "    </tr>\n",
       "    <tr>\n",
       "      <th>Chronic Lower Respiratory Disease</th>\n",
       "      <td>0.001270</td>\n",
       "    </tr>\n",
       "    <tr>\n",
       "      <th>Heart Disease</th>\n",
       "      <td>0.003058</td>\n",
       "    </tr>\n",
       "    <tr>\n",
       "      <th>Stroke</th>\n",
       "      <td>0.000649</td>\n",
       "    </tr>\n",
       "    <tr>\n",
       "      <th>Unintentional Injury</th>\n",
       "      <td>0.000568</td>\n",
       "    </tr>\n",
       "  </tbody>\n",
       "</table>\n",
       "</div>"
      ],
      "text/plain": [
       "                                                   Percentage Deaths\n",
       "Locality        Cause of Death                                      \n",
       "Metropolitan    Cancer                                      0.004532\n",
       "                Chronic Lower Respiratory Disease           0.000904\n",
       "                Heart Disease                               0.002659\n",
       "                Stroke                                      0.000491\n",
       "                Unintentional Injury                        0.000451\n",
       "Nonmetropolitan Cancer                                      0.004770\n",
       "                Chronic Lower Respiratory Disease           0.001270\n",
       "                Heart Disease                               0.003058\n",
       "                Stroke                                      0.000649\n",
       "                Unintentional Injury                        0.000568"
      ]
     },
     "execution_count": 1040,
     "metadata": {},
     "output_type": "execute_result"
    }
   ],
   "source": [
    "stacked_data.groupby(['Locality', 'Cause of Death'])[['Percentage Deaths']].median()"
   ]
  },
  {
   "cell_type": "code",
   "execution_count": 1041,
   "metadata": {},
   "outputs": [
    {
     "data": {
      "text/html": [
       "<div>\n",
       "<style>\n",
       "    .dataframe thead tr:only-child th {\n",
       "        text-align: right;\n",
       "    }\n",
       "\n",
       "    .dataframe thead th {\n",
       "        text-align: left;\n",
       "    }\n",
       "\n",
       "    .dataframe tbody tr th {\n",
       "        vertical-align: top;\n",
       "    }\n",
       "</style>\n",
       "<table border=\"1\" class=\"dataframe\">\n",
       "  <thead>\n",
       "    <tr style=\"text-align: right;\">\n",
       "      <th></th>\n",
       "      <th>Year</th>\n",
       "      <th>Cause of Death</th>\n",
       "      <th>State FIPS Code</th>\n",
       "      <th>HHS Region</th>\n",
       "      <th>Age Range</th>\n",
       "      <th>Locality</th>\n",
       "      <th>Percentage Deaths</th>\n",
       "    </tr>\n",
       "  </thead>\n",
       "  <tbody>\n",
       "    <tr>\n",
       "      <th>0</th>\n",
       "      <td>2005</td>\n",
       "      <td>Cancer</td>\n",
       "      <td>AL</td>\n",
       "      <td>4</td>\n",
       "      <td>1</td>\n",
       "      <td>Metropolitan</td>\n",
       "      <td>0.000234</td>\n",
       "    </tr>\n",
       "    <tr>\n",
       "      <th>1</th>\n",
       "      <td>2005</td>\n",
       "      <td>Cancer</td>\n",
       "      <td>AL</td>\n",
       "      <td>4</td>\n",
       "      <td>2</td>\n",
       "      <td>Metropolitan</td>\n",
       "      <td>0.001749</td>\n",
       "    </tr>\n",
       "    <tr>\n",
       "      <th>2</th>\n",
       "      <td>2005</td>\n",
       "      <td>Cancer</td>\n",
       "      <td>AL</td>\n",
       "      <td>4</td>\n",
       "      <td>3</td>\n",
       "      <td>Metropolitan</td>\n",
       "      <td>0.003012</td>\n",
       "    </tr>\n",
       "    <tr>\n",
       "      <th>3</th>\n",
       "      <td>2005</td>\n",
       "      <td>Cancer</td>\n",
       "      <td>AL</td>\n",
       "      <td>4</td>\n",
       "      <td>4</td>\n",
       "      <td>Metropolitan</td>\n",
       "      <td>0.004586</td>\n",
       "    </tr>\n",
       "    <tr>\n",
       "      <th>4</th>\n",
       "      <td>2005</td>\n",
       "      <td>Cancer</td>\n",
       "      <td>AL</td>\n",
       "      <td>4</td>\n",
       "      <td>5</td>\n",
       "      <td>Metropolitan</td>\n",
       "      <td>0.006918</td>\n",
       "    </tr>\n",
       "  </tbody>\n",
       "</table>\n",
       "</div>"
      ],
      "text/plain": [
       "   Year Cause of Death State FIPS Code  HHS Region  Age Range      Locality  \\\n",
       "0  2005         Cancer              AL           4          1  Metropolitan   \n",
       "1  2005         Cancer              AL           4          2  Metropolitan   \n",
       "2  2005         Cancer              AL           4          3  Metropolitan   \n",
       "3  2005         Cancer              AL           4          4  Metropolitan   \n",
       "4  2005         Cancer              AL           4          5  Metropolitan   \n",
       "\n",
       "   Percentage Deaths  \n",
       "0           0.000234  \n",
       "1           0.001749  \n",
       "2           0.003012  \n",
       "3           0.004586  \n",
       "4           0.006918  "
      ]
     },
     "execution_count": 1041,
     "metadata": {},
     "output_type": "execute_result"
    }
   ],
   "source": [
    "stacked_data.head()"
   ]
  },
  {
   "cell_type": "markdown",
   "metadata": {},
   "source": [
    "<h2>Comparison of Percentage Deaths of Metropolitan area with nonmetropolitan area</h2>\n",
    "<h3>See the trend in Death rate in each year for each cause of deaths</h3>"
   ]
  },
  {
   "cell_type": "code",
   "execution_count": 1042,
   "metadata": {},
   "outputs": [
    {
     "data": {
      "text/plain": [
       "<matplotlib.axes._subplots.AxesSubplot at 0x1a330f5da0>"
      ]
     },
     "execution_count": 1042,
     "metadata": {},
     "output_type": "execute_result"
    },
    {
     "data": {
      "image/png": "[encoded data removed]",
      "text/plain": [
       "<matplotlib.figure.Figure at 0x1a318c9278>"
      ]
     },
     "metadata": {},
     "output_type": "display_data"
    }
   ],
   "source": [
    "metro_reduced.pivot_table('Percentage Deaths', index='Year', \n",
    "                            columns='Cause of Death', \n",
    "                             aggfunc='mean').plot()"
   ]
  },
  {
   "cell_type": "code",
   "execution_count": 1043,
   "metadata": {},
   "outputs": [
    {
     "data": {
      "text/plain": [
       "<matplotlib.axes._subplots.AxesSubplot at 0x1a376ecf60>"
      ]
     },
     "execution_count": 1043,
     "metadata": {},
     "output_type": "execute_result"
    },
    {
     "data": {
      "image/png": "[encoded data removed]",
      "text/plain": [
       "<matplotlib.figure.Figure at 0x1a376e6fd0>"
      ]
     },
     "metadata": {},
     "output_type": "display_data"
    }
   ],
   "source": [
    "nonMetro_reduced.pivot_table('Percentage Deaths', index='Year', \n",
    "                            columns='Cause of Death', \n",
    "                             aggfunc='mean').plot()"
   ]
  },
  {
   "cell_type": "code",
   "execution_count": 1044,
   "metadata": {},
   "outputs": [],
   "source": [
    "stacked_data.to_csv(\"clean_metro_data.csv\", header=True, index=False)"
   ]
  },
  {
   "cell_type": "code",
   "execution_count": 1045,
   "metadata": {},
   "outputs": [],
   "source": [
    "data = pd.read_csv(\"clean_metro_data.csv\")"
   ]
  },
  {
   "cell_type": "code",
   "execution_count": 1046,
   "metadata": {},
   "outputs": [
    {
     "data": {
      "text/html": [
       "<div>\n",
       "<style>\n",
       "    .dataframe thead tr:only-child th {\n",
       "        text-align: right;\n",
       "    }\n",
       "\n",
       "    .dataframe thead th {\n",
       "        text-align: left;\n",
       "    }\n",
       "\n",
       "    .dataframe tbody tr th {\n",
       "        vertical-align: top;\n",
       "    }\n",
       "</style>\n",
       "<table border=\"1\" class=\"dataframe\">\n",
       "  <thead>\n",
       "    <tr style=\"text-align: right;\">\n",
       "      <th></th>\n",
       "      <th>Year</th>\n",
       "      <th>Cause of Death</th>\n",
       "      <th>State FIPS Code</th>\n",
       "      <th>HHS Region</th>\n",
       "      <th>Age Range</th>\n",
       "      <th>Locality</th>\n",
       "      <th>Percentage Deaths</th>\n",
       "    </tr>\n",
       "  </thead>\n",
       "  <tbody>\n",
       "    <tr>\n",
       "      <th>0</th>\n",
       "      <td>2005</td>\n",
       "      <td>Cancer</td>\n",
       "      <td>AL</td>\n",
       "      <td>4</td>\n",
       "      <td>1</td>\n",
       "      <td>Metropolitan</td>\n",
       "      <td>0.000234</td>\n",
       "    </tr>\n",
       "    <tr>\n",
       "      <th>1</th>\n",
       "      <td>2005</td>\n",
       "      <td>Cancer</td>\n",
       "      <td>AL</td>\n",
       "      <td>4</td>\n",
       "      <td>2</td>\n",
       "      <td>Metropolitan</td>\n",
       "      <td>0.001749</td>\n",
       "    </tr>\n",
       "    <tr>\n",
       "      <th>2</th>\n",
       "      <td>2005</td>\n",
       "      <td>Cancer</td>\n",
       "      <td>AL</td>\n",
       "      <td>4</td>\n",
       "      <td>3</td>\n",
       "      <td>Metropolitan</td>\n",
       "      <td>0.003012</td>\n",
       "    </tr>\n",
       "    <tr>\n",
       "      <th>3</th>\n",
       "      <td>2005</td>\n",
       "      <td>Cancer</td>\n",
       "      <td>AL</td>\n",
       "      <td>4</td>\n",
       "      <td>4</td>\n",
       "      <td>Metropolitan</td>\n",
       "      <td>0.004586</td>\n",
       "    </tr>\n",
       "    <tr>\n",
       "      <th>4</th>\n",
       "      <td>2005</td>\n",
       "      <td>Cancer</td>\n",
       "      <td>AL</td>\n",
       "      <td>4</td>\n",
       "      <td>5</td>\n",
       "      <td>Metropolitan</td>\n",
       "      <td>0.006918</td>\n",
       "    </tr>\n",
       "  </tbody>\n",
       "</table>\n",
       "</div>"
      ],
      "text/plain": [
       "   Year Cause of Death State FIPS Code  HHS Region  Age Range      Locality  \\\n",
       "0  2005         Cancer              AL           4          1  Metropolitan   \n",
       "1  2005         Cancer              AL           4          2  Metropolitan   \n",
       "2  2005         Cancer              AL           4          3  Metropolitan   \n",
       "3  2005         Cancer              AL           4          4  Metropolitan   \n",
       "4  2005         Cancer              AL           4          5  Metropolitan   \n",
       "\n",
       "   Percentage Deaths  \n",
       "0           0.000234  \n",
       "1           0.001749  \n",
       "2           0.003012  \n",
       "3           0.004586  \n",
       "4           0.006918  "
      ]
     },
     "execution_count": 1046,
     "metadata": {},
     "output_type": "execute_result"
    }
   ],
   "source": [
    "data.head()"
   ]
  },
  {
   "cell_type": "code",
   "execution_count": null,
   "metadata": {},
   "outputs": [],
   "source": [
    " "
   ]
  }
 ],
 "metadata": {
  "kernelspec": {
   "display_name": "Python 3",
   "language": "python",
   "name": "python3"
  },
  "language_info": {
   "codemirror_mode": {
    "name": "ipython",
    "version": 3
   },
   "file_extension": ".py",
   "mimetype": "text/x-python",
   "name": "python",
   "nbconvert_exporter": "python",
   "pygments_lexer": "ipython3",
   "version": "3.5.4"
  }
 },
 "nbformat": 4,
 "nbformat_minor": 2
}
